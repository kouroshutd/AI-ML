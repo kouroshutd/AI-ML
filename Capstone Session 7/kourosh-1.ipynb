{
 "cells": [
  {
   "cell_type": "markdown",
   "id": "7d1d21a7",
   "metadata": {},
   "source": [
    "Task 0 — Setup & Imports"
   ]
  },
  {
   "cell_type": "code",
   "execution_count": 1,
   "id": "fc1e6a29",
   "metadata": {},
   "outputs": [],
   "source": [
    "# Task 0: imports & reproducibility\n",
    "import numpy as np\n",
    "import pandas as pd\n",
    "import matplotlib.pyplot as plt\n",
    "\n",
    "from sklearn.impute import SimpleImputer\n",
    "from sklearn.preprocessing import StandardScaler\n",
    "from sklearn.decomposition import PCA\n",
    "from sklearn.cluster import KMeans\n",
    "\n",
    "RANDOM_STATE = 0\n",
    "np.random.seed(RANDOM_STATE)\n"
   ]
  },
  {
   "cell_type": "markdown",
   "id": "a2dcd25b",
   "metadata": {},
   "source": [
    "Task 1 — Load data, separate ID, check/handle nulls"
   ]
  },
  {
   "cell_type": "code",
   "execution_count": 2,
   "id": "e1f6cf39",
   "metadata": {},
   "outputs": [
    {
     "data": {
      "application/vnd.microsoft.datawrangler.viewer.v0+json": {
       "columns": [
        {
         "name": "index",
         "rawType": "object",
         "type": "string"
        },
        {
         "name": "NullCount",
         "rawType": "int64",
         "type": "integer"
        }
       ],
       "ref": "6d1c64d5-1ba5-45bc-bf5c-d125eb210b81",
       "rows": [
        [
         "MINIMUM_PAYMENTS",
         "313"
        ],
        [
         "CREDIT_LIMIT",
         "1"
        ],
        [
         "CUST_ID",
         "0"
        ],
        [
         "BALANCE",
         "0"
        ],
        [
         "PRC_FULL_PAYMENT",
         "0"
        ],
        [
         "PAYMENTS",
         "0"
        ],
        [
         "PURCHASES_TRX",
         "0"
        ],
        [
         "CASH_ADVANCE_TRX",
         "0"
        ],
        [
         "CASH_ADVANCE_FREQUENCY",
         "0"
        ],
        [
         "PURCHASES_INSTALLMENTS_FREQUENCY",
         "0"
        ],
        [
         "ONEOFF_PURCHASES_FREQUENCY",
         "0"
        ],
        [
         "PURCHASES_FREQUENCY",
         "0"
        ],
        [
         "CASH_ADVANCE",
         "0"
        ],
        [
         "INSTALLMENTS_PURCHASES",
         "0"
        ],
        [
         "ONEOFF_PURCHASES",
         "0"
        ],
        [
         "PURCHASES",
         "0"
        ],
        [
         "BALANCE_FREQUENCY",
         "0"
        ],
        [
         "TENURE",
         "0"
        ]
       ],
       "shape": {
        "columns": 1,
        "rows": 18
       }
      },
      "text/html": [
       "<div>\n",
       "<style scoped>\n",
       "    .dataframe tbody tr th:only-of-type {\n",
       "        vertical-align: middle;\n",
       "    }\n",
       "\n",
       "    .dataframe tbody tr th {\n",
       "        vertical-align: top;\n",
       "    }\n",
       "\n",
       "    .dataframe thead th {\n",
       "        text-align: right;\n",
       "    }\n",
       "</style>\n",
       "<table border=\"1\" class=\"dataframe\">\n",
       "  <thead>\n",
       "    <tr style=\"text-align: right;\">\n",
       "      <th></th>\n",
       "      <th>NullCount</th>\n",
       "    </tr>\n",
       "  </thead>\n",
       "  <tbody>\n",
       "    <tr>\n",
       "      <th>MINIMUM_PAYMENTS</th>\n",
       "      <td>313</td>\n",
       "    </tr>\n",
       "    <tr>\n",
       "      <th>CREDIT_LIMIT</th>\n",
       "      <td>1</td>\n",
       "    </tr>\n",
       "    <tr>\n",
       "      <th>CUST_ID</th>\n",
       "      <td>0</td>\n",
       "    </tr>\n",
       "    <tr>\n",
       "      <th>BALANCE</th>\n",
       "      <td>0</td>\n",
       "    </tr>\n",
       "    <tr>\n",
       "      <th>PRC_FULL_PAYMENT</th>\n",
       "      <td>0</td>\n",
       "    </tr>\n",
       "    <tr>\n",
       "      <th>PAYMENTS</th>\n",
       "      <td>0</td>\n",
       "    </tr>\n",
       "    <tr>\n",
       "      <th>PURCHASES_TRX</th>\n",
       "      <td>0</td>\n",
       "    </tr>\n",
       "    <tr>\n",
       "      <th>CASH_ADVANCE_TRX</th>\n",
       "      <td>0</td>\n",
       "    </tr>\n",
       "    <tr>\n",
       "      <th>CASH_ADVANCE_FREQUENCY</th>\n",
       "      <td>0</td>\n",
       "    </tr>\n",
       "    <tr>\n",
       "      <th>PURCHASES_INSTALLMENTS_FREQUENCY</th>\n",
       "      <td>0</td>\n",
       "    </tr>\n",
       "    <tr>\n",
       "      <th>ONEOFF_PURCHASES_FREQUENCY</th>\n",
       "      <td>0</td>\n",
       "    </tr>\n",
       "    <tr>\n",
       "      <th>PURCHASES_FREQUENCY</th>\n",
       "      <td>0</td>\n",
       "    </tr>\n",
       "    <tr>\n",
       "      <th>CASH_ADVANCE</th>\n",
       "      <td>0</td>\n",
       "    </tr>\n",
       "    <tr>\n",
       "      <th>INSTALLMENTS_PURCHASES</th>\n",
       "      <td>0</td>\n",
       "    </tr>\n",
       "    <tr>\n",
       "      <th>ONEOFF_PURCHASES</th>\n",
       "      <td>0</td>\n",
       "    </tr>\n",
       "    <tr>\n",
       "      <th>PURCHASES</th>\n",
       "      <td>0</td>\n",
       "    </tr>\n",
       "    <tr>\n",
       "      <th>BALANCE_FREQUENCY</th>\n",
       "      <td>0</td>\n",
       "    </tr>\n",
       "    <tr>\n",
       "      <th>TENURE</th>\n",
       "      <td>0</td>\n",
       "    </tr>\n",
       "  </tbody>\n",
       "</table>\n",
       "</div>"
      ],
      "text/plain": [
       "                                  NullCount\n",
       "MINIMUM_PAYMENTS                        313\n",
       "CREDIT_LIMIT                              1\n",
       "CUST_ID                                   0\n",
       "BALANCE                                   0\n",
       "PRC_FULL_PAYMENT                          0\n",
       "PAYMENTS                                  0\n",
       "PURCHASES_TRX                             0\n",
       "CASH_ADVANCE_TRX                          0\n",
       "CASH_ADVANCE_FREQUENCY                    0\n",
       "PURCHASES_INSTALLMENTS_FREQUENCY          0\n",
       "ONEOFF_PURCHASES_FREQUENCY                0\n",
       "PURCHASES_FREQUENCY                       0\n",
       "CASH_ADVANCE                              0\n",
       "INSTALLMENTS_PURCHASES                    0\n",
       "ONEOFF_PURCHASES                          0\n",
       "PURCHASES                                 0\n",
       "BALANCE_FREQUENCY                         0\n",
       "TENURE                                    0"
      ]
     },
     "metadata": {},
     "output_type": "display_data"
    }
   ],
   "source": [
    "# Task 1: load & inspect\n",
    "PATH = \"CC GENERAL.csv\"  # adjust if needed\n",
    "df = pd.read_csv(PATH)\n",
    "\n",
    "# keep CUST_ID aside (non-numeric, not used for PCA/KMeans)\n",
    "id_col = next((c for c in df.columns if c.lower() in (\"cust_id\",\"customer_id\",\"id\")), None)\n",
    "ids = df[id_col] if id_col else pd.Series(np.arange(len(df)), name=\"id\")\n",
    "\n",
    "# numeric features only\n",
    "num = df.select_dtypes(include=[np.number]).copy()\n",
    "\n",
    "# null overview\n",
    "display(df.isna().sum().sort_values(ascending=False).to_frame(\"NullCount\").head(20))\n",
    "\n",
    "# handle nulls (median is robust)\n",
    "imputer = SimpleImputer(strategy=\"median\")\n",
    "X_num = pd.DataFrame(imputer.fit_transform(num), columns=num.columns, index=num.index)\n"
   ]
  },
  {
   "cell_type": "markdown",
   "id": "9235694c",
   "metadata": {},
   "source": [
    "Task 2 — Standardize features"
   ]
  },
  {
   "cell_type": "code",
   "execution_count": 3,
   "id": "b0f77581",
   "metadata": {},
   "outputs": [],
   "source": [
    "# Task 2: scaling\n",
    "scaler = StandardScaler()\n",
    "X_scaled = scaler.fit_transform(X_num)\n"
   ]
  },
  {
   "cell_type": "markdown",
   "id": "c1772bc4",
   "metadata": {},
   "source": [
    "Task 3 — PCA (all columns) & choose components for ≥85% variance"
   ]
  },
  {
   "cell_type": "code",
   "execution_count": 4,
   "id": "00ab6ff0",
   "metadata": {},
   "outputs": [
    {
     "name": "stdout",
     "output_type": "stream",
     "text": [
      "Components needed for ≥85% variance: 8\n"
     ]
    },
    {
     "data": {
      "image/png": "[encoded data removed]",
      "text/plain": [
       "<Figure size 640x480 with 1 Axes>"
      ]
     },
     "metadata": {},
     "output_type": "display_data"
    }
   ],
   "source": [
    "# Task 3: full PCA to see cumulative EV\n",
    "pca_full = PCA(random_state=RANDOM_STATE)\n",
    "pca_full.fit(X_scaled)\n",
    "\n",
    "cum_ev = np.cumsum(pca_full.explained_variance_ratio_)\n",
    "n_components_85 = np.argmax(cum_ev >= 0.85) + 1\n",
    "print(\"Components needed for ≥85% variance:\", n_components_85)\n",
    "\n",
    "# plot: components vs cumulative explained variance\n",
    "plt.figure()\n",
    "plt.plot(range(1, len(cum_ev)+1), cum_ev, marker='o')\n",
    "plt.xlabel(\"Number of components\")\n",
    "plt.ylabel(\"Cumulative explained variance ratio\")\n",
    "plt.title(\"PCA cumulative explained variance\")\n",
    "plt.grid(True)\n",
    "plt.tight_layout()\n",
    "plt.show()\n"
   ]
  },
  {
   "cell_type": "markdown",
   "id": "f05a1052",
   "metadata": {},
   "source": [
    "Task 4 — PCA to 2D for visualization"
   ]
  },
  {
   "cell_type": "code",
   "execution_count": 5,
   "id": "e10848b7",
   "metadata": {},
   "outputs": [
    {
     "data": {
      "application/vnd.microsoft.datawrangler.viewer.v0+json": {
       "columns": [
        {
         "name": "index",
         "rawType": "int64",
         "type": "integer"
        },
        {
         "name": "PC1",
         "rawType": "float64",
         "type": "float"
        },
        {
         "name": "PC2",
         "rawType": "float64",
         "type": "float"
        },
        {
         "name": "CUST_ID",
         "rawType": "object",
         "type": "string"
        }
       ],
       "ref": "a36d22a1-a31f-4c37-ad2a-f92910424fee",
       "rows": [
        [
         "0",
         "-1.683648791533597",
         "-1.072241484970285",
         "C10001"
        ],
        [
         "1",
         "-1.1340849338928765",
         "2.509149806907929",
         "C10002"
        ],
        [
         "2",
         "0.9693949881955963",
         "-0.3835769025902046",
         "C10003"
        ],
        [
         "3",
         "-0.8882203933584536",
         "0.004648422505489056",
         "C10004"
        ],
        [
         "4",
         "-1.6000209527055864",
         "-0.6837952385254046",
         "C10005"
        ]
       ],
       "shape": {
        "columns": 3,
        "rows": 5
       }
      },
      "text/html": [
       "<div>\n",
       "<style scoped>\n",
       "    .dataframe tbody tr th:only-of-type {\n",
       "        vertical-align: middle;\n",
       "    }\n",
       "\n",
       "    .dataframe tbody tr th {\n",
       "        vertical-align: top;\n",
       "    }\n",
       "\n",
       "    .dataframe thead th {\n",
       "        text-align: right;\n",
       "    }\n",
       "</style>\n",
       "<table border=\"1\" class=\"dataframe\">\n",
       "  <thead>\n",
       "    <tr style=\"text-align: right;\">\n",
       "      <th></th>\n",
       "      <th>PC1</th>\n",
       "      <th>PC2</th>\n",
       "      <th>CUST_ID</th>\n",
       "    </tr>\n",
       "  </thead>\n",
       "  <tbody>\n",
       "    <tr>\n",
       "      <th>0</th>\n",
       "      <td>-1.683649</td>\n",
       "      <td>-1.072241</td>\n",
       "      <td>C10001</td>\n",
       "    </tr>\n",
       "    <tr>\n",
       "      <th>1</th>\n",
       "      <td>-1.134085</td>\n",
       "      <td>2.509150</td>\n",
       "      <td>C10002</td>\n",
       "    </tr>\n",
       "    <tr>\n",
       "      <th>2</th>\n",
       "      <td>0.969395</td>\n",
       "      <td>-0.383577</td>\n",
       "      <td>C10003</td>\n",
       "    </tr>\n",
       "    <tr>\n",
       "      <th>3</th>\n",
       "      <td>-0.888220</td>\n",
       "      <td>0.004648</td>\n",
       "      <td>C10004</td>\n",
       "    </tr>\n",
       "    <tr>\n",
       "      <th>4</th>\n",
       "      <td>-1.600021</td>\n",
       "      <td>-0.683795</td>\n",
       "      <td>C10005</td>\n",
       "    </tr>\n",
       "  </tbody>\n",
       "</table>\n",
       "</div>"
      ],
      "text/plain": [
       "        PC1       PC2 CUST_ID\n",
       "0 -1.683649 -1.072241  C10001\n",
       "1 -1.134085  2.509150  C10002\n",
       "2  0.969395 -0.383577  C10003\n",
       "3 -0.888220  0.004648  C10004\n",
       "4 -1.600021 -0.683795  C10005"
      ]
     },
     "execution_count": 5,
     "metadata": {},
     "output_type": "execute_result"
    }
   ],
   "source": [
    "# Task 4: 2 principal components (for plotting/clustering)\n",
    "pca2 = PCA(n_components=2, random_state=RANDOM_STATE)\n",
    "X_pca2 = pca2.fit_transform(X_scaled)\n",
    "\n",
    "pc_df = pd.DataFrame(X_pca2, columns=[\"PC1\",\"PC2\"])\n",
    "pc_df[id_col if id_col else \"id\"] = ids.values\n",
    "pc_df.head()\n"
   ]
  },
  {
   "cell_type": "markdown",
   "id": "3ff31120",
   "metadata": {},
   "source": [
    "Task 5 — Interpret PCA via covariance & find strongest pair"
   ]
  },
  {
   "cell_type": "code",
   "execution_count": 6,
   "id": "a9bb8ea4",
   "metadata": {},
   "outputs": [
    {
     "name": "stdout",
     "output_type": "stream",
     "text": [
      "Top covariance pair (by |cov|): PURCHASES <-> PURCHASES_TRX | covariance = 0.6483212539334364\n"
     ]
    },
    {
     "data": {
      "application/vnd.microsoft.datawrangler.viewer.v0+json": {
       "columns": [
        {
         "name": "index",
         "rawType": "object",
         "type": "string"
        },
        {
         "name": "BALANCE",
         "rawType": "float64",
         "type": "float"
        },
        {
         "name": "BALANCE_FREQUENCY",
         "rawType": "float64",
         "type": "float"
        },
        {
         "name": "PURCHASES",
         "rawType": "float64",
         "type": "float"
        },
        {
         "name": "ONEOFF_PURCHASES",
         "rawType": "float64",
         "type": "float"
        },
        {
         "name": "INSTALLMENTS_PURCHASES",
         "rawType": "float64",
         "type": "float"
        },
        {
         "name": "CASH_ADVANCE",
         "rawType": "float64",
         "type": "float"
        },
        {
         "name": "PURCHASES_FREQUENCY",
         "rawType": "float64",
         "type": "float"
        },
        {
         "name": "ONEOFF_PURCHASES_FREQUENCY",
         "rawType": "float64",
         "type": "float"
        },
        {
         "name": "PURCHASES_INSTALLMENTS_FREQUENCY",
         "rawType": "float64",
         "type": "float"
        },
        {
         "name": "CASH_ADVANCE_FREQUENCY",
         "rawType": "float64",
         "type": "float"
        },
        {
         "name": "CASH_ADVANCE_TRX",
         "rawType": "float64",
         "type": "float"
        },
        {
         "name": "PURCHASES_TRX",
         "rawType": "float64",
         "type": "float"
        },
        {
         "name": "CREDIT_LIMIT",
         "rawType": "float64",
         "type": "float"
        },
        {
         "name": "PAYMENTS",
         "rawType": "float64",
         "type": "float"
        },
        {
         "name": "MINIMUM_PAYMENTS",
         "rawType": "float64",
         "type": "float"
        },
        {
         "name": "PRC_FULL_PAYMENT",
         "rawType": "float64",
         "type": "float"
        },
        {
         "name": "TENURE",
         "rawType": "float64",
         "type": "float"
        }
       ],
       "ref": "857ba86d-314e-455f-9f1a-d031ad716f44",
       "rows": [
        [
         "BALANCE",
         "1.1020597693992786",
         "0.20130060644492342",
         "0.21568651941200256",
         "0.21411268465892308",
         "0.11651713917537176",
         "0.4976358659696989",
         "-0.08848658068130573",
         "0.09982262327479449",
         "-0.09354987996973212",
         "0.4648887747781342",
         "0.4648227218634675",
         "0.13753845641077808",
         "0.3621544295615792",
         "0.40620349959767055",
         "0.22130375924825998",
         "-0.16522207017142326",
         "0.02847297230652415"
        ],
        [
         "BALANCE_FREQUENCY",
         "0.20130060644492342",
         "0.7018993490978715",
         "0.2157384532173918",
         "0.19215284481267805",
         "0.15702296821269254",
         "0.15378992428801636",
         "0.08485133185681282",
         "0.13664105315262326",
         "0.06667149719931122",
         "0.11987263625275599",
         "0.1341586377630927",
         "0.18290473971095733",
         "0.19275548559370412",
         "0.22638446615521182",
         "0.09436073282326646",
         "-0.007105033711458033",
         "0.03794404552421235"
        ],
        [
         "PURCHASES",
         "0.21568651941200256",
         "0.21573845321739177",
         "1.2839343180031109",
         "0.5839848615198322",
         "0.5587559636417868",
         "0.012259264077694603",
         "0.5132040673768119",
         "0.4884188189628374",
         "0.43675720064504525",
         "-0.09786057759793253",
         "-0.032144982391911395",
         "0.6483212539334364",
         "0.3802407419154807",
         "0.47327041541079484",
         "0.12474069718613565",
         "0.1978409306599034",
         "0.13457917804189362"
        ],
        [
         "ONEOFF_PURCHASES",
         "0.21411268465892305",
         "0.19215284481267805",
         "0.5839848615198322",
         "1.090232881651609",
         "0.46865062701170757",
         "0.04576965713671035",
         "0.4164306600283573",
         "0.40951078868289825",
         "0.3530914082234835",
         "-0.04729349684021924",
         "0.0068377474372489895",
         "0.543940602520186",
         "0.339198520969853",
         "0.4189930584510018",
         "0.11862345245019817",
         "0.15113663833070784",
         "0.11290618947107739"
        ],
        [
         "INSTALLMENTS_PURCHASES",
         "0.11651713917537176",
         "0.15702296821269257",
         "0.5587559636417869",
         "0.4686506270117076",
         "1.0538528988321043",
         "-0.05516567492822118",
         "0.4483152996584167",
         "0.40240504349377654",
         "0.38393914393020134",
         "-0.14454277483412362",
         "-0.0886210180237533",
         "0.5334838980237326",
         "0.27578400077574056",
         "0.34913042842489617",
         "0.07696226944965548",
         "0.19010863188800928",
         "0.11075132657494294"
        ]
       ],
       "shape": {
        "columns": 17,
        "rows": 5
       }
      },
      "text/html": [
       "<div>\n",
       "<style scoped>\n",
       "    .dataframe tbody tr th:only-of-type {\n",
       "        vertical-align: middle;\n",
       "    }\n",
       "\n",
       "    .dataframe tbody tr th {\n",
       "        vertical-align: top;\n",
       "    }\n",
       "\n",
       "    .dataframe thead th {\n",
       "        text-align: right;\n",
       "    }\n",
       "</style>\n",
       "<table border=\"1\" class=\"dataframe\">\n",
       "  <thead>\n",
       "    <tr style=\"text-align: right;\">\n",
       "      <th></th>\n",
       "      <th>BALANCE</th>\n",
       "      <th>BALANCE_FREQUENCY</th>\n",
       "      <th>PURCHASES</th>\n",
       "      <th>ONEOFF_PURCHASES</th>\n",
       "      <th>INSTALLMENTS_PURCHASES</th>\n",
       "      <th>CASH_ADVANCE</th>\n",
       "      <th>PURCHASES_FREQUENCY</th>\n",
       "      <th>ONEOFF_PURCHASES_FREQUENCY</th>\n",
       "      <th>PURCHASES_INSTALLMENTS_FREQUENCY</th>\n",
       "      <th>CASH_ADVANCE_FREQUENCY</th>\n",
       "      <th>CASH_ADVANCE_TRX</th>\n",
       "      <th>PURCHASES_TRX</th>\n",
       "      <th>CREDIT_LIMIT</th>\n",
       "      <th>PAYMENTS</th>\n",
       "      <th>MINIMUM_PAYMENTS</th>\n",
       "      <th>PRC_FULL_PAYMENT</th>\n",
       "      <th>TENURE</th>\n",
       "    </tr>\n",
       "  </thead>\n",
       "  <tbody>\n",
       "    <tr>\n",
       "      <th>BALANCE</th>\n",
       "      <td>1.102060</td>\n",
       "      <td>0.201301</td>\n",
       "      <td>0.215687</td>\n",
       "      <td>0.214113</td>\n",
       "      <td>0.116517</td>\n",
       "      <td>0.497636</td>\n",
       "      <td>-0.088487</td>\n",
       "      <td>0.099823</td>\n",
       "      <td>-0.093550</td>\n",
       "      <td>0.464889</td>\n",
       "      <td>0.464823</td>\n",
       "      <td>0.137538</td>\n",
       "      <td>0.362154</td>\n",
       "      <td>0.406203</td>\n",
       "      <td>0.221304</td>\n",
       "      <td>-0.165222</td>\n",
       "      <td>0.028473</td>\n",
       "    </tr>\n",
       "    <tr>\n",
       "      <th>BALANCE_FREQUENCY</th>\n",
       "      <td>0.201301</td>\n",
       "      <td>0.701899</td>\n",
       "      <td>0.215738</td>\n",
       "      <td>0.192153</td>\n",
       "      <td>0.157023</td>\n",
       "      <td>0.153790</td>\n",
       "      <td>0.084851</td>\n",
       "      <td>0.136641</td>\n",
       "      <td>0.066671</td>\n",
       "      <td>0.119873</td>\n",
       "      <td>0.134159</td>\n",
       "      <td>0.182905</td>\n",
       "      <td>0.192755</td>\n",
       "      <td>0.226384</td>\n",
       "      <td>0.094361</td>\n",
       "      <td>-0.007105</td>\n",
       "      <td>0.037944</td>\n",
       "    </tr>\n",
       "    <tr>\n",
       "      <th>PURCHASES</th>\n",
       "      <td>0.215687</td>\n",
       "      <td>0.215738</td>\n",
       "      <td>1.283934</td>\n",
       "      <td>0.583985</td>\n",
       "      <td>0.558756</td>\n",
       "      <td>0.012259</td>\n",
       "      <td>0.513204</td>\n",
       "      <td>0.488419</td>\n",
       "      <td>0.436757</td>\n",
       "      <td>-0.097861</td>\n",
       "      <td>-0.032145</td>\n",
       "      <td>0.648321</td>\n",
       "      <td>0.380241</td>\n",
       "      <td>0.473270</td>\n",
       "      <td>0.124741</td>\n",
       "      <td>0.197841</td>\n",
       "      <td>0.134579</td>\n",
       "    </tr>\n",
       "    <tr>\n",
       "      <th>ONEOFF_PURCHASES</th>\n",
       "      <td>0.214113</td>\n",
       "      <td>0.192153</td>\n",
       "      <td>0.583985</td>\n",
       "      <td>1.090233</td>\n",
       "      <td>0.468651</td>\n",
       "      <td>0.045770</td>\n",
       "      <td>0.416431</td>\n",
       "      <td>0.409511</td>\n",
       "      <td>0.353091</td>\n",
       "      <td>-0.047293</td>\n",
       "      <td>0.006838</td>\n",
       "      <td>0.543941</td>\n",
       "      <td>0.339199</td>\n",
       "      <td>0.418993</td>\n",
       "      <td>0.118623</td>\n",
       "      <td>0.151137</td>\n",
       "      <td>0.112906</td>\n",
       "    </tr>\n",
       "    <tr>\n",
       "      <th>INSTALLMENTS_PURCHASES</th>\n",
       "      <td>0.116517</td>\n",
       "      <td>0.157023</td>\n",
       "      <td>0.558756</td>\n",
       "      <td>0.468651</td>\n",
       "      <td>1.053853</td>\n",
       "      <td>-0.055166</td>\n",
       "      <td>0.448315</td>\n",
       "      <td>0.402405</td>\n",
       "      <td>0.383939</td>\n",
       "      <td>-0.144543</td>\n",
       "      <td>-0.088621</td>\n",
       "      <td>0.533484</td>\n",
       "      <td>0.275784</td>\n",
       "      <td>0.349130</td>\n",
       "      <td>0.076962</td>\n",
       "      <td>0.190109</td>\n",
       "      <td>0.110751</td>\n",
       "    </tr>\n",
       "  </tbody>\n",
       "</table>\n",
       "</div>"
      ],
      "text/plain": [
       "                         BALANCE  BALANCE_FREQUENCY  PURCHASES  \\\n",
       "BALANCE                 1.102060           0.201301   0.215687   \n",
       "BALANCE_FREQUENCY       0.201301           0.701899   0.215738   \n",
       "PURCHASES               0.215687           0.215738   1.283934   \n",
       "ONEOFF_PURCHASES        0.214113           0.192153   0.583985   \n",
       "INSTALLMENTS_PURCHASES  0.116517           0.157023   0.558756   \n",
       "\n",
       "                        ONEOFF_PURCHASES  INSTALLMENTS_PURCHASES  \\\n",
       "BALANCE                         0.214113                0.116517   \n",
       "BALANCE_FREQUENCY               0.192153                0.157023   \n",
       "PURCHASES                       0.583985                0.558756   \n",
       "ONEOFF_PURCHASES                1.090233                0.468651   \n",
       "INSTALLMENTS_PURCHASES          0.468651                1.053853   \n",
       "\n",
       "                        CASH_ADVANCE  PURCHASES_FREQUENCY  \\\n",
       "BALANCE                     0.497636            -0.088487   \n",
       "BALANCE_FREQUENCY           0.153790             0.084851   \n",
       "PURCHASES                   0.012259             0.513204   \n",
       "ONEOFF_PURCHASES            0.045770             0.416431   \n",
       "INSTALLMENTS_PURCHASES     -0.055166             0.448315   \n",
       "\n",
       "                        ONEOFF_PURCHASES_FREQUENCY  \\\n",
       "BALANCE                                   0.099823   \n",
       "BALANCE_FREQUENCY                         0.136641   \n",
       "PURCHASES                                 0.488419   \n",
       "ONEOFF_PURCHASES                          0.409511   \n",
       "INSTALLMENTS_PURCHASES                    0.402405   \n",
       "\n",
       "                        PURCHASES_INSTALLMENTS_FREQUENCY  \\\n",
       "BALANCE                                        -0.093550   \n",
       "BALANCE_FREQUENCY                               0.066671   \n",
       "PURCHASES                                       0.436757   \n",
       "ONEOFF_PURCHASES                                0.353091   \n",
       "INSTALLMENTS_PURCHASES                          0.383939   \n",
       "\n",
       "                        CASH_ADVANCE_FREQUENCY  CASH_ADVANCE_TRX  \\\n",
       "BALANCE                               0.464889          0.464823   \n",
       "BALANCE_FREQUENCY                     0.119873          0.134159   \n",
       "PURCHASES                            -0.097861         -0.032145   \n",
       "ONEOFF_PURCHASES                     -0.047293          0.006838   \n",
       "INSTALLMENTS_PURCHASES               -0.144543         -0.088621   \n",
       "\n",
       "                        PURCHASES_TRX  CREDIT_LIMIT  PAYMENTS  \\\n",
       "BALANCE                      0.137538      0.362154  0.406203   \n",
       "BALANCE_FREQUENCY            0.182905      0.192755  0.226384   \n",
       "PURCHASES                    0.648321      0.380241  0.473270   \n",
       "ONEOFF_PURCHASES             0.543941      0.339199  0.418993   \n",
       "INSTALLMENTS_PURCHASES       0.533484      0.275784  0.349130   \n",
       "\n",
       "                        MINIMUM_PAYMENTS  PRC_FULL_PAYMENT    TENURE  \n",
       "BALANCE                         0.221304         -0.165222  0.028473  \n",
       "BALANCE_FREQUENCY               0.094361         -0.007105  0.037944  \n",
       "PURCHASES                       0.124741          0.197841  0.134579  \n",
       "ONEOFF_PURCHASES                0.118623          0.151137  0.112906  \n",
       "INSTALLMENTS_PURCHASES          0.076962          0.190109  0.110751  "
      ]
     },
     "execution_count": 6,
     "metadata": {},
     "output_type": "execute_result"
    }
   ],
   "source": [
    "# Task 5: interpret PCA with get_covariance() and find largest |cov|\n",
    "cov = pca2.get_covariance()                     # covariance in original feature space\n",
    "cov_df = pd.DataFrame(cov, index=X_num.columns, columns=X_num.columns)\n",
    "\n",
    "# find pair with largest absolute off-diagonal covariance\n",
    "cov_abs = cov_df.abs().copy()\n",
    "np.fill_diagonal(cov_abs.values, 0.0)\n",
    "i, j = np.unravel_index(np.argmax(cov_abs.values), cov_abs.shape)\n",
    "top_pair = (cov_df.index[i], cov_df.columns[j], cov_df.values[i, j])\n",
    "\n",
    "print(\"Top covariance pair (by |cov|):\", top_pair[0], \"<->\", top_pair[1], \"| covariance =\", top_pair[2])\n",
    "cov_df.head()\n"
   ]
  },
  {
   "cell_type": "markdown",
   "id": "170d3c57",
   "metadata": {},
   "source": [
    "Task 6 — K-Means (k=2..11) on PCA-2D & Elbow"
   ]
  },
  {
   "cell_type": "code",
   "execution_count": 7,
   "id": "77ebcff1",
   "metadata": {},
   "outputs": [
    {
     "data": {
      "image/png": "[encoded data removed]",
      "text/plain": [
       "<Figure size 640x480 with 1 Axes>"
      ]
     },
     "metadata": {},
     "output_type": "display_data"
    },
    {
     "name": "stdout",
     "output_type": "stream",
     "text": [
      "Heuristic elbow k: 5\n"
     ]
    }
   ],
   "source": [
    "# Task 6: elbow method on 2D PCA space\n",
    "ks = range(2, 12)\n",
    "inertias = []\n",
    "\n",
    "for k in ks:\n",
    "    km = KMeans(n_clusters=k, n_init=10, random_state=RANDOM_STATE)\n",
    "    km.fit(X_pca2)\n",
    "    inertias.append(km.inertia_)\n",
    "\n",
    "plt.figure()\n",
    "plt.plot(list(ks), inertias, marker='o')\n",
    "plt.xlabel(\"Number of clusters (k)\")\n",
    "plt.ylabel(\"K-Means inertia\")\n",
    "plt.title(\"Elbow method on 2D PCA data\")\n",
    "plt.grid(True)\n",
    "plt.tight_layout()\n",
    "plt.show()\n",
    "\n",
    "# optional: automatic elbow (distance-to-line heuristic)\n",
    "x1, y1 = 2, inertias[0]\n",
    "x2, y2 = 11, inertias[-1]\n",
    "dists = []\n",
    "for k, sse in zip(ks, inertias):\n",
    "    num = abs((y2 - y1)*k - (x2 - x1)*sse + x2*y1 - y2*x1)\n",
    "    den = np.sqrt((y2 - y1)**2 + (x2 - x1)**2)\n",
    "    dists.append(num/den if den != 0 else 0)\n",
    "k_elbow = list(ks)[int(np.argmax(dists))]\n",
    "print(\"Heuristic elbow k:\", k_elbow)\n"
   ]
  },
  {
   "cell_type": "markdown",
   "id": "9d28ff1b",
   "metadata": {},
   "source": [
    "Task 7 — Final K-Means with chosen k & visualize clusters"
   ]
  },
  {
   "cell_type": "code",
   "execution_count": 8,
   "id": "441bc955",
   "metadata": {},
   "outputs": [
    {
     "data": {
      "image/png": "[encoded data removed]",
      "text/plain": [
       "<Figure size 640x480 with 1 Axes>"
      ]
     },
     "metadata": {},
     "output_type": "display_data"
    }
   ],
   "source": [
    "# Task 7: fit final model at chosen k (use k_elbow or your visual pick)\n",
    "K_FINAL = k_elbow  # or overwrite with the k you see as the elbow\n",
    "km_final = KMeans(n_clusters=K_FINAL, n_init=10, random_state=RANDOM_STATE)\n",
    "labels = km_final.fit_predict(X_pca2)\n",
    "\n",
    "plt.figure()\n",
    "for lbl in np.unique(labels):\n",
    "    mask = labels == lbl\n",
    "    plt.scatter(X_pca2[mask, 0], X_pca2[mask, 1], label=f\"Cluster {lbl}\")\n",
    "plt.xlabel(\"PC1\")\n",
    "plt.ylabel(\"PC2\")\n",
    "plt.title(f\"K-Means clusters (k={K_FINAL}) on PCA (2D)\")\n",
    "plt.legend()\n",
    "plt.grid(True)\n",
    "plt.tight_layout()\n",
    "plt.show()\n"
   ]
  },
  {
   "cell_type": "markdown",
   "id": "bea4749e",
   "metadata": {},
   "source": [
    "Task 8 — Export labeled data"
   ]
  },
  {
   "cell_type": "code",
   "execution_count": 9,
   "id": "6738d5a0",
   "metadata": {},
   "outputs": [
    {
     "name": "stdout",
     "output_type": "stream",
     "text": [
      "Saved: cc_clusters.csv\n"
     ]
    },
    {
     "data": {
      "application/vnd.microsoft.datawrangler.viewer.v0+json": {
       "columns": [
        {
         "name": "index",
         "rawType": "int64",
         "type": "integer"
        },
        {
         "name": "PC1",
         "rawType": "float64",
         "type": "float"
        },
        {
         "name": "PC2",
         "rawType": "float64",
         "type": "float"
        },
        {
         "name": "CUST_ID",
         "rawType": "object",
         "type": "string"
        },
        {
         "name": "cluster",
         "rawType": "int32",
         "type": "integer"
        }
       ],
       "ref": "a234b737-7dda-4a3c-8c1e-f26092e9e800",
       "rows": [
        [
         "0",
         "-1.683648791533597",
         "-1.072241484970285",
         "C10001",
         "4"
        ],
        [
         "1",
         "-1.1340849338928765",
         "2.509149806907929",
         "C10002",
         "2"
        ],
        [
         "2",
         "0.9693949881955963",
         "-0.3835769025902046",
         "C10003",
         "0"
        ],
        [
         "3",
         "-0.8882203933584536",
         "0.004648422505489056",
         "C10004",
         "4"
        ],
        [
         "4",
         "-1.6000209527055864",
         "-0.6837952385254046",
         "C10005",
         "4"
        ]
       ],
       "shape": {
        "columns": 4,
        "rows": 5
       }
      },
      "text/html": [
       "<div>\n",
       "<style scoped>\n",
       "    .dataframe tbody tr th:only-of-type {\n",
       "        vertical-align: middle;\n",
       "    }\n",
       "\n",
       "    .dataframe tbody tr th {\n",
       "        vertical-align: top;\n",
       "    }\n",
       "\n",
       "    .dataframe thead th {\n",
       "        text-align: right;\n",
       "    }\n",
       "</style>\n",
       "<table border=\"1\" class=\"dataframe\">\n",
       "  <thead>\n",
       "    <tr style=\"text-align: right;\">\n",
       "      <th></th>\n",
       "      <th>PC1</th>\n",
       "      <th>PC2</th>\n",
       "      <th>CUST_ID</th>\n",
       "      <th>cluster</th>\n",
       "    </tr>\n",
       "  </thead>\n",
       "  <tbody>\n",
       "    <tr>\n",
       "      <th>0</th>\n",
       "      <td>-1.683649</td>\n",
       "      <td>-1.072241</td>\n",
       "      <td>C10001</td>\n",
       "      <td>4</td>\n",
       "    </tr>\n",
       "    <tr>\n",
       "      <th>1</th>\n",
       "      <td>-1.134085</td>\n",
       "      <td>2.509150</td>\n",
       "      <td>C10002</td>\n",
       "      <td>2</td>\n",
       "    </tr>\n",
       "    <tr>\n",
       "      <th>2</th>\n",
       "      <td>0.969395</td>\n",
       "      <td>-0.383577</td>\n",
       "      <td>C10003</td>\n",
       "      <td>0</td>\n",
       "    </tr>\n",
       "    <tr>\n",
       "      <th>3</th>\n",
       "      <td>-0.888220</td>\n",
       "      <td>0.004648</td>\n",
       "      <td>C10004</td>\n",
       "      <td>4</td>\n",
       "    </tr>\n",
       "    <tr>\n",
       "      <th>4</th>\n",
       "      <td>-1.600021</td>\n",
       "      <td>-0.683795</td>\n",
       "      <td>C10005</td>\n",
       "      <td>4</td>\n",
       "    </tr>\n",
       "  </tbody>\n",
       "</table>\n",
       "</div>"
      ],
      "text/plain": [
       "        PC1       PC2 CUST_ID  cluster\n",
       "0 -1.683649 -1.072241  C10001        4\n",
       "1 -1.134085  2.509150  C10002        2\n",
       "2  0.969395 -0.383577  C10003        0\n",
       "3 -0.888220  0.004648  C10004        4\n",
       "4 -1.600021 -0.683795  C10005        4"
      ]
     },
     "execution_count": 9,
     "metadata": {},
     "output_type": "execute_result"
    }
   ],
   "source": [
    "# Task 8: export clusters with PC scores\n",
    "out = pc_df.copy()\n",
    "out[\"cluster\"] = labels\n",
    "out_path = \"cc_clusters.csv\"\n",
    "out.to_csv(out_path, index=False)\n",
    "print(\"Saved:\", out_path)\n",
    "out.head()\n"
   ]
  }
 ],
 "metadata": {
  "kernelspec": {
   "display_name": "base",
   "language": "python",
   "name": "python3"
  },
  "language_info": {
   "codemirror_mode": {
    "name": "ipython",
    "version": 3
   },
   "file_extension": ".py",
   "mimetype": "text/x-python",
   "name": "python",
   "nbconvert_exporter": "python",
   "pygments_lexer": "ipython3",
   "version": "3.12.2"
  }
 },
 "nbformat": 4,
 "nbformat_minor": 5
}
