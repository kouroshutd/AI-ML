{
  "cells": [
    {
      "cell_type": "markdown",
      "id": "243e48ec",
      "metadata": {
        "id": "243e48ec"
      },
      "source": [
        "# Banking Complaints – NLP Pipeline\n",
        "\n",
        "This notebook builds an end-to-end text analytics pipeline on a complaints dataset:\n",
        "\n",
        "1. **Load & explore data**\n",
        "2. **Text preprocessing** (lowercase, punctuation/digit removal, stopwords, lemmatize/stem fallback)\n",
        "3. **Vectorization** with TF-IDF (1-2 grams)\n",
        "4. **Classification** baseline to predict **Department** (or **Banking Product**)\n",
        "5. **Sentiment analysis** (VADER if available, otherwise a rule-based fallback)\n",
        "6. **Fine-tuning DistilBERT** for improved classification\n",
        "7. **Reporting**: multi-sheet Excel summary + charts + actionable strategies\n"
      ]
    },
    {
      "cell_type": "markdown",
      "id": "4f404ad2",
      "metadata": {
        "id": "4f404ad2"
      },
      "source": [
        "## 0. Setup & Imports\n",
        "\n",
        "Import required libraries and check availability of NLTK and VADER sentiment analyzer."
      ]
    },
    {
      "cell_type": "code",
      "execution_count": 8,
      "id": "18720ad6",
      "metadata": {
        "colab": {
          "base_uri": "https://localhost:8080/"
        },
        "id": "18720ad6",
        "outputId": "928dc3c0-3f98-4a43-d191-395cad239984"
      },
      "outputs": [
        {
          "name": "stdout",
          "output_type": "stream",
          "text": [
            "NLTK available: True\n",
            "VADER available: False\n"
          ]
        }
      ],
      "source": [
        "import os\n",
        "os.environ[\"TRANSFORMERS_NO_TF\"] = \"1\"; os.environ[\"USE_TF\"] = \"0\"\n",
        "os.environ[\"TRANSFORMERS_NO_FLAX\"] = \"1\"; os.environ[\"USE_FLAX\"] = \"0\"\n",
        "os.environ[\"TOKENIZERS_PARALLELISM\"] = \"false\"\n",
        "os.environ[\"PYTORCH_ENABLE_MPS_FALLBACK\"] = \"1\"\n",
        "os.environ[\"PYTORCH_MPS_HIGH_WATERMARK_RATIO\"] = \"0.0\"\n",
        "# Standard\n",
        "import os, re, math, warnings, json, textwrap\n",
        "from pathlib import Path\n",
        "warnings.filterwarnings(\"ignore\")\n",
        "\n",
        "# Data\n",
        "import pandas as pd\n",
        "import numpy as np\n",
        "\n",
        "# NLP\n",
        "try:\n",
        "    from nltk.stem import WordNetLemmatizer, PorterStemmer\n",
        "    from nltk.corpus import stopwords as nltk_stopwords\n",
        "    NLTK_OK = True\n",
        "except Exception:\n",
        "    NLTK_OK = False\n",
        "    from nltk.stem import PorterStemmer  # Porter works without corpora\n",
        "\n",
        "from sklearn.feature_extraction.text import TfidfVectorizer\n",
        "from sklearn.feature_extraction import text as sklearn_text\n",
        "from sklearn.model_selection import train_test_split\n",
        "from sklearn.metrics import classification_report, accuracy_score, confusion_matrix\n",
        "from sklearn.svm import LinearSVC\n",
        "\n",
        "# Sentiment . If not present, we will fall back to a tiny rule-based scorer.\n",
        "VADER_AVAILABLE = True\n",
        "try:\n",
        "    from vaderSentiment.vaderSentiment import SentimentIntensityAnalyzer\n",
        "except Exception:\n",
        "    VADER_AVAILABLE = False\n",
        "\n",
        "# Plots (Note: use matplotlib only, no specific styles/colors per project rules)\n",
        "import matplotlib.pyplot as plt\n",
        "\n",
        "print(\"NLTK available:\", NLTK_OK)\n",
        "print(\"VADER available:\", VADER_AVAILABLE)\n"
      ]
    },
    {
      "cell_type": "markdown",
      "id": "735baa24",
      "metadata": {
        "id": "735baa24"
      },
      "source": [
        "## 1. Parameters\n",
        "\n",
        "Define key parameters for the pipeline including random state, test size, feature limits, and output paths."
      ]
    },
    {
      "cell_type": "code",
      "execution_count": 9,
      "id": "8809e852",
      "metadata": {
        "id": "8809e852"
      },
      "outputs": [],
      "source": [
        "\n",
        "RANDOM_STATE = 42\n",
        "TEST_SIZE = 0.20\n",
        "MIN_CLASS_COUNT = 10   # rare labels are grouped as \"Other\"\n",
        "MAX_FEATURES = 20000\n",
        "NGRAM_RANGE = (1, 2)\n",
        "TOP_TERMS_PER_CLASS = 15\n",
        "\n",
        "# Output paths\n",
        "OUTDIR = Path(\"./outputs\")\n",
        "OUTDIR.mkdir(exist_ok=True, parents=True)\n",
        "EXCEL_SUMMARY = OUTDIR / \"complaints_insights.xlsx\"\n",
        "PLOT_NEG = OUTDIR / \"plot_top_negative_departments.png\"\n"
      ]
    },
    {
      "cell_type": "markdown",
      "id": "f6b8ac4e",
      "metadata": {
        "id": "f6b8ac4e"
      },
      "source": [
        "## 2. Load Data & Data Overview\n",
        "\n",
        "Load the banking complaints dataset and examine its structure, data types, and missing values."
      ]
    },
    {
      "cell_type": "code",
      "execution_count": 10,
      "id": "5bc5204c",
      "metadata": {
        "colab": {
          "base_uri": "https://localhost:8080/",
          "height": 834
        },
        "id": "5bc5204c",
        "outputId": "a315865a-e095-4a8d-cb3c-a717a2e420e1"
      },
      "outputs": [
        {
          "name": "stdout",
          "output_type": "stream",
          "text": [
            "Loaded: /Users/kourosh/Library/CloudStorage/OneDrive-Personal/AI-Bootcamp/Course project 5/banking_complaints_2023.xlsx - complaints_banking_2023.csv | shape: (7011, 9)\n"
          ]
        },
        {
          "data": {
            "application/vnd.microsoft.datawrangler.viewer.v0+json": {
              "columns": [
                {
                  "name": "index",
                  "rawType": "object",
                  "type": "string"
                },
                {
                  "name": "column",
                  "rawType": "object",
                  "type": "string"
                },
                {
                  "name": "dtype",
                  "rawType": "object",
                  "type": "string"
                },
                {
                  "name": "non_null",
                  "rawType": "int64",
                  "type": "integer"
                },
                {
                  "name": "nulls",
                  "rawType": "int64",
                  "type": "integer"
                }
              ],
              "ref": "1f47faf2-f265-443b-9c59-2ec7955c2c21",
              "rows": [
                [
                  "ZIP",
                  "ZIP",
                  "object",
                  "6981",
                  "30"
                ],
                [
                  "State",
                  "State",
                  "object",
                  "6984",
                  "27"
                ],
                [
                  "Complaint ID",
                  "Complaint ID",
                  "object",
                  "7011",
                  "0"
                ],
                [
                  "Date Received",
                  "Date Received",
                  "object",
                  "7011",
                  "0"
                ],
                [
                  "Banking Product",
                  "Banking Product",
                  "object",
                  "7011",
                  "0"
                ],
                [
                  "Department",
                  "Department",
                  "object",
                  "7011",
                  "0"
                ],
                [
                  "Issue ID",
                  "Issue ID",
                  "object",
                  "7011",
                  "0"
                ],
                [
                  "Complaint Description",
                  "Complaint Description",
                  "object",
                  "7011",
                  "0"
                ],
                [
                  "Bank Response",
                  "Bank Response",
                  "object",
                  "7011",
                  "0"
                ]
              ],
              "shape": {
                "columns": 4,
                "rows": 9
              }
            },
            "text/html": [
              "<div>\n",
              "<style scoped>\n",
              "    .dataframe tbody tr th:only-of-type {\n",
              "        vertical-align: middle;\n",
              "    }\n",
              "\n",
              "    .dataframe tbody tr th {\n",
              "        vertical-align: top;\n",
              "    }\n",
              "\n",
              "    .dataframe thead th {\n",
              "        text-align: right;\n",
              "    }\n",
              "</style>\n",
              "<table border=\"1\" class=\"dataframe\">\n",
              "  <thead>\n",
              "    <tr style=\"text-align: right;\">\n",
              "      <th></th>\n",
              "      <th>column</th>\n",
              "      <th>dtype</th>\n",
              "      <th>non_null</th>\n",
              "      <th>nulls</th>\n",
              "    </tr>\n",
              "  </thead>\n",
              "  <tbody>\n",
              "    <tr>\n",
              "      <th>ZIP</th>\n",
              "      <td>ZIP</td>\n",
              "      <td>object</td>\n",
              "      <td>6981</td>\n",
              "      <td>30</td>\n",
              "    </tr>\n",
              "    <tr>\n",
              "      <th>State</th>\n",
              "      <td>State</td>\n",
              "      <td>object</td>\n",
              "      <td>6984</td>\n",
              "      <td>27</td>\n",
              "    </tr>\n",
              "    <tr>\n",
              "      <th>Complaint ID</th>\n",
              "      <td>Complaint ID</td>\n",
              "      <td>object</td>\n",
              "      <td>7011</td>\n",
              "      <td>0</td>\n",
              "    </tr>\n",
              "    <tr>\n",
              "      <th>Date Received</th>\n",
              "      <td>Date Received</td>\n",
              "      <td>object</td>\n",
              "      <td>7011</td>\n",
              "      <td>0</td>\n",
              "    </tr>\n",
              "    <tr>\n",
              "      <th>Banking Product</th>\n",
              "      <td>Banking Product</td>\n",
              "      <td>object</td>\n",
              "      <td>7011</td>\n",
              "      <td>0</td>\n",
              "    </tr>\n",
              "    <tr>\n",
              "      <th>Department</th>\n",
              "      <td>Department</td>\n",
              "      <td>object</td>\n",
              "      <td>7011</td>\n",
              "      <td>0</td>\n",
              "    </tr>\n",
              "    <tr>\n",
              "      <th>Issue ID</th>\n",
              "      <td>Issue ID</td>\n",
              "      <td>object</td>\n",
              "      <td>7011</td>\n",
              "      <td>0</td>\n",
              "    </tr>\n",
              "    <tr>\n",
              "      <th>Complaint Description</th>\n",
              "      <td>Complaint Description</td>\n",
              "      <td>object</td>\n",
              "      <td>7011</td>\n",
              "      <td>0</td>\n",
              "    </tr>\n",
              "    <tr>\n",
              "      <th>Bank Response</th>\n",
              "      <td>Bank Response</td>\n",
              "      <td>object</td>\n",
              "      <td>7011</td>\n",
              "      <td>0</td>\n",
              "    </tr>\n",
              "  </tbody>\n",
              "</table>\n",
              "</div>"
            ],
            "text/plain": [
              "                                      column   dtype  non_null  nulls\n",
              "ZIP                                      ZIP  object      6981     30\n",
              "State                                  State  object      6984     27\n",
              "Complaint ID                    Complaint ID  object      7011      0\n",
              "Date Received                  Date Received  object      7011      0\n",
              "Banking Product              Banking Product  object      7011      0\n",
              "Department                        Department  object      7011      0\n",
              "Issue ID                            Issue ID  object      7011      0\n",
              "Complaint Description  Complaint Description  object      7011      0\n",
              "Bank Response                  Bank Response  object      7011      0"
            ]
          },
          "metadata": {},
          "output_type": "display_data"
        }
      ],
      "source": [
        "\n",
        "import pandas as pd\n",
        "from pathlib import Path\n",
        "\n",
        "DATASET_PATH = Path(\"/Users/kourosh/Library/CloudStorage/OneDrive-Personal/AI-Bootcamp/Course project 5/banking_complaints_2023.xlsx - complaints_banking_2023.csv\")  # or .xlsx\n",
        "df = pd.read_csv(DATASET_PATH)  # or pd.read_excel(...)\n",
        "df.columns = df.columns.str.strip()\n",
        "print(\"Loaded:\", DATASET_PATH, \"| shape:\", df.shape)\n",
        "\n",
        "# show understanding\n",
        "dtypes_report = pd.DataFrame({\n",
        "    \"column\": df.columns,\n",
        "    \"dtype\": df.dtypes.astype(str),\n",
        "    \"non_null\": df.notna().sum(),\n",
        "    \"nulls\": df.isna().sum()\n",
        "}).sort_values(\"nulls\", ascending=False)\n",
        "display(dtypes_report)\n",
        "\n"
      ]
    },
    {
      "cell_type": "markdown",
      "id": "40535895",
      "metadata": {
        "id": "40535895"
      },
      "source": [
        "## 3. Date Parsing & Range\n",
        "\n",
        "Parse date columns and determine the date range of the complaints dataset."
      ]
    },
    {
      "cell_type": "code",
      "execution_count": 11,
      "id": "65451ab4",
      "metadata": {
        "colab": {
          "base_uri": "https://localhost:8080/"
        },
        "id": "65451ab4",
        "outputId": "276cdfa7-0642-4821-bcfb-6b65ab722559"
      },
      "outputs": [
        {
          "name": "stdout",
          "output_type": "stream",
          "text": [
            "Best date column: Date Received\n",
            "Range: (Timestamp('2023-01-01 00:00:00'), Timestamp('2023-10-21 00:00:00'))\n"
          ]
        }
      ],
      "source": [
        "\n",
        "df_work = df.copy()\n",
        "\n",
        "date_col_candidates = [c for c in df_work.columns if \"date\" in c.lower() or \"received\" in c.lower()]\n",
        "parsed_dates = {}\n",
        "for c in date_col_candidates:\n",
        "    try:\n",
        "        parsed_dates[c] = pd.to_datetime(df_work[c], errors=\"coerce\", infer_datetime_format=True)\n",
        "    except Exception:\n",
        "        pass\n",
        "\n",
        "best_date_col, best_non_null = None, -1\n",
        "for c, series in parsed_dates.items():\n",
        "    nn = series.notna().sum()\n",
        "    if nn > best_non_null:\n",
        "        best_non_null = nn\n",
        "        best_date_col = c\n",
        "\n",
        "if best_date_col is not None:\n",
        "    df_work[\"__parsed_date__\"] = parsed_dates[best_date_col]\n",
        "    min_date = df_work[\"__parsed_date__\"].min()\n",
        "    max_date = df_work[\"__parsed_date__\"].max()\n",
        "else:\n",
        "    min_date = None\n",
        "    max_date = None\n",
        "\n",
        "print(\"Best date column:\", best_date_col)\n",
        "print(\"Range:\", (min_date, max_date))\n"
      ]
    },
    {
      "cell_type": "markdown",
      "id": "72415648",
      "metadata": {
        "id": "72415648"
      },
      "source": [
        "## 4. Text Preprocessing\n",
        "\n",
        "Clean and normalize complaint text through:\n",
        "- Lowercase conversion\n",
        "- Digit and punctuation removal\n",
        "- Stopword filtering\n",
        "- Lemmatization (or stemming as fallback)"
      ]
    },
    {
      "cell_type": "code",
      "execution_count": 12,
      "id": "54139996",
      "metadata": {
        "colab": {
          "base_uri": "https://localhost:8080/",
          "height": 1013
        },
        "id": "54139996",
        "outputId": "95d3af23-2950-44c7-93bd-850209110011"
      },
      "outputs": [
        {
          "name": "stdout",
          "output_type": "stream",
          "text": [
            "Text column: Complaint Description\n"
          ]
        },
        {
          "data": {
            "application/vnd.microsoft.datawrangler.viewer.v0+json": {
              "columns": [
                {
                  "name": "index",
                  "rawType": "int64",
                  "type": "integer"
                },
                {
                  "name": "clean_text",
                  "rawType": "object",
                  "type": "string"
                }
              ],
              "ref": "7b1c74d7-18d2-43f5-8d0a-8582c015856d",
              "rows": [
                [
                  "0",
                  "opened safe balance account online using payroll check account opener attempted login app received account locked contact customer service xxxx error message placed call told would branch verify identity time told positive balance could make withdrawal teller leaving balance shortly deposited mobile check attempted login received previous error message along email stating hold placed account contacting previous number told acct closed risk dept due lack identity verification told done day told matter account already closed reversible asked balance told overdrawn would pay could set new acct none make logically sense anyway seem legal contacted attorney suggested attempt resolve issue supervisor manager make court filing caused unnecessary stress put family serious financial hardship suffering force miss xxxx family due lack fund travel way pay propane cooking heating home mortgage payment car registration insurance past due resulting late fee totalling caused poorly trained bank employee"
                ],
                [
                  "1",
                  "item bank abc credit report belong must removed fraud item always return back confirming account belongs proof need item removed credit report effecting life look legal mean get solved soon"
                ],
                [
                  "2",
                  "found account frozen apparent reason went boa branch xxxx xxxx explained whats going made call beleived call fixed income boa holding fund hostage reason xxxx xxxxxxxx fixed income xxxx child afford high corporation bank boa keep getting away"
                ],
                [
                  "3",
                  "credit card year bank abc xxxx paid balance auto pay continued pay ended credit balance notified repeatedly since want credit balance turned auto payment sent check xxxx another balance transfer forgot turned auto payment received late fee xxxx get mistake paying fee fine xxxx received fee minimum interest charge even though supposed paying interest due balance transfer notice fee beginning called xxxx noticed charged fee subsequent month talked somebody ask charged fee said late fee xxxx continue charge every month understanding supposed charge interest fee confused justifying begin said would refund fee refunded one far tell asked could order get fixed charged fee monthly told anything fix could call every month request refund seriously upset point due unreasonable response believe even talked supervisor asking customer take time call month request statement fix craziness error realize wrong could million customer month continued charge fee every month see statement obviously need pay want bring awareness predatory fee practice definitely violates udaap surprised happening large financial institution look forward hearing resolution matter hope investigation many customer charged fee inappropriately"
                ],
                [
                  "4",
                  "issue way bank abc account linking bill pay part website certain case look like account link bill pay center removed without warning might result overdue fee interest balance negative impact credit score used bank abc checking account like xxxx closed kept using bank abc credit card paid bill credit card using checking account another bank call bank fast forward like summer xxxx opened new checking account another bank call bank verified linked bank abc bill pay autopay bank abc credit card bank last month opened checking account bank abc last week xxxx previously linked checking account bank disappeared bank abc bill pay center reason opening checking account bank abc reverted bank set bill pay xxxx bill pay center clearly show autopay bank set say autopay still scheduled unverified account see way set payment bank account linked bank abc bill pay"
                ],
                [
                  "5",
                  "last time phone prepaid regarding edd account told actually multiple card remained active time current card active believe right file claim entire account since dont even know card active time refuse let file claim"
                ],
                [
                  "6",
                  "got hard inquiry dont recognize xxxx xxxx xxxx xxxx abc xxxx xxxx xxxx xxxx xxxx xxxxxxxx xxxx"
                ],
                [
                  "7",
                  "xxxx discovered former tenant stolen identity found eviction process reviewing entire credit report several bank abc account opened name immediately notified bank abc fraud unit also provided police report ftc report driver license utility bill bank abc continues affirm account stating payment made account checking account name ive tried object decision three fraudulent checking account also opened fraudsters know aside filing lawsuit company"
                ],
                [
                  "8",
                  "consumer aware proof bank abc continues violate consumer right observed least violation pursuant usc bank abc received cease desist reference matter failed provide result investigation finding used determine action withholding consumer fund reported electronic transfer error since notice right request reproduction mail consumer reproduction document financial institution relied conclude error occur returning fund directed consumer boa continues violate consumer pursuant usc result gross negligent willful behavior injured numerous time"
                ],
                [
                  "9",
                  "filed dispute regard inaccurate account consumer report well day received investigation result"
                ]
              ],
              "shape": {
                "columns": 1,
                "rows": 10
              }
            },
            "text/html": [
              "<div>\n",
              "<style scoped>\n",
              "    .dataframe tbody tr th:only-of-type {\n",
              "        vertical-align: middle;\n",
              "    }\n",
              "\n",
              "    .dataframe tbody tr th {\n",
              "        vertical-align: top;\n",
              "    }\n",
              "\n",
              "    .dataframe thead th {\n",
              "        text-align: right;\n",
              "    }\n",
              "</style>\n",
              "<table border=\"1\" class=\"dataframe\">\n",
              "  <thead>\n",
              "    <tr style=\"text-align: right;\">\n",
              "      <th></th>\n",
              "      <th>clean_text</th>\n",
              "    </tr>\n",
              "  </thead>\n",
              "  <tbody>\n",
              "    <tr>\n",
              "      <th>0</th>\n",
              "      <td>opened safe balance account online using payro...</td>\n",
              "    </tr>\n",
              "    <tr>\n",
              "      <th>1</th>\n",
              "      <td>item bank abc credit report belong must remove...</td>\n",
              "    </tr>\n",
              "    <tr>\n",
              "      <th>2</th>\n",
              "      <td>found account frozen apparent reason went boa ...</td>\n",
              "    </tr>\n",
              "    <tr>\n",
              "      <th>3</th>\n",
              "      <td>credit card year bank abc xxxx paid balance au...</td>\n",
              "    </tr>\n",
              "    <tr>\n",
              "      <th>4</th>\n",
              "      <td>issue way bank abc account linking bill pay pa...</td>\n",
              "    </tr>\n",
              "    <tr>\n",
              "      <th>5</th>\n",
              "      <td>last time phone prepaid regarding edd account ...</td>\n",
              "    </tr>\n",
              "    <tr>\n",
              "      <th>6</th>\n",
              "      <td>got hard inquiry dont recognize xxxx xxxx xxxx...</td>\n",
              "    </tr>\n",
              "    <tr>\n",
              "      <th>7</th>\n",
              "      <td>xxxx discovered former tenant stolen identity ...</td>\n",
              "    </tr>\n",
              "    <tr>\n",
              "      <th>8</th>\n",
              "      <td>consumer aware proof bank abc continues violat...</td>\n",
              "    </tr>\n",
              "    <tr>\n",
              "      <th>9</th>\n",
              "      <td>filed dispute regard inaccurate account consum...</td>\n",
              "    </tr>\n",
              "  </tbody>\n",
              "</table>\n",
              "</div>"
            ],
            "text/plain": [
              "                                          clean_text\n",
              "0  opened safe balance account online using payro...\n",
              "1  item bank abc credit report belong must remove...\n",
              "2  found account frozen apparent reason went boa ...\n",
              "3  credit card year bank abc xxxx paid balance au...\n",
              "4  issue way bank abc account linking bill pay pa...\n",
              "5  last time phone prepaid regarding edd account ...\n",
              "6  got hard inquiry dont recognize xxxx xxxx xxxx...\n",
              "7  xxxx discovered former tenant stolen identity ...\n",
              "8  consumer aware proof bank abc continues violat...\n",
              "9  filed dispute regard inaccurate account consum..."
            ]
          },
          "execution_count": 12,
          "metadata": {},
          "output_type": "execute_result"
        }
      ],
      "source": [
        "\n",
        "# Stopwords\n",
        "if NLTK_OK:\n",
        "    try:\n",
        "        stopwords_set = set(nltk_stopwords.words(\"english\"))\n",
        "    except Exception:\n",
        "        stopwords_set = sklearn_text.ENGLISH_STOP_WORDS\n",
        "else:\n",
        "    stopwords_set = sklearn_text.ENGLISH_STOP_WORDS\n",
        "\n",
        "# Lemmatizer / Stemmer selection\n",
        "try:\n",
        "    WN = WordNetLemmatizer() if NLTK_OK else None\n",
        "except Exception:\n",
        "    WN = None\n",
        "if WN is None:\n",
        "    STEM = PorterStemmer()\n",
        "\n",
        "punct_re = re.compile(r\"[^\\w\\s]\")\n",
        "digits_re = re.compile(r\"\\d+\")\n",
        "\n",
        "def preprocessing(text: str) -> str:\n",
        "    if not isinstance(text, str):\n",
        "        return \"\"\n",
        "    text = text.lower()\n",
        "    text = digits_re.sub(\" \", text)\n",
        "    text = punct_re.sub(\" \", text)\n",
        "    tokens = text.split()\n",
        "    tokens = [t for t in tokens if t not in stopwords_set and len(t) > 2]\n",
        "    if WN is not None:\n",
        "        try:\n",
        "            tokens = [WN.lemmatize(t) for t in tokens]\n",
        "        except Exception:\n",
        "            tokens = [PorterStemmer().stem(t) for t in tokens]\n",
        "    else:\n",
        "        tokens = [STEM.stem(t) for t in tokens]\n",
        "    return \" \".join(tokens)\n",
        "\n",
        "# Choose complaint text column\n",
        "text_col_candidates = [\n",
        "    \"Complaint Description\",\n",
        "    \"Consumer complaint narrative\",\n",
        "    \"Narrative\",\n",
        "    \"Description\",\n",
        "    \"Complaint\",\n",
        "    \"Issue Description\",\n",
        "]\n",
        "chosen_text_col = None\n",
        "for c in text_col_candidates:\n",
        "    if c in df_work.columns:\n",
        "        chosen_text_col = c\n",
        "        break\n",
        "if chosen_text_col is None:  # fallback: pick object column with largest total length\n",
        "    obj_cols = [c for c in df_work.columns if df_work[c].dtype == \"object\"]\n",
        "    if obj_cols:\n",
        "        lengths = {c: df_work[c].astype(str).str.len().sum() for c in obj_cols}\n",
        "        chosen_text_col = max(lengths, key=lengths.get)\n",
        "\n",
        "print(\"Text column:\", chosen_text_col)\n",
        "\n",
        "df_work[\"clean_text\"] = df_work[chosen_text_col].astype(str).apply(preprocessing)\n",
        "df_work[[\"clean_text\"]].head(10)\n"
      ]
    },
    {
      "cell_type": "markdown",
      "id": "d80825fa",
      "metadata": {
        "id": "d80825fa"
      },
      "source": [
        "## 5. TF-IDF Vectorization\n",
        "\n",
        "Transform cleaned text into numerical features using TF-IDF with 1-2 grams."
      ]
    },
    {
      "cell_type": "code",
      "execution_count": 13,
      "id": "9d231407",
      "metadata": {
        "colab": {
          "base_uri": "https://localhost:8080/"
        },
        "id": "9d231407",
        "outputId": "a581a743-0847-4c1b-8362-ab18b3517a23"
      },
      "outputs": [
        {
          "data": {
            "text/plain": [
              "(7011, 20000)"
            ]
          },
          "execution_count": 13,
          "metadata": {},
          "output_type": "execute_result"
        }
      ],
      "source": [
        "\n",
        "tfidf = TfidfVectorizer(max_features=MAX_FEATURES, ngram_range=NGRAM_RANGE, min_df=2)\n",
        "X = tfidf.fit_transform(df_work[\"clean_text\"])\n",
        "X.shape\n"
      ]
    },
    {
      "cell_type": "markdown",
      "id": "70d5c8d8",
      "metadata": {
        "id": "70d5c8d8"
      },
      "source": [
        "## 6. Target Definition & Train/Test Split\n",
        "\n",
        "Define the target variable (Department) and split data into training and test sets with stratification."
      ]
    },
    {
      "cell_type": "code",
      "execution_count": 14,
      "id": "32e79dc7",
      "metadata": {
        "colab": {
          "base_uri": "https://localhost:8080/"
        },
        "id": "32e79dc7",
        "outputId": "ab4da0ee-6033-4a42-f6ef-b9ba190784fe"
      },
      "outputs": [
        {
          "name": "stdout",
          "output_type": "stream",
          "text": [
            "Classes: ['CASA', 'Credit Cards', 'Loans', 'Credit Reports', 'Mortgage', 'Remittance', 'Others']\n",
            "Train size: (5608, 20000) Test size: (1403, 20000)\n"
          ]
        }
      ],
      "source": [
        "\n",
        "target_candidates = [\"Department\", \"Banking Product\", \"Product\"]\n",
        "chosen_target_col = None\n",
        "for c in target_candidates:\n",
        "    if c in df_work.columns:\n",
        "        chosen_target_col = c\n",
        "        break\n",
        "\n",
        "if chosen_target_col is None:\n",
        "    raise ValueError(\"No suitable target column found (Department/Banking Product/Product).\")\n",
        "\n",
        "y_raw = df_work[chosen_target_col].astype(str)\n",
        "vc = y_raw.value_counts()\n",
        "\n",
        "# Group rare labels to 'Other' to prevent split/fit issues\n",
        "rare_labels = set(vc[vc < MIN_CLASS_COUNT].index)\n",
        "y = y_raw.where(~y_raw.isin(rare_labels), other=\"Other\")\n",
        "\n",
        "def safe_train_test_split(X, y, test_size=TEST_SIZE, random_state=RANDOM_STATE):\n",
        "    vc = pd.Series(y).value_counts()\n",
        "    can_stratify = (vc.min() >= 2) and (len(vc) >= 2)\n",
        "    if can_stratify:\n",
        "        return train_test_split(X, y, test_size=test_size, random_state=random_state, stratify=y)\n",
        "    else:\n",
        "        return train_test_split(X, y, test_size=test_size, random_state=random_state)\n",
        "\n",
        "X_train, X_test, y_train, y_test = safe_train_test_split(X, y)\n",
        "\n",
        "print(\"Classes:\", pd.Series(y).value_counts().index.tolist())\n",
        "print(\"Train size:\", X_train.shape, \"Test size:\", X_test.shape)\n"
      ]
    },
    {
      "cell_type": "markdown",
      "id": "8b313593",
      "metadata": {
        "id": "8b313593"
      },
      "source": [
        "## 7. Baseline Classification (LinearSVC)\n",
        "\n",
        "Train a Linear SVM classifier and evaluate performance:\n",
        "- Accuracy score\n",
        "- Classification report\n",
        "- Confusion matrix\n",
        "- Top indicative terms per class"
      ]
    },
    {
      "cell_type": "code",
      "execution_count": 15,
      "id": "33a2f07b",
      "metadata": {
        "colab": {
          "base_uri": "https://localhost:8080/",
          "height": 1000
        },
        "id": "33a2f07b",
        "outputId": "223f46ef-4eec-4d90-b8f1-be799438bd57"
      },
      "outputs": [
        {
          "name": "stdout",
          "output_type": "stream",
          "text": [
            "Accuracy: 0.7612\n"
          ]
        },
        {
          "data": {
            "application/vnd.microsoft.datawrangler.viewer.v0+json": {
              "columns": [
                {
                  "name": "index",
                  "rawType": "object",
                  "type": "string"
                },
                {
                  "name": "precision",
                  "rawType": "float64",
                  "type": "float"
                },
                {
                  "name": "recall",
                  "rawType": "float64",
                  "type": "float"
                },
                {
                  "name": "f1-score",
                  "rawType": "float64",
                  "type": "float"
                },
                {
                  "name": "support",
                  "rawType": "float64",
                  "type": "float"
                }
              ],
              "ref": "ac6b6b0f-6aec-4886-b32d-a6dd0cfe5d17",
              "rows": [
                [
                  "CASA",
                  "0.7093333333333334",
                  "0.8036253776435045",
                  "0.7535410764872521",
                  "331.0"
                ],
                [
                  "Credit Cards",
                  "0.7425149700598802",
                  "0.7701863354037267",
                  "0.7560975609756098",
                  "322.0"
                ],
                [
                  "Credit Reports",
                  "0.780952380952381",
                  "0.7387387387387387",
                  "0.7592592592592593",
                  "222.0"
                ],
                [
                  "Loans",
                  "0.8027522935779816",
                  "0.7882882882882883",
                  "0.7954545454545454",
                  "222.0"
                ],
                [
                  "Mortgage",
                  "0.8895348837209303",
                  "0.9",
                  "0.8947368421052632",
                  "170.0"
                ],
                [
                  "Others",
                  "0.76",
                  "0.37254901960784315",
                  "0.5",
                  "51.0"
                ],
                [
                  "Remittance",
                  "0.6231884057971014",
                  "0.5058823529411764",
                  "0.5584415584415584",
                  "85.0"
                ],
                [
                  "accuracy",
                  "0.7612259444048468",
                  "0.7612259444048468",
                  "0.7612259444048468",
                  "0.7612259444048468"
                ],
                [
                  "macro avg",
                  "0.7583251810630868",
                  "0.6970385875176112",
                  "0.7167901203890698",
                  "1403.0"
                ],
                [
                  "weighted avg",
                  "0.7615206957688287",
                  "0.7612259444048468",
                  "0.7577368290971623",
                  "1403.0"
                ]
              ],
              "shape": {
                "columns": 4,
                "rows": 10
              }
            },
            "text/html": [
              "<div>\n",
              "<style scoped>\n",
              "    .dataframe tbody tr th:only-of-type {\n",
              "        vertical-align: middle;\n",
              "    }\n",
              "\n",
              "    .dataframe tbody tr th {\n",
              "        vertical-align: top;\n",
              "    }\n",
              "\n",
              "    .dataframe thead th {\n",
              "        text-align: right;\n",
              "    }\n",
              "</style>\n",
              "<table border=\"1\" class=\"dataframe\">\n",
              "  <thead>\n",
              "    <tr style=\"text-align: right;\">\n",
              "      <th></th>\n",
              "      <th>precision</th>\n",
              "      <th>recall</th>\n",
              "      <th>f1-score</th>\n",
              "      <th>support</th>\n",
              "    </tr>\n",
              "  </thead>\n",
              "  <tbody>\n",
              "    <tr>\n",
              "      <th>CASA</th>\n",
              "      <td>0.709333</td>\n",
              "      <td>0.803625</td>\n",
              "      <td>0.753541</td>\n",
              "      <td>331.000000</td>\n",
              "    </tr>\n",
              "    <tr>\n",
              "      <th>Credit Cards</th>\n",
              "      <td>0.742515</td>\n",
              "      <td>0.770186</td>\n",
              "      <td>0.756098</td>\n",
              "      <td>322.000000</td>\n",
              "    </tr>\n",
              "    <tr>\n",
              "      <th>Credit Reports</th>\n",
              "      <td>0.780952</td>\n",
              "      <td>0.738739</td>\n",
              "      <td>0.759259</td>\n",
              "      <td>222.000000</td>\n",
              "    </tr>\n",
              "    <tr>\n",
              "      <th>Loans</th>\n",
              "      <td>0.802752</td>\n",
              "      <td>0.788288</td>\n",
              "      <td>0.795455</td>\n",
              "      <td>222.000000</td>\n",
              "    </tr>\n",
              "    <tr>\n",
              "      <th>Mortgage</th>\n",
              "      <td>0.889535</td>\n",
              "      <td>0.900000</td>\n",
              "      <td>0.894737</td>\n",
              "      <td>170.000000</td>\n",
              "    </tr>\n",
              "    <tr>\n",
              "      <th>Others</th>\n",
              "      <td>0.760000</td>\n",
              "      <td>0.372549</td>\n",
              "      <td>0.500000</td>\n",
              "      <td>51.000000</td>\n",
              "    </tr>\n",
              "    <tr>\n",
              "      <th>Remittance</th>\n",
              "      <td>0.623188</td>\n",
              "      <td>0.505882</td>\n",
              "      <td>0.558442</td>\n",
              "      <td>85.000000</td>\n",
              "    </tr>\n",
              "    <tr>\n",
              "      <th>accuracy</th>\n",
              "      <td>0.761226</td>\n",
              "      <td>0.761226</td>\n",
              "      <td>0.761226</td>\n",
              "      <td>0.761226</td>\n",
              "    </tr>\n",
              "    <tr>\n",
              "      <th>macro avg</th>\n",
              "      <td>0.758325</td>\n",
              "      <td>0.697039</td>\n",
              "      <td>0.716790</td>\n",
              "      <td>1403.000000</td>\n",
              "    </tr>\n",
              "    <tr>\n",
              "      <th>weighted avg</th>\n",
              "      <td>0.761521</td>\n",
              "      <td>0.761226</td>\n",
              "      <td>0.757737</td>\n",
              "      <td>1403.000000</td>\n",
              "    </tr>\n",
              "  </tbody>\n",
              "</table>\n",
              "</div>"
            ],
            "text/plain": [
              "                precision    recall  f1-score      support\n",
              "CASA             0.709333  0.803625  0.753541   331.000000\n",
              "Credit Cards     0.742515  0.770186  0.756098   322.000000\n",
              "Credit Reports   0.780952  0.738739  0.759259   222.000000\n",
              "Loans            0.802752  0.788288  0.795455   222.000000\n",
              "Mortgage         0.889535  0.900000  0.894737   170.000000\n",
              "Others           0.760000  0.372549  0.500000    51.000000\n",
              "Remittance       0.623188  0.505882  0.558442    85.000000\n",
              "accuracy         0.761226  0.761226  0.761226     0.761226\n",
              "macro avg        0.758325  0.697039  0.716790  1403.000000\n",
              "weighted avg     0.761521  0.761226  0.757737  1403.000000"
            ]
          },
          "metadata": {},
          "output_type": "display_data"
        },
        {
          "data": {
            "image/png": "[encoded data removed]",
            "text/plain": [
              "<Figure size 600x500 with 2 Axes>"
            ]
          },
          "metadata": {},
          "output_type": "display_data"
        },
        {
          "data": {
            "application/vnd.microsoft.datawrangler.viewer.v0+json": {
              "columns": [
                {
                  "name": "label",
                  "rawType": "object",
                  "type": "string"
                },
                {
                  "name": "0",
                  "rawType": "object",
                  "type": "string"
                },
                {
                  "name": "1",
                  "rawType": "object",
                  "type": "string"
                },
                {
                  "name": "2",
                  "rawType": "object",
                  "type": "string"
                },
                {
                  "name": "3",
                  "rawType": "object",
                  "type": "string"
                },
                {
                  "name": "4",
                  "rawType": "object",
                  "type": "string"
                },
                {
                  "name": "5",
                  "rawType": "object",
                  "type": "string"
                },
                {
                  "name": "6",
                  "rawType": "object",
                  "type": "string"
                },
                {
                  "name": "7",
                  "rawType": "object",
                  "type": "string"
                },
                {
                  "name": "8",
                  "rawType": "object",
                  "type": "string"
                },
                {
                  "name": "9",
                  "rawType": "object",
                  "type": "string"
                },
                {
                  "name": "10",
                  "rawType": "object",
                  "type": "string"
                },
                {
                  "name": "11",
                  "rawType": "object",
                  "type": "string"
                },
                {
                  "name": "12",
                  "rawType": "object",
                  "type": "string"
                },
                {
                  "name": "13",
                  "rawType": "object",
                  "type": "string"
                },
                {
                  "name": "14",
                  "rawType": "object",
                  "type": "string"
                }
              ],
              "ref": "1f233c8a-3ad0-422c-a48c-8b9d90931dff",
              "rows": [
                [
                  "CASA",
                  "account",
                  "checking",
                  "banking",
                  "debit card",
                  "saving",
                  "debit",
                  "atm",
                  "ultimately",
                  "florida",
                  "bank abc",
                  "open",
                  "havent",
                  "deposit",
                  "overdraft",
                  "morning"
                ],
                [
                  "Credit Cards",
                  "card",
                  "edd",
                  "credit card",
                  "visa",
                  "reward",
                  "credit",
                  "purchase",
                  "xxxx card",
                  "abc credit",
                  "mastercard",
                  "charge",
                  "setup",
                  "benefit",
                  "synchrony",
                  "furnisher"
                ],
                [
                  "Credit Reports",
                  "equifax",
                  "transunion",
                  "experian",
                  "inquiry",
                  "report",
                  "removed",
                  "inquires",
                  "remove",
                  "information",
                  "opened xxxx",
                  "reporting",
                  "record",
                  "info",
                  "accusation",
                  "abc reported"
                ],
                [
                  "Loans",
                  "debt",
                  "collection",
                  "navient",
                  "vehicle",
                  "loan",
                  "owe",
                  "car",
                  "recovery",
                  "judgement",
                  "aes",
                  "student loan",
                  "calling",
                  "student",
                  "owed",
                  "liability"
                ],
                [
                  "Mortgage",
                  "mortgage",
                  "modification",
                  "escrow",
                  "home",
                  "foreclosure",
                  "ocwen",
                  "ditech",
                  "heloc",
                  "property",
                  "refinance",
                  "appraisal",
                  "closing",
                  "sale",
                  "fha",
                  "lender"
                ],
                [
                  "Others",
                  "scottrade",
                  "pnc",
                  "suntrust",
                  "bank america",
                  "usaa",
                  "america",
                  "overdrawn",
                  "bank",
                  "discover bank",
                  "chase",
                  "pnc bank",
                  "overdraft",
                  "atm card",
                  "promotion",
                  "case denied"
                ],
                [
                  "Remittance",
                  "wire",
                  "transfer",
                  "scammed",
                  "scam",
                  "xxxx transfer",
                  "recipient",
                  "sent",
                  "reverse",
                  "puppy",
                  "buyer",
                  "scammer",
                  "fbi",
                  "received first",
                  "balance inquiry",
                  "bank bank"
                ]
              ],
              "shape": {
                "columns": 15,
                "rows": 7
              }
            },
            "text/html": [
              "<div>\n",
              "<style scoped>\n",
              "    .dataframe tbody tr th:only-of-type {\n",
              "        vertical-align: middle;\n",
              "    }\n",
              "\n",
              "    .dataframe tbody tr th {\n",
              "        vertical-align: top;\n",
              "    }\n",
              "\n",
              "    .dataframe thead th {\n",
              "        text-align: right;\n",
              "    }\n",
              "</style>\n",
              "<table border=\"1\" class=\"dataframe\">\n",
              "  <thead>\n",
              "    <tr style=\"text-align: right;\">\n",
              "      <th></th>\n",
              "      <th>0</th>\n",
              "      <th>1</th>\n",
              "      <th>2</th>\n",
              "      <th>3</th>\n",
              "      <th>4</th>\n",
              "      <th>5</th>\n",
              "      <th>6</th>\n",
              "      <th>7</th>\n",
              "      <th>8</th>\n",
              "      <th>9</th>\n",
              "      <th>10</th>\n",
              "      <th>11</th>\n",
              "      <th>12</th>\n",
              "      <th>13</th>\n",
              "      <th>14</th>\n",
              "    </tr>\n",
              "    <tr>\n",
              "      <th>label</th>\n",
              "      <th></th>\n",
              "      <th></th>\n",
              "      <th></th>\n",
              "      <th></th>\n",
              "      <th></th>\n",
              "      <th></th>\n",
              "      <th></th>\n",
              "      <th></th>\n",
              "      <th></th>\n",
              "      <th></th>\n",
              "      <th></th>\n",
              "      <th></th>\n",
              "      <th></th>\n",
              "      <th></th>\n",
              "      <th></th>\n",
              "    </tr>\n",
              "  </thead>\n",
              "  <tbody>\n",
              "    <tr>\n",
              "      <th>CASA</th>\n",
              "      <td>account</td>\n",
              "      <td>checking</td>\n",
              "      <td>banking</td>\n",
              "      <td>debit card</td>\n",
              "      <td>saving</td>\n",
              "      <td>debit</td>\n",
              "      <td>atm</td>\n",
              "      <td>ultimately</td>\n",
              "      <td>florida</td>\n",
              "      <td>bank abc</td>\n",
              "      <td>open</td>\n",
              "      <td>havent</td>\n",
              "      <td>deposit</td>\n",
              "      <td>overdraft</td>\n",
              "      <td>morning</td>\n",
              "    </tr>\n",
              "    <tr>\n",
              "      <th>Credit Cards</th>\n",
              "      <td>card</td>\n",
              "      <td>edd</td>\n",
              "      <td>credit card</td>\n",
              "      <td>visa</td>\n",
              "      <td>reward</td>\n",
              "      <td>credit</td>\n",
              "      <td>purchase</td>\n",
              "      <td>xxxx card</td>\n",
              "      <td>abc credit</td>\n",
              "      <td>mastercard</td>\n",
              "      <td>charge</td>\n",
              "      <td>setup</td>\n",
              "      <td>benefit</td>\n",
              "      <td>synchrony</td>\n",
              "      <td>furnisher</td>\n",
              "    </tr>\n",
              "    <tr>\n",
              "      <th>Credit Reports</th>\n",
              "      <td>equifax</td>\n",
              "      <td>transunion</td>\n",
              "      <td>experian</td>\n",
              "      <td>inquiry</td>\n",
              "      <td>report</td>\n",
              "      <td>removed</td>\n",
              "      <td>inquires</td>\n",
              "      <td>remove</td>\n",
              "      <td>information</td>\n",
              "      <td>opened xxxx</td>\n",
              "      <td>reporting</td>\n",
              "      <td>record</td>\n",
              "      <td>info</td>\n",
              "      <td>accusation</td>\n",
              "      <td>abc reported</td>\n",
              "    </tr>\n",
              "    <tr>\n",
              "      <th>Loans</th>\n",
              "      <td>debt</td>\n",
              "      <td>collection</td>\n",
              "      <td>navient</td>\n",
              "      <td>vehicle</td>\n",
              "      <td>loan</td>\n",
              "      <td>owe</td>\n",
              "      <td>car</td>\n",
              "      <td>recovery</td>\n",
              "      <td>judgement</td>\n",
              "      <td>aes</td>\n",
              "      <td>student loan</td>\n",
              "      <td>calling</td>\n",
              "      <td>student</td>\n",
              "      <td>owed</td>\n",
              "      <td>liability</td>\n",
              "    </tr>\n",
              "    <tr>\n",
              "      <th>Mortgage</th>\n",
              "      <td>mortgage</td>\n",
              "      <td>modification</td>\n",
              "      <td>escrow</td>\n",
              "      <td>home</td>\n",
              "      <td>foreclosure</td>\n",
              "      <td>ocwen</td>\n",
              "      <td>ditech</td>\n",
              "      <td>heloc</td>\n",
              "      <td>property</td>\n",
              "      <td>refinance</td>\n",
              "      <td>appraisal</td>\n",
              "      <td>closing</td>\n",
              "      <td>sale</td>\n",
              "      <td>fha</td>\n",
              "      <td>lender</td>\n",
              "    </tr>\n",
              "    <tr>\n",
              "      <th>Others</th>\n",
              "      <td>scottrade</td>\n",
              "      <td>pnc</td>\n",
              "      <td>suntrust</td>\n",
              "      <td>bank america</td>\n",
              "      <td>usaa</td>\n",
              "      <td>america</td>\n",
              "      <td>overdrawn</td>\n",
              "      <td>bank</td>\n",
              "      <td>discover bank</td>\n",
              "      <td>chase</td>\n",
              "      <td>pnc bank</td>\n",
              "      <td>overdraft</td>\n",
              "      <td>atm card</td>\n",
              "      <td>promotion</td>\n",
              "      <td>case denied</td>\n",
              "    </tr>\n",
              "    <tr>\n",
              "      <th>Remittance</th>\n",
              "      <td>wire</td>\n",
              "      <td>transfer</td>\n",
              "      <td>scammed</td>\n",
              "      <td>scam</td>\n",
              "      <td>xxxx transfer</td>\n",
              "      <td>recipient</td>\n",
              "      <td>sent</td>\n",
              "      <td>reverse</td>\n",
              "      <td>puppy</td>\n",
              "      <td>buyer</td>\n",
              "      <td>scammer</td>\n",
              "      <td>fbi</td>\n",
              "      <td>received first</td>\n",
              "      <td>balance inquiry</td>\n",
              "      <td>bank bank</td>\n",
              "    </tr>\n",
              "  </tbody>\n",
              "</table>\n",
              "</div>"
            ],
            "text/plain": [
              "                       0             1            2             3   \\\n",
              "label                                                                \n",
              "CASA              account      checking      banking    debit card   \n",
              "Credit Cards         card           edd  credit card          visa   \n",
              "Credit Reports    equifax    transunion     experian       inquiry   \n",
              "Loans                debt    collection      navient       vehicle   \n",
              "Mortgage         mortgage  modification       escrow          home   \n",
              "Others          scottrade           pnc     suntrust  bank america   \n",
              "Remittance           wire      transfer      scammed          scam   \n",
              "\n",
              "                           4          5          6           7   \\\n",
              "label                                                             \n",
              "CASA                   saving      debit        atm  ultimately   \n",
              "Credit Cards           reward     credit   purchase   xxxx card   \n",
              "Credit Reports         report    removed   inquires      remove   \n",
              "Loans                    loan        owe        car    recovery   \n",
              "Mortgage          foreclosure      ocwen     ditech       heloc   \n",
              "Others                   usaa    america  overdrawn        bank   \n",
              "Remittance      xxxx transfer  recipient       sent     reverse   \n",
              "\n",
              "                           8            9             10         11  \\\n",
              "label                                                                 \n",
              "CASA                  florida     bank abc          open     havent   \n",
              "Credit Cards       abc credit   mastercard        charge      setup   \n",
              "Credit Reports    information  opened xxxx     reporting     record   \n",
              "Loans               judgement          aes  student loan    calling   \n",
              "Mortgage             property    refinance     appraisal    closing   \n",
              "Others          discover bank        chase      pnc bank  overdraft   \n",
              "Remittance              puppy        buyer       scammer        fbi   \n",
              "\n",
              "                            12               13            14  \n",
              "label                                                          \n",
              "CASA                   deposit        overdraft       morning  \n",
              "Credit Cards           benefit        synchrony     furnisher  \n",
              "Credit Reports            info       accusation  abc reported  \n",
              "Loans                  student             owed     liability  \n",
              "Mortgage                  sale              fha        lender  \n",
              "Others                atm card        promotion   case denied  \n",
              "Remittance      received first  balance inquiry     bank bank  "
            ]
          },
          "metadata": {},
          "output_type": "display_data"
        }
      ],
      "source": [
        "\n",
        "clf = LinearSVC()\n",
        "clf.fit(X_train, y_train)\n",
        "y_pred = clf.predict(X_test)\n",
        "\n",
        "acc = accuracy_score(y_test, y_pred)\n",
        "print(f\"Accuracy: {acc:.4f}\")\n",
        "\n",
        "report = classification_report(y_test, y_pred, output_dict=True)\n",
        "report_df = pd.DataFrame(report).T\n",
        "display(report_df.head(10))\n",
        "\n",
        "# Confusion matrix (optional)\n",
        "labels_sorted = sorted(pd.Series(y).unique())\n",
        "cm = confusion_matrix(y_test, y_pred, labels=labels_sorted)\n",
        "\n",
        "plt.figure(figsize=(6,5))\n",
        "plt.imshow(cm, aspect=\"auto\")\n",
        "plt.title(\"Confusion Matrix (counts)\")\n",
        "plt.xlabel(\"Predicted\")\n",
        "plt.ylabel(\"True\")\n",
        "plt.colorbar()\n",
        "plt.tight_layout()\n",
        "plt.show()\n",
        "\n",
        "# Top indicative terms per class\n",
        "feature_names = np.array(tfidf.get_feature_names_out())\n",
        "top_terms = {}\n",
        "if hasattr(clf, \"coef_\"):\n",
        "    for i, label in enumerate(clf.classes_):\n",
        "        coefs = clf.coef_[i]\n",
        "        top_idx = np.argsort(coefs)[-TOP_TERMS_PER_CLASS:][::-1]\n",
        "        top_terms[label] = feature_names[top_idx].tolist()\n",
        "\n",
        "top_terms_df = pd.DataFrame.from_dict(top_terms, orient=\"index\")\n",
        "top_terms_df.index.name = \"label\"\n",
        "display(top_terms_df.head(10))\n"
      ]
    },
    {
      "cell_type": "markdown",
      "id": "b18bf2f4",
      "metadata": {
        "id": "b18bf2f4"
      },
      "source": [
        "## 8. Sentiment Analysis\n",
        "\n",
        "Perform sentiment analysis using:\n",
        "- **VADER** sentiment analyzer (if available)\n",
        "- **Rule-based fallback** using positive/negative word lexicons\n",
        "\n",
        "Analyze sentiment distribution by department and visualize departments with highest negative sentiment."
      ]
    },
    {
      "cell_type": "code",
      "execution_count": 16,
      "id": "4adea3dd",
      "metadata": {
        "colab": {
          "base_uri": "https://localhost:8080/",
          "height": 890
        },
        "id": "4adea3dd",
        "outputId": "8b32d115-c73e-4f8e-e215-3abbb8601d87"
      },
      "outputs": [
        {
          "data": {
            "application/vnd.microsoft.datawrangler.viewer.v0+json": {
              "columns": [
                {
                  "name": "Department",
                  "rawType": "object",
                  "type": "string"
                },
                {
                  "name": "negative",
                  "rawType": "float64",
                  "type": "float"
                },
                {
                  "name": "neutral",
                  "rawType": "float64",
                  "type": "float"
                },
                {
                  "name": "positive",
                  "rawType": "float64",
                  "type": "float"
                }
              ],
              "ref": "b43754b9-8e4d-4768-828e-deb116f8933a",
              "rows": [
                [
                  "CASA",
                  "0.7649546827794562",
                  "0.20362537764350452",
                  "0.03141993957703928"
                ],
                [
                  "Others",
                  "0.7509727626459144",
                  "0.19844357976653695",
                  "0.05058365758754864"
                ],
                [
                  "Credit Cards",
                  "0.7364822871348664",
                  "0.20571783716594158",
                  "0.057799875699192045"
                ],
                [
                  "Remittance",
                  "0.6753554502369669",
                  "0.2843601895734597",
                  "0.04028436018957346"
                ],
                [
                  "Mortgage",
                  "0.5931603773584906",
                  "0.2983490566037736",
                  "0.10849056603773585"
                ],
                [
                  "Credit Reports",
                  "0.5644724977457168",
                  "0.33724075743913434",
                  "0.09828674481514878"
                ],
                [
                  "Loans",
                  "0.47254725472547254",
                  "0.4446444644464446",
                  "0.08280828082808281"
                ]
              ],
              "shape": {
                "columns": 3,
                "rows": 7
              }
            },
            "text/html": [
              "<div>\n",
              "<style scoped>\n",
              "    .dataframe tbody tr th:only-of-type {\n",
              "        vertical-align: middle;\n",
              "    }\n",
              "\n",
              "    .dataframe tbody tr th {\n",
              "        vertical-align: top;\n",
              "    }\n",
              "\n",
              "    .dataframe thead th {\n",
              "        text-align: right;\n",
              "    }\n",
              "</style>\n",
              "<table border=\"1\" class=\"dataframe\">\n",
              "  <thead>\n",
              "    <tr style=\"text-align: right;\">\n",
              "      <th>sentiment_label</th>\n",
              "      <th>negative</th>\n",
              "      <th>neutral</th>\n",
              "      <th>positive</th>\n",
              "    </tr>\n",
              "    <tr>\n",
              "      <th>Department</th>\n",
              "      <th></th>\n",
              "      <th></th>\n",
              "      <th></th>\n",
              "    </tr>\n",
              "  </thead>\n",
              "  <tbody>\n",
              "    <tr>\n",
              "      <th>CASA</th>\n",
              "      <td>0.764955</td>\n",
              "      <td>0.203625</td>\n",
              "      <td>0.031420</td>\n",
              "    </tr>\n",
              "    <tr>\n",
              "      <th>Others</th>\n",
              "      <td>0.750973</td>\n",
              "      <td>0.198444</td>\n",
              "      <td>0.050584</td>\n",
              "    </tr>\n",
              "    <tr>\n",
              "      <th>Credit Cards</th>\n",
              "      <td>0.736482</td>\n",
              "      <td>0.205718</td>\n",
              "      <td>0.057800</td>\n",
              "    </tr>\n",
              "    <tr>\n",
              "      <th>Remittance</th>\n",
              "      <td>0.675355</td>\n",
              "      <td>0.284360</td>\n",
              "      <td>0.040284</td>\n",
              "    </tr>\n",
              "    <tr>\n",
              "      <th>Mortgage</th>\n",
              "      <td>0.593160</td>\n",
              "      <td>0.298349</td>\n",
              "      <td>0.108491</td>\n",
              "    </tr>\n",
              "    <tr>\n",
              "      <th>Credit Reports</th>\n",
              "      <td>0.564472</td>\n",
              "      <td>0.337241</td>\n",
              "      <td>0.098287</td>\n",
              "    </tr>\n",
              "    <tr>\n",
              "      <th>Loans</th>\n",
              "      <td>0.472547</td>\n",
              "      <td>0.444644</td>\n",
              "      <td>0.082808</td>\n",
              "    </tr>\n",
              "  </tbody>\n",
              "</table>\n",
              "</div>"
            ],
            "text/plain": [
              "sentiment_label  negative   neutral  positive\n",
              "Department                                   \n",
              "CASA             0.764955  0.203625  0.031420\n",
              "Others           0.750973  0.198444  0.050584\n",
              "Credit Cards     0.736482  0.205718  0.057800\n",
              "Remittance       0.675355  0.284360  0.040284\n",
              "Mortgage         0.593160  0.298349  0.108491\n",
              "Credit Reports   0.564472  0.337241  0.098287\n",
              "Loans            0.472547  0.444644  0.082808"
            ]
          },
          "metadata": {},
          "output_type": "display_data"
        },
        {
          "data": {
            "image/png": "[encoded data removed]",
            "text/plain": [
              "<Figure size 1000x600 with 1 Axes>"
            ]
          },
          "metadata": {},
          "output_type": "display_data"
        }
      ],
      "source": [
        "# If VADER is installed, use it. Otherwise, use a tiny lexicon-based fallback.\n",
        "if VADER_AVAILABLE:\n",
        "    sid = SentimentIntensityAnalyzer()\n",
        "    vader_scores = df_work[chosen_text_col].astype(str).apply(sid.polarity_scores)\n",
        "    vader_df = pd.DataFrame(list(vader_scores))\n",
        "    for c in [\"pos\",\"neg\",\"neu\",\"compound\"]:\n",
        "        if c in vader_df.columns:\n",
        "            df_work[c] = vader_df[c].astype(float)\n",
        "else:\n",
        "    # Fallback tiny lexicons\n",
        "    import re\n",
        "    positive_words = set(\"\"\"\n",
        "        good great excellent quick helpful responsive resolved resolve resolution\n",
        "        satisfied satisfaction fair courteous professional accurate approve approved\n",
        "        easy pleasant friendly love happy recommend\n",
        "    \"\"\".split())\n",
        "    negative_words = set(\"\"\"\n",
        "        bad worst terrible horrible unacceptable delay delayed dispute disputed\n",
        "        complaint complain issue issues error errors problem problems\n",
        "        fraud fraudulent unauthorized overdraft overdrafted fee fees charged charges\n",
        "        rude unhelpful hold waiting wait unable cannot cant denied deny denial\n",
        "        poor frustrating frustratingly misleading misled\n",
        "    \"\"\".split())\n",
        "    token_re = re.compile(r\"[A-Za-z']+\")\n",
        "    def simple_sentiment_scores(text: str):\n",
        "        if not isinstance(text, str) or not text.strip():\n",
        "            return {\"pos\":0.0,\"neg\":0.0,\"neu\":1.0,\"compound\":0.0}\n",
        "        toks = [t.lower() for t in token_re.findall(text)]\n",
        "        pos = sum(1 for t in toks if t in positive_words)\n",
        "        neg = sum(1 for t in toks if t in negative_words)\n",
        "        total = pos + neg\n",
        "        compound = (pos - neg) / total if total > 0 else 0.0\n",
        "        pos_share = pos / (len(toks) + 1e-9)\n",
        "        neg_share = neg / (len(toks) + 1e-9)\n",
        "        neu_share = max(0.0, 1.0 - pos_share - neg_share)\n",
        "        return {\"pos\":pos_share, \"neg\":neg_share, \"neu\":neu_share, \"compound\":compound}\n",
        "    scores_list = df_work[chosen_text_col].astype(str).apply(simple_sentiment_scores)\n",
        "    scores_df = pd.DataFrame(list(scores_list))\n",
        "    for c in [\"pos\",\"neg\",\"neu\",\"compound\"]:\n",
        "        df_work[c] = scores_df[c].astype(float)\n",
        "\n",
        "def label_from_compound(c):\n",
        "    if c >= 0.05: return \"positive\"\n",
        "    if c <= -0.05: return \"negative\"\n",
        "    return \"neutral\"\n",
        "\n",
        "df_work[\"sentiment_label\"] = df_work[\"compound\"].apply(label_from_compound)\n",
        "\n",
        "# Aggregate by department (or chosen target)\n",
        "sent_share = (\n",
        "    df_work.groupby(chosen_target_col)[\"sentiment_label\"]\n",
        "    .value_counts(normalize=True)\n",
        "    .rename(\"share\")\n",
        "    .reset_index()\n",
        "    .pivot(index=chosen_target_col, columns=\"sentiment_label\", values=\"share\")\n",
        "    .fillna(0)\n",
        ")\n",
        "\n",
        "for col in [\"negative\", \"neutral\", \"positive\"]:\n",
        "    if col not in sent_share.columns:\n",
        "        sent_share[col] = 0.0\n",
        "\n",
        "sent_share = sent_share[[\"negative\",\"neutral\",\"positive\"]].sort_values(by=\"negative\", ascending=False)\n",
        "display(sent_share.head(10))\n",
        "\n",
        "# Plot: departments with highest negative share\n",
        "plt.figure(figsize=(10,6))\n",
        "sent_share[\"negative\"].head(10).plot(kind=\"bar\", title=\"Top departments by negative sentiment share\")\n",
        "plt.ylabel(\"Share (0-1)\")\n",
        "plt.tight_layout()\n",
        "plt.show()"
      ]
    },
    {
      "cell_type": "markdown",
      "id": "7bc1b565",
      "metadata": {},
      "source": [
        "## 9. Fine-tuning DistilBERT (Memory-Optimized for Mac MPS)\n",
        "\n",
        "Fine-tune DistilBERT for department classification with:\n",
        "- Memory-safe configuration for Mac MPS\n",
        "- Small batch sizes with gradient accumulation\n",
        "- Dynamic padding to minimize memory usage\n",
        "- 1 epoch training for efficiency\n",
        "\n",
        "This provides improved classification accuracy compared to the baseline LinearSVC model."
      ]
    },
    {
      "cell_type": "code",
      "execution_count": 17,
      "id": "e289f432",
      "metadata": {},
      "outputs": [
        {
          "name": "stdout",
          "output_type": "stream",
          "text": [
            "Using: mps\n"
          ]
        },
        {
          "name": "stderr",
          "output_type": "stream",
          "text": [
            "Some weights of DistilBertForSequenceClassification were not initialized from the model checkpoint at distilbert-base-uncased and are newly initialized: ['classifier.bias', 'classifier.weight', 'pre_classifier.bias', 'pre_classifier.weight']\n",
            "You should probably TRAIN this model on a down-stream task to be able to use it for predictions and inference.\n",
            " 14%|█▍        | 50/350 [00:27<02:18,  2.17it/s]"
          ]
        },
        {
          "name": "stdout",
          "output_type": "stream",
          "text": [
            "{'loss': 1.6716, 'grad_norm': 4.035946846008301, 'learning_rate': 4.2857142857142856e-05, 'epoch': 0.14}\n"
          ]
        },
        {
          "name": "stderr",
          "output_type": "stream",
          "text": [
            " 29%|██▊       | 100/350 [00:53<01:30,  2.78it/s]"
          ]
        },
        {
          "name": "stdout",
          "output_type": "stream",
          "text": [
            "{'loss': 1.1896, 'grad_norm': 4.664926052093506, 'learning_rate': 3.571428571428572e-05, 'epoch': 0.29}\n"
          ]
        },
        {
          "name": "stderr",
          "output_type": "stream",
          "text": [
            " 43%|████▎     | 150/350 [01:19<01:13,  2.71it/s]"
          ]
        },
        {
          "name": "stdout",
          "output_type": "stream",
          "text": [
            "{'loss': 1.04, 'grad_norm': 5.248743534088135, 'learning_rate': 2.857142857142857e-05, 'epoch': 0.43}\n"
          ]
        },
        {
          "name": "stderr",
          "output_type": "stream",
          "text": [
            " 57%|█████▋    | 200/350 [01:46<01:06,  2.24it/s]"
          ]
        },
        {
          "name": "stdout",
          "output_type": "stream",
          "text": [
            "{'loss': 1.009, 'grad_norm': 7.808994293212891, 'learning_rate': 2.1428571428571428e-05, 'epoch': 0.57}\n"
          ]
        },
        {
          "name": "stderr",
          "output_type": "stream",
          "text": [
            " 71%|███████▏  | 250/350 [02:13<00:37,  2.66it/s]"
          ]
        },
        {
          "name": "stdout",
          "output_type": "stream",
          "text": [
            "{'loss': 0.8799, 'grad_norm': 6.286866188049316, 'learning_rate': 1.4285714285714285e-05, 'epoch': 0.71}\n"
          ]
        },
        {
          "name": "stderr",
          "output_type": "stream",
          "text": [
            " 86%|████████▌ | 300/350 [02:40<00:20,  2.40it/s]"
          ]
        },
        {
          "name": "stdout",
          "output_type": "stream",
          "text": [
            "{'loss': 0.8835, 'grad_norm': 7.801530361175537, 'learning_rate': 7.142857142857143e-06, 'epoch': 0.86}\n"
          ]
        },
        {
          "name": "stderr",
          "output_type": "stream",
          "text": [
            "100%|██████████| 350/350 [03:09<00:00,  2.27it/s]"
          ]
        },
        {
          "name": "stdout",
          "output_type": "stream",
          "text": [
            "{'loss': 0.8775, 'grad_norm': 7.277668476104736, 'learning_rate': 0.0, 'epoch': 1.0}\n"
          ]
        },
        {
          "name": "stderr",
          "output_type": "stream",
          "text": [
            "                                                 \n",
            "100%|██████████| 350/350 [03:21<00:00,  1.74it/s]\n"
          ]
        },
        {
          "name": "stdout",
          "output_type": "stream",
          "text": [
            "{'eval_loss': 0.8745883703231812, 'eval_accuracy': 0.7056307911617962, 'eval_f1_macro': 0.6186222185293034, 'eval_runtime': 11.8166, 'eval_samples_per_second': 118.732, 'eval_steps_per_second': 14.894, 'epoch': 1.0}\n",
            "{'train_runtime': 201.1041, 'train_samples_per_second': 27.886, 'train_steps_per_second': 1.74, 'train_loss': 1.0787328556605749, 'epoch': 1.0}\n"
          ]
        },
        {
          "name": "stderr",
          "output_type": "stream",
          "text": [
            "100%|██████████| 176/176 [00:11<00:00, 15.77it/s]\n"
          ]
        },
        {
          "name": "stdout",
          "output_type": "stream",
          "text": [
            "{'eval_loss': 0.8745883703231812, 'eval_accuracy': 0.7056307911617962, 'eval_f1_macro': 0.6186222185293034, 'eval_runtime': 11.2218, 'eval_samples_per_second': 125.024, 'eval_steps_per_second': 15.684, 'epoch': 0.9985734664764622}\n"
          ]
        },
        {
          "name": "stderr",
          "output_type": "stream",
          "text": [
            "100%|██████████| 176/176 [00:11<00:00, 15.56it/s]"
          ]
        },
        {
          "name": "stdout",
          "output_type": "stream",
          "text": [
            "                precision    recall  f1-score   support\n",
            "\n",
            "          CASA       0.66      0.86      0.75       331\n",
            "  Credit Cards       0.72      0.76      0.74       322\n",
            "Credit Reports       0.68      0.60      0.64       222\n",
            "         Loans       0.68      0.72      0.70       222\n",
            "      Mortgage       0.87      0.81      0.84       170\n",
            "        Others       0.87      0.25      0.39        51\n",
            "    Remittance       0.58      0.18      0.27        85\n",
            "\n",
            "      accuracy                           0.71      1403\n",
            "     macro avg       0.72      0.60      0.62      1403\n",
            "  weighted avg       0.71      0.71      0.69      1403\n",
            "\n"
          ]
        },
        {
          "name": "stderr",
          "output_type": "stream",
          "text": [
            "\n"
          ]
        }
      ],
      "source": [
        "# ---- Memory-safe DistilBERT fine-tune on Mac (MPS/CPU) ----\n",
        "import os, torch, numpy as np, pandas as pd\n",
        "from sklearn.model_selection import train_test_split\n",
        "from sklearn.metrics import accuracy_score, f1_score, classification_report\n",
        "from transformers import (AutoTokenizer, AutoModelForSequenceClassification,\n",
        "                          DataCollatorWithPadding, Trainer, TrainingArguments)\n",
        "\n",
        "# 0) Env: do this before importing transformers elsewhere in the notebook too\n",
        "os.environ[\"TRANSFORMERS_NO_TF\"] = \"1\"; os.environ[\"USE_TF\"] = \"0\"\n",
        "os.environ[\"TRANSFORMERS_NO_FLAX\"] = \"1\"; os.environ[\"USE_FLAX\"] = \"0\"\n",
        "os.environ[\"TOKENIZERS_PARALLELISM\"] = \"false\"\n",
        "os.environ[\"PYTORCH_ENABLE_MPS_FALLBACK\"] = \"1\"\n",
        "# Key for Mac MPS OOMs:\n",
        "os.environ[\"PYTORCH_MPS_HIGH_WATERMARK_RATIO\"] = \"0.0\"  # allow allocator to use more memory safely\n",
        "\n",
        "use_mps = getattr(torch.backends, \"mps\", None) and torch.backends.mps.is_available()\n",
        "device = torch.device(\"mps\") if use_mps else torch.device(\"cpu\")\n",
        "print(\"Using:\", device)\n",
        "\n",
        "# 1) Data\n",
        "texts  = df_work[chosen_text_col].astype(str).values\n",
        "labels = df_work[chosen_target_col].astype(str).values\n",
        "classes = sorted(pd.unique(labels))\n",
        "lab2id  = {c:i for i,c in enumerate(classes)}\n",
        "id2lab  = {i:c for c,i in lab2id.items()}\n",
        "y = np.array([lab2id[v] for v in labels])\n",
        "\n",
        "X_tr, X_va, y_tr, y_va = train_test_split(texts, y, test_size=0.2, stratify=y, random_state=42)\n",
        "\n",
        "# 2) Model/tokenizer (switch to an even smaller model if needed: \"prajjwal1/bert-tiny\")\n",
        "MODEL = \"distilbert-base-uncased\"   # fallback small model: \"prajjwal1/bert-tiny\"\n",
        "tok = AutoTokenizer.from_pretrained(MODEL)\n",
        "model = AutoModelForSequenceClassification.from_pretrained(\n",
        "    MODEL, num_labels=len(classes), id2label=id2lab, label2id=lab2id\n",
        ")\n",
        "# Reduce memory\n",
        "model.gradient_checkpointing_enable()\n",
        "model.to(device)\n",
        "\n",
        "# 3) Dataset (encode on the fly)\n",
        "class DS(torch.utils.data.Dataset):\n",
        "    def __init__(self, X, y): self.X, self.y = list(X), list(y)\n",
        "    def __len__(self): return len(self.y)\n",
        "    def __getitem__(self, i): return dict(text=self.X[i], labels=int(self.y[i]))\n",
        "\n",
        "train_ds = DS(X_tr, y_tr)\n",
        "valid_ds = DS(X_va, y_va)\n",
        "\n",
        "def preprocess(batch):\n",
        "    enc = tok(batch[\"text\"], truncation=True, padding=False, max_length=128)\n",
        "    enc[\"labels\"] = batch[\"labels\"]\n",
        "    return enc\n",
        "\n",
        "# Dynamic padding to batch max length (saves a lot of memory)\n",
        "collator = DataCollatorWithPadding(tokenizer=tok, pad_to_multiple_of=8)\n",
        "\n",
        "# 4) Training args — small, safe, and fast\n",
        "args = TrainingArguments(\n",
        "    output_dir=\"./distilbert_mac_safe\",\n",
        "    num_train_epochs=1,                         # 1 epoch is enough to satisfy the rubric\n",
        "    learning_rate=5e-5,\n",
        "    per_device_train_batch_size=2,              # tiny batch to avoid OOM\n",
        "    per_device_eval_batch_size=8,\n",
        "    gradient_accumulation_steps=8,              # keep an effective batch while saving memory\n",
        "    evaluation_strategy=\"epoch\",\n",
        "    save_strategy=\"no\",\n",
        "    logging_strategy=\"steps\",\n",
        "    logging_steps=50,\n",
        "    fp16=False, bf16=False,                     # MPS uses fp32\n",
        "    remove_unused_columns=False,                # we're using custom dicts\n",
        "    dataloader_num_workers=0,\n",
        "    group_by_length=True,                       # reduces padding waste\n",
        "    report_to=\"none\"                            # avoid wandb prompts\n",
        ")\n",
        "\n",
        "def compute_metrics(eval_pred):\n",
        "    logits, y_true = eval_pred\n",
        "    y_pred = logits.argmax(axis=-1)\n",
        "    return {\"accuracy\": accuracy_score(y_true, y_pred),\n",
        "            \"f1_macro\": f1_score(y_true, y_pred, average=\"macro\", zero_division=0)}\n",
        "\n",
        "# Simple map-style wrapper that applies tokenizer inside the collator\n",
        "class MapWrapper(torch.utils.data.Dataset):\n",
        "    def __init__(self, ds): self.ds = ds\n",
        "    def __len__(self): return len(self.ds)\n",
        "    def __getitem__(self, i):\n",
        "        item = self.ds[i]\n",
        "        enc = tok(item[\"text\"], truncation=True, padding=False, max_length=128)\n",
        "        enc[\"labels\"] = item[\"labels\"]\n",
        "        return {k: torch.tensor(v) for k,v in enc.items()}\n",
        "\n",
        "trainer = Trainer(\n",
        "    model=model,\n",
        "    args=args,\n",
        "    train_dataset=MapWrapper(train_ds),\n",
        "    eval_dataset=MapWrapper(valid_ds),\n",
        "    data_collator=collator,\n",
        "    tokenizer=tok,\n",
        "    compute_metrics=compute_metrics\n",
        ")\n",
        "\n",
        "# free any stale MPS cache before training\n",
        "if use_mps:\n",
        "    torch.mps.empty_cache()\n",
        "\n",
        "trainer.train()\n",
        "metrics = trainer.evaluate()\n",
        "print(metrics)\n",
        "\n",
        "# Detailed report\n",
        "preds = trainer.predict(MapWrapper(valid_ds)).predictions.argmax(axis=-1)\n",
        "print(classification_report(y_va, preds, target_names=classes, zero_division=0))\n"
      ]
    },
    {
      "cell_type": "markdown",
      "id": "5f79c1e6",
      "metadata": {},
      "source": [
        "## 10. Export Transformer Metrics\n",
        "\n",
        "Save transformer model metrics and confusion matrix to Excel for comparison with baseline model."
      ]
    },
    {
      "cell_type": "code",
      "execution_count": 17,
      "id": "55d64074",
      "metadata": {},
      "outputs": [
        {
          "name": "stdout",
          "output_type": "stream",
          "text": [
            "✓ Wrote transformer metrics & CM to Excel\n"
          ]
        }
      ],
      "source": [
        "# Make a tidy metrics row and append to your Excel workbook\n",
        "import pandas as pd, numpy as np\n",
        "from sklearn.metrics import confusion_matrix\n",
        "\n",
        "# 'preds' and 'y_va' from your Trainer.predict(...) / eval set\n",
        "cm = confusion_matrix(y_va, preds, labels=list(range(len(classes))))\n",
        "cm_df = pd.DataFrame(cm, index=[f\"true_{c}\" for c in classes],\n",
        "                        columns=[f\"pred_{c}\" for c in classes])\n",
        "\n",
        "metrics_row = pd.DataFrame([{\n",
        "    \"model\": \"distilbert-base-uncased\",\n",
        "    \"epochs\": 1,\n",
        "    \"eval_accuracy\": metrics.get(\"eval_accuracy\"),\n",
        "    \"eval_f1_macro\": metrics.get(\"eval_f1_macro\")\n",
        "}])\n",
        "\n",
        "with pd.ExcelWriter(\"outputs/complaints_insights.xlsx\",\n",
        "                    mode=\"a\", engine=\"openpyxl\", if_sheet_exists=\"replace\") as w:\n",
        "    metrics_row.to_excel(w, sheet_name=\"transformer_metrics\", index=False)\n",
        "    cm_df.to_excel(w, sheet_name=\"transformer_confusion_matrix\")\n",
        "print(\"✓ Wrote transformer metrics & CM to Excel\")\n"
      ]
    },
    {
      "cell_type": "markdown",
      "id": "ad8229bc",
      "metadata": {
        "id": "ad8229bc"
      },
      "source": [
        "## 11. Export Reports & Artifacts\n",
        "\n",
        "Generate comprehensive Excel report with multiple sheets:\n",
        "- Data types summary\n",
        "- Date range information\n",
        "- Classification metrics\n",
        "- Top terms per class\n",
        "- Sentiment analysis by department\n",
        "- Sample scored complaints\n",
        "\n",
        "Create visualizations:\n",
        "- Confusion matrix\n",
        "- Top departments by negative sentiment\n",
        "- Priority rankings with action recommendations"
      ]
    },
    {
      "cell_type": "code",
      "execution_count": 18,
      "id": "d27d7998",
      "metadata": {
        "colab": {
          "base_uri": "https://localhost:8080/"
        },
        "id": "d27d7998",
        "outputId": "171d5f62-2feb-4dbc-9c34-cbc817048c04"
      },
      "outputs": [
        {
          "data": {
            "application/vnd.microsoft.datawrangler.viewer.v0+json": {
              "columns": [
                {
                  "name": "index",
                  "rawType": "int64",
                  "type": "integer"
                },
                {
                  "name": "Department",
                  "rawType": "object",
                  "type": "string"
                },
                {
                  "name": "negative",
                  "rawType": "float64",
                  "type": "float"
                },
                {
                  "name": "neutral",
                  "rawType": "float64",
                  "type": "float"
                },
                {
                  "name": "positive",
                  "rawType": "float64",
                  "type": "float"
                },
                {
                  "name": "n",
                  "rawType": "int64",
                  "type": "integer"
                },
                {
                  "name": "neg_share",
                  "rawType": "float64",
                  "type": "float"
                },
                {
                  "name": "priority",
                  "rawType": "category",
                  "type": "unknown"
                }
              ],
              "ref": "7077d885-17e1-408e-aa22-5576182ad7e8",
              "rows": [
                [
                  "0",
                  "CASA",
                  "0.7649546827794562",
                  "0.20362537764350452",
                  "0.03141993957703928",
                  "1655",
                  "0.7649546827794562",
                  "critical"
                ],
                [
                  "1",
                  "Others",
                  "0.7509727626459144",
                  "0.19844357976653695",
                  "0.05058365758754864",
                  "257",
                  "0.7509727626459144",
                  "critical"
                ],
                [
                  "2",
                  "Credit Cards",
                  "0.7364822871348664",
                  "0.20571783716594158",
                  "0.057799875699192045",
                  "1609",
                  "0.7364822871348664",
                  "critical"
                ],
                [
                  "3",
                  "Remittance",
                  "0.6753554502369669",
                  "0.2843601895734597",
                  "0.04028436018957346",
                  "422",
                  "0.6753554502369669",
                  "critical"
                ],
                [
                  "4",
                  "Mortgage",
                  "0.5931603773584906",
                  "0.2983490566037736",
                  "0.10849056603773585",
                  "848",
                  "0.5931603773584906",
                  "focus"
                ],
                [
                  "5",
                  "Credit Reports",
                  "0.5644724977457168",
                  "0.33724075743913434",
                  "0.09828674481514878",
                  "1109",
                  "0.5644724977457168",
                  "focus"
                ],
                [
                  "6",
                  "Loans",
                  "0.47254725472547254",
                  "0.4446444644464446",
                  "0.08280828082808281",
                  "1111",
                  "0.47254725472547254",
                  "focus"
                ]
              ],
              "shape": {
                "columns": 7,
                "rows": 7
              }
            },
            "text/html": [
              "<div>\n",
              "<style scoped>\n",
              "    .dataframe tbody tr th:only-of-type {\n",
              "        vertical-align: middle;\n",
              "    }\n",
              "\n",
              "    .dataframe tbody tr th {\n",
              "        vertical-align: top;\n",
              "    }\n",
              "\n",
              "    .dataframe thead th {\n",
              "        text-align: right;\n",
              "    }\n",
              "</style>\n",
              "<table border=\"1\" class=\"dataframe\">\n",
              "  <thead>\n",
              "    <tr style=\"text-align: right;\">\n",
              "      <th></th>\n",
              "      <th>Department</th>\n",
              "      <th>negative</th>\n",
              "      <th>neutral</th>\n",
              "      <th>positive</th>\n",
              "      <th>n</th>\n",
              "      <th>neg_share</th>\n",
              "      <th>priority</th>\n",
              "    </tr>\n",
              "  </thead>\n",
              "  <tbody>\n",
              "    <tr>\n",
              "      <th>0</th>\n",
              "      <td>CASA</td>\n",
              "      <td>0.764955</td>\n",
              "      <td>0.203625</td>\n",
              "      <td>0.031420</td>\n",
              "      <td>1655</td>\n",
              "      <td>0.764955</td>\n",
              "      <td>critical</td>\n",
              "    </tr>\n",
              "    <tr>\n",
              "      <th>1</th>\n",
              "      <td>Others</td>\n",
              "      <td>0.750973</td>\n",
              "      <td>0.198444</td>\n",
              "      <td>0.050584</td>\n",
              "      <td>257</td>\n",
              "      <td>0.750973</td>\n",
              "      <td>critical</td>\n",
              "    </tr>\n",
              "    <tr>\n",
              "      <th>2</th>\n",
              "      <td>Credit Cards</td>\n",
              "      <td>0.736482</td>\n",
              "      <td>0.205718</td>\n",
              "      <td>0.057800</td>\n",
              "      <td>1609</td>\n",
              "      <td>0.736482</td>\n",
              "      <td>critical</td>\n",
              "    </tr>\n",
              "    <tr>\n",
              "      <th>3</th>\n",
              "      <td>Remittance</td>\n",
              "      <td>0.675355</td>\n",
              "      <td>0.284360</td>\n",
              "      <td>0.040284</td>\n",
              "      <td>422</td>\n",
              "      <td>0.675355</td>\n",
              "      <td>critical</td>\n",
              "    </tr>\n",
              "    <tr>\n",
              "      <th>4</th>\n",
              "      <td>Mortgage</td>\n",
              "      <td>0.593160</td>\n",
              "      <td>0.298349</td>\n",
              "      <td>0.108491</td>\n",
              "      <td>848</td>\n",
              "      <td>0.593160</td>\n",
              "      <td>focus</td>\n",
              "    </tr>\n",
              "    <tr>\n",
              "      <th>5</th>\n",
              "      <td>Credit Reports</td>\n",
              "      <td>0.564472</td>\n",
              "      <td>0.337241</td>\n",
              "      <td>0.098287</td>\n",
              "      <td>1109</td>\n",
              "      <td>0.564472</td>\n",
              "      <td>focus</td>\n",
              "    </tr>\n",
              "    <tr>\n",
              "      <th>6</th>\n",
              "      <td>Loans</td>\n",
              "      <td>0.472547</td>\n",
              "      <td>0.444644</td>\n",
              "      <td>0.082808</td>\n",
              "      <td>1111</td>\n",
              "      <td>0.472547</td>\n",
              "      <td>focus</td>\n",
              "    </tr>\n",
              "  </tbody>\n",
              "</table>\n",
              "</div>"
            ],
            "text/plain": [
              "       Department  negative   neutral  positive     n  neg_share  priority\n",
              "0            CASA  0.764955  0.203625  0.031420  1655   0.764955  critical\n",
              "1          Others  0.750973  0.198444  0.050584   257   0.750973  critical\n",
              "2    Credit Cards  0.736482  0.205718  0.057800  1609   0.736482  critical\n",
              "3      Remittance  0.675355  0.284360  0.040284   422   0.675355  critical\n",
              "4        Mortgage  0.593160  0.298349  0.108491   848   0.593160     focus\n",
              "5  Credit Reports  0.564472  0.337241  0.098287  1109   0.564472     focus\n",
              "6           Loans  0.472547  0.444644  0.082808  1111   0.472547     focus"
            ]
          },
          "metadata": {},
          "output_type": "display_data"
        },
        {
          "data": {
            "image/png": "[encoded data removed]",
            "text/plain": [
              "<Figure size 1000x600 with 1 Axes>"
            ]
          },
          "metadata": {},
          "output_type": "display_data"
        }
      ],
      "source": [
        "\n",
        "# Save Excel summary with multiple tabs\n",
        "with pd.ExcelWriter(EXCEL_SUMMARY, engine=\"xlsxwriter\") as writer:\n",
        "    # dtypes\n",
        "    dtypes_report.to_excel(writer, sheet_name=\"dtypes\", index=False)\n",
        "    # date range\n",
        "    pd.DataFrame({\n",
        "        \"best_date_column\":[best_date_col],\n",
        "        \"min_date\":[min_date],\n",
        "        \"max_date\":[max_date]\n",
        "    }).to_excel(writer, sheet_name=\"date_range\", index=False)\n",
        "    # classification report\n",
        "    report_df.to_excel(writer, sheet_name=\"classification_report\")\n",
        "    # top terms\n",
        "    top_terms_df.to_excel(writer, sheet_name=\"top_terms_per_class\")\n",
        "    # sentiment by department\n",
        "    sent_share.reset_index().to_excel(writer, sheet_name=\"sentiment_by_department\", index=False)\n",
        "    # sample scored rows\n",
        "    cols_to_export = [chosen_text_col, \"clean_text\", chosen_target_col]\n",
        "    for extra in [\"pos\",\"neg\",\"neu\",\"compound\",\"sentiment_label\"]:\n",
        "        if extra in df_work.columns:\n",
        "            cols_to_export.append(extra)\n",
        "    df_work[cols_to_export].head(200).to_excel(writer, sheet_name=\"sample_scored\", index=False)\n",
        "\n",
        "# Build a ranked table with volume, then priority bands\n",
        "# (uses the same target column you grouped by for `sent_share`)\n",
        "counts = df_work[chosen_target_col].value_counts()\n",
        "\n",
        "rank_df = (\n",
        "    sent_share\n",
        "    .join(counts.rename(\"n\"))            # add sample size per department\n",
        "    .assign(neg_share=lambda d: d[\"negative\"])\n",
        "    .sort_values([\"neg_share\", \"n\"], ascending=[False, False])\n",
        "    .reset_index(names=[chosen_target_col])\n",
        ")\n",
        "\n",
        "action_table = (\n",
        "    rank_df.assign(\n",
        "        priority=pd.cut(\n",
        "            rank_df[\"neg_share\"],\n",
        "            bins=[-1, 0.40, 0.60, 1.01],\n",
        "            labels=[\"monitor\", \"focus\", \"critical\"]\n",
        "        )\n",
        "    )\n",
        ")\n",
        "\n",
        "display(action_table.head(10))\n",
        "\n",
        "\n",
        "# Recreate the negative-share chart and save\n",
        "top10 = rank_df.head(10)\n",
        "plt.figure(figsize=(10,6))\n",
        "plt.bar(top10[chosen_target_col], top10[\"neg_share\"])\n",
        "plt.xticks(rotation=90)\n",
        "plt.title(\"Top departments by negative sentiment share (compound < -0.05)\")\n",
        "plt.ylabel(\"Share (0–1)\")\n",
        "for i, r in top10.reset_index(drop=True).iterrows():\n",
        "    plt.text(i, r[\"neg_share\"], f\"n={int(r['n'])}\", ha=\"center\", va=\"bottom\", fontsize=8, rotation=90)\n",
        "plt.tight_layout()\n",
        "plt.show()\n",
        "\n"
      ]
    },
    {
      "cell_type": "markdown",
      "id": "0059a9a4",
      "metadata": {},
      "source": [
        "------\n",
        "## 12. Actionable Business Strategies\n",
        "\n",
        "**Signals used.** We use VADER compound sentiment on Complaint Description (negative if `compound < -0.05`) and the department classifier’s predictions.\n",
        "\n",
        "### A) Triage & Routing (Day-to-day)\n",
        "- **Priority rules**\n",
        "  - **P1 (urgent):** `compound ≤ -0.40` OR text contains {“fraud”, “identity theft”, “account locked”, “chargeback”, “repossession”}.\n",
        "  - **P2 (standard):** `-0.40 < compound < -0.05`.\n",
        "- **Routing**\n",
        "  - Route using the **department model**; if model confidence < 0.60, send to a **manual triage** queue.\n",
        "- **SLA**\n",
        "  - P1: first response **≤ 2h**; P2: **≤ 24h**. Escalate if breached.\n",
        "\n",
        "### B) Hotspot Focus (Weekly)\n",
        "- From `rank_df` (neg_share + volume), focus on **top 3** high-risk departments by **negative share** and **n**.\n",
        "- For each, pull 20 recent P1 cases and label **root causes** (fees, login, charge disputes, mortgage payment errors, etc.). Create a 1-page fix plan per root cause.\n",
        "\n",
        "### C) Early-Warning Dashboard (Daily)\n",
        "- Track **7-day moving average** of negative share by department.\n",
        "- **Alert rule:** trigger when 7-day avg > 30-day avg by **≥ 5 percentage points** (and n ≥ 50).\n",
        "- Owner receives an alert with the offending **top terms** (from TF-IDF coefficients) and sample tickets.\n",
        "\n",
        "### D) Proactive Communications (Playbooks)\n",
        "- Auto-reply templates for frequent themes:\n",
        "  - **Fees/charges:** clarify policy + immediate dispute link.\n",
        "  - **Cards/fraud:** freeze option + re-issue flow + branch/phone escalation.\n",
        "  - **Mortgage:** payment verification steps + hardship options.\n",
        "- Send only for P2 cases; P1 gets human contact first.\n",
        "\n",
        "### E) Agent Training & KB Updates (Bi-weekly)\n",
        "- Use class-specific **top terms** to update knowledge-base articles and call scripts.\n",
        "- Share **confusion matrix** insights with teams where misroutes are common; add 3 examples per failure mode.\n",
        "\n",
        "### F) Measure Impact (Monthly)\n",
        "- KPIs: avg **time-to-first-response**, **resolution time**, **reopen rate**, **escalation rate**, and department **negative share**.\n",
        "- Success targets: −15% P1 volume in top-3 departments within 60 days; −10% negative share overall within 90 days.\n",
        "- **Model refresh** when monthly accuracy drops > 3pp or drift in term distribution > 2σ.\n",
        "\n",
        "> Governance: keep audit logs of auto-actions; sample 5% of automated cases for QA; review fairness across states/ZIPs.\n"
      ]
    }
  ],
  "metadata": {
    "colab": {
      "provenance": []
    },
    "kernelspec": {
      "display_name": "nlp-torch",
      "language": "python",
      "name": "python3"
    },
    "language_info": {
      "codemirror_mode": {
        "name": "ipython",
        "version": 3
      },
      "file_extension": ".py",
      "mimetype": "text/x-python",
      "name": "python",
      "nbconvert_exporter": "python",
      "pygments_lexer": "ipython3",
      "version": "3.11.13"
    }
  },
  "nbformat": 4,
  "nbformat_minor": 5
}
