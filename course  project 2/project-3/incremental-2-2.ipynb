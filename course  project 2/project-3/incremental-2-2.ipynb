{
  "cells": [
    {
      "cell_type": "markdown",
      "metadata": {
        "id": "jyKh8VwuWkGy"
      },
      "source": [
        "\n",
        "-----\n",
        "\n",
        "### **1. Loading Pre-Processed Data**\n",
        "\n",
        "We will begin by loading the `Rental_Bike_Data_Dummy.csv` file. This file has already been cleaned and includes dummy variables for the categorical features, which is why we are using it for the modeling phase."
      ]
    },
    {
      "cell_type": "code",
      "execution_count": 1,
      "metadata": {
        "id": "bs3SGSxvWkGz"
      },
      "outputs": [],
      "source": [
        "import pandas as pd\n",
        "from sklearn.model_selection import train_test_split\n",
        "from sklearn.preprocessing import StandardScaler\n",
        "from sklearn.linear_model import LinearRegression, Lasso, Ridge\n",
        "from sklearn.metrics import mean_squared_error\n",
        "import numpy as np\n",
        "\n",
        "df = pd.read_csv('Rental_Bike_Data_Dummy.csv')"
      ]
    },
    {
      "cell_type": "markdown",
      "metadata": {
        "id": "QCM4HR-VWkGz"
      },
      "source": [
        "-----\n",
        "\n",
        "### **2. Date Conversion and Feature Extraction**\n",
        "\n",
        "Next, we will convert the **'Date'** column to a datetime format. This will allow us to extract additional time-based features, such as the day, month, and day of the week, which can be valuable for our regression models."
      ]
    },
    {
      "cell_type": "code",
      "execution_count": 4,
      "metadata": {
        "id": "_Q7oPLCiWkG0"
      },
      "outputs": [],
      "source": [
        "df['Date'] = pd.to_datetime(df['Date'], format='%d-%m-%Y')\n",
        "df['Day'] = df['Date'].dt.day\n",
        "df['Month'] = df['Date'].dt.month\n",
        "df['DayOfWeek'] = df['Date'].dt.dayofweek"
      ]
    },
    {
      "cell_type": "markdown",
      "metadata": {
        "id": "2zWxABaUWkG0"
      },
      "source": [
        "-----\n",
        "\n",
        "### **3. Data Splitting**\n",
        "\n",
        "Now, we will split our dataset into training and testing sets. We will use 80% of the data for training our models and the remaining 20% for testing their performance. The **`random_state`** is set to ensure that the split is the same every time we run the code."
      ]
    },
    {
      "cell_type": "code",
      "execution_count": 5,
      "metadata": {
        "id": "n-r31HyOWkG1"
      },
      "outputs": [],
      "source": [
        "X = df.drop(['Date', 'Rented Bike Count'], axis=1)\n",
        "y = df['Rented Bike Count']\n",
        "X_train, X_test, y_train, y_test = train_test_split(X, y, test_size=0.2, random_state=1)"
      ]
    },
    {
      "cell_type": "markdown",
      "metadata": {
        "id": "jOa5gnAbWkG1"
      },
      "source": [
        "-----\n",
        "\n",
        "### **4. Standard Scaling**\n",
        "\n",
        "Before training our models, we will apply **standard scaling** to the training data. This process standardizes our features by removing the mean and scaling them to unit variance, which can lead to better model performance."
      ]
    },
    {
      "cell_type": "code",
      "execution_count": 6,
      "metadata": {
        "id": "RSluhca-WkG1"
      },
      "outputs": [],
      "source": [
        "scaler = StandardScaler()\n",
        "X_train_scaled = scaler.fit_transform(X_train)\n",
        "X_test_scaled = scaler.transform(X_test)"
      ]
    },
    {
      "cell_type": "markdown",
      "metadata": {
        "id": "YsGyFry3WkG2"
      },
      "source": [
        "-----\n",
        "\n",
        "### **5. Regression Modeling**\n",
        "\n",
        "Finally, we will build and compare three different regression models:\n",
        "\n",
        "  * **Linear Regression**: This model finds the best-fitting linear relationship between the features and our target variable.\n",
        "  * **Lasso Regression**: A variation of linear regression that includes a penalty for large coefficients, which helps to prevent overfitting.\n",
        "  * **Ridge Regression**: Another type of linear regression that also adds a penalty to the coefficients, but in a slightly different way than Lasso.\n",
        "\n",
        "We will evaluate each model using the **Root Mean Squared Error (RMSE)**, which gives us an idea of the average difference between the predicted and actual values."
      ]
    },
    {
      "cell_type": "code",
      "execution_count": 7,
      "metadata": {
        "id": "LyelJfqjWkG2"
      },
      "outputs": [
        {
          "name": "stdout",
          "output_type": "stream",
          "text": [
            "Linear Regression RMSE: 432.3865938084535\n",
            "Lasso Regression RMSE: 432.14763045275845\n",
            "Ridge Regression RMSE: 432.3693640403781\n"
          ]
        }
      ],
      "source": [
        "linear_model = LinearRegression()\n",
        "lasso_model = Lasso(random_state=1)\n",
        "ridge_model = Ridge(random_state=1)\n",
        "\n",
        "linear_model.fit(X_train_scaled, y_train)\n",
        "lasso_model.fit(X_train_scaled, y_train)\n",
        "ridge_model.fit(X_train_scaled, y_train)\n",
        "\n",
        "y_pred_linear = linear_model.predict(X_test_scaled)\n",
        "y_pred_lasso = lasso_model.predict(X_test_scaled)\n",
        "y_pred_ridge = ridge_model.predict(X_test_scaled)\n",
        "\n",
        "rmse_linear = np.sqrt(mean_squared_error(y_test, y_pred_linear))\n",
        "rmse_lasso = np.sqrt(mean_squared_error(y_test, y_pred_lasso))\n",
        "rmse_ridge = np.sqrt(mean_squared_error(y_test, y_pred_ridge))\n",
        "\n",
        "print(f\"Linear Regression RMSE: {rmse_linear}\")\n",
        "print(f\"Lasso Regression RMSE: {rmse_lasso}\")\n",
        "print(f\"Ridge Regression RMSE: {rmse_ridge}\")"
      ]
    },
    {
      "cell_type": "markdown",
      "metadata": {},
      "source": [
        "---\n",
        "### **6.Model Comparison**\n",
        "\n",
        "To determine which model is better, we look at the Root Mean Squared Error (RMSE). A lower RMSE value indicates a better fit to the data, as it means there is a smaller difference between the predicted values and the actual values.\n",
        "\n",
        "Here's a comparison of the RMSE values for each model:\n",
        "\n",
        "    Linear Regression: 433.82\n",
        "\n",
        "    Lasso Regression: 433.42\n",
        "\n",
        "    Ridge Regression: 433.80\n",
        "\n",
        "While all three models performed very similarly, the `Lasso Regression` model has the lowest RMSE, making it slightly more accurate than the other two.\n"
      ]
    }
  ],
  "metadata": {
    "colab": {
      "provenance": []
    },
    "kernelspec": {
      "display_name": "base",
      "language": "python",
      "name": "python3"
    },
    "language_info": {
      "codemirror_mode": {
        "name": "ipython",
        "version": 3
      },
      "file_extension": ".py",
      "mimetype": "text/x-python",
      "name": "python",
      "nbconvert_exporter": "python",
      "pygments_lexer": "ipython3",
      "version": "3.12.2"
    }
  },
  "nbformat": 4,
  "nbformat_minor": 0
}
