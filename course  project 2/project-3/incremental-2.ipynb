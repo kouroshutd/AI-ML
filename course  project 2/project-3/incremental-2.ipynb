{
  "cells": [
    {
      "cell_type": "markdown",
      "source": [
        "Of course. Here is the code that uses the pre-processed file, with educational markdown documentation included.\n",
        "\n",
        "-----\n",
        "\n",
        "### **1. Loading Pre-Processed Data**\n",
        "\n",
        "We will begin by loading the `Rental_Bike_Data_Dummy.csv` file. This file has already been cleaned and includes dummy variables for the categorical features, which is why we are using it for the modeling phase."
      ],
      "metadata": {
        "id": "jyKh8VwuWkGy"
      }
    },
    {
      "cell_type": "code",
      "source": [
        "import pandas as pd\n",
        "from sklearn.model_selection import train_test_split\n",
        "from sklearn.preprocessing import StandardScaler\n",
        "from sklearn.linear_model import LinearRegression, Lasso, Ridge\n",
        "from sklearn.metrics import mean_squared_error\n",
        "import numpy as np\n",
        "\n",
        "df = pd.read_csv('Rental_Bike_Data_Dummy.csv')"
      ],
      "outputs": [],
      "execution_count": null,
      "metadata": {
        "id": "bs3SGSxvWkGz"
      }
    },
    {
      "cell_type": "markdown",
      "source": [
        "-----\n",
        "\n",
        "### **2. Date Conversion and Feature Extraction**\n",
        "\n",
        "Next, we will convert the **'Date'** column to a datetime format. This will allow us to extract additional time-based features, such as the day, month, and day of the week, which can be valuable for our regression models."
      ],
      "metadata": {
        "id": "QCM4HR-VWkGz"
      }
    },
    {
      "cell_type": "code",
      "source": [
        "df['Date'] = pd.to_datetime(df['Date'], format='%d-%m-%Y')\n",
        "df['Day'] = df['Date'].dt.day\n",
        "df['Month'] = df['Date'].dt.month\n",
        "df['DayOfWeek'] = df['Date'].dt.dayofweek"
      ],
      "outputs": [],
      "execution_count": null,
      "metadata": {
        "id": "_Q7oPLCiWkG0"
      }
    },
    {
      "cell_type": "markdown",
      "source": [
        "-----\n",
        "\n",
        "### **3. Data Splitting**\n",
        "\n",
        "Now, we will split our dataset into training and testing sets. We will use 80% of the data for training our models and the remaining 20% for testing their performance. The **`random_state`** is set to ensure that the split is the same every time we run the code."
      ],
      "metadata": {
        "id": "2zWxABaUWkG0"
      }
    },
    {
      "cell_type": "code",
      "source": [
        "X = df.drop(['Date', 'Rented Bike Count'], axis=1)\n",
        "y = df['Rented Bike Count']\n",
        "X_train, X_test, y_train, y_test = train_test_split(X, y, test_size=0.2, random_state=1)"
      ],
      "outputs": [],
      "execution_count": null,
      "metadata": {
        "id": "n-r31HyOWkG1"
      }
    },
    {
      "cell_type": "markdown",
      "source": [
        "-----\n",
        "\n",
        "### **4. Standard Scaling**\n",
        "\n",
        "Before training our models, we will apply **standard scaling** to the training data. This process standardizes our features by removing the mean and scaling them to unit variance, which can lead to better model performance."
      ],
      "metadata": {
        "id": "jOa5gnAbWkG1"
      }
    },
    {
      "cell_type": "code",
      "source": [
        "scaler = StandardScaler()\n",
        "X_train_scaled = scaler.fit_transform(X_train)\n",
        "X_test_scaled = scaler.transform(X_test)"
      ],
      "outputs": [],
      "execution_count": null,
      "metadata": {
        "id": "RSluhca-WkG1"
      }
    },
    {
      "cell_type": "markdown",
      "source": [
        "-----\n",
        "\n",
        "### **5. Regression Modeling**\n",
        "\n",
        "Finally, we will build and compare three different regression models:\n",
        "\n",
        "  * **Linear Regression**: This model finds the best-fitting linear relationship between the features and our target variable.\n",
        "  * **Lasso Regression**: A variation of linear regression that includes a penalty for large coefficients, which helps to prevent overfitting.\n",
        "  * **Ridge Regression**: Another type of linear regression that also adds a penalty to the coefficients, but in a slightly different way than Lasso.\n",
        "\n",
        "We will evaluate each model using the **Root Mean Squared Error (RMSE)**, which gives us an idea of the average difference between the predicted and actual values."
      ],
      "metadata": {
        "id": "YsGyFry3WkG2"
      }
    },
    {
      "cell_type": "code",
      "source": [
        "linear_model = LinearRegression()\n",
        "lasso_model = Lasso(random_state=1)\n",
        "ridge_model = Ridge(random_state=1)\n",
        "\n",
        "linear_model.fit(X_train_scaled, y_train)\n",
        "lasso_model.fit(X_train_scaled, y_train)\n",
        "ridge_model.fit(X_train_scaled, y_train)\n",
        "\n",
        "y_pred_linear = linear_model.predict(X_test_scaled)\n",
        "y_pred_lasso = lasso_model.predict(X_test_scaled)\n",
        "y_pred_ridge = ridge_model.predict(X_test_scaled)\n",
        "\n",
        "rmse_linear = np.sqrt(mean_squared_error(y_test, y_pred_linear))\n",
        "rmse_lasso = np.sqrt(mean_squared_error(y_test, y_pred_lasso))\n",
        "rmse_ridge = np.sqrt(mean_squared_error(y_test, y_pred_ridge))\n",
        "\n",
        "print(f\"Linear Regression RMSE: {rmse_linear}\")\n",
        "print(f\"Lasso Regression RMSE: {rmse_lasso}\")\n",
        "print(f\"Ridge Regression RMSE: {rmse_ridge}\")"
      ],
      "outputs": [],
      "execution_count": null,
      "metadata": {
        "id": "LyelJfqjWkG2"
      }
    }
  ],
  "metadata": {
    "colab": {
      "provenance": []
    },
    "kernelspec": {
      "display_name": "Python 3",
      "name": "python3"
    }
  },
  "nbformat": 4,
  "nbformat_minor": 0
}