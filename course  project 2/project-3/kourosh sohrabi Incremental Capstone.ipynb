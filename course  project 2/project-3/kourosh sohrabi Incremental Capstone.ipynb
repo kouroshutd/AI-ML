{
  "cells": [
    {
      "cell_type": "markdown",
      "metadata": {
        "id": "GcNQ3XQTpEub"
      },
      "source": [
        "\n",
        "\n",
        "\n",
        "\n",
        "## BikeEase Rental Analysis & Insights\n",
        "-----\n",
        "## Task 1: Project Overview & Objectives\n",
        "This notebook analyzes bike rental data for BikeEase to understand rental patterns, identify key trends, and provide actionable insights for business optimization.\n",
        "\n",
        "#  Objectives: \n",
        "1.  **Clean and Process** the dataset.\n",
        "2.  Perform Statistical Analysis to understand data distributions.\n",
        "3.  Use Pandas to analyze trends related to seasons, holidays, and time of day.\n",
        "4.  Visualize the data to uncover patterns and correlations.\n",
        "5.  Provide Actionable Recommendations for the business.\n",
        "\n",
        "\n",
        "-----\n",
        "\n"
      ]
    },
    {
      "cell_type": "markdown",
      "metadata": {},
      "source": [
        "## Task 2: Import Libraries, Load and Prepare Data\n"
      ]
    },
    {
      "cell_type": "code",
      "execution_count": 1,
      "metadata": {
        "id": "iatLy3uTpEue"
      },
      "outputs": [
        {
          "name": "stdout",
          "output_type": "stream",
          "text": [
            "--- Memory Usage Before Optimization ---\n",
            "<class 'pandas.core.frame.DataFrame'>\n",
            "RangeIndex: 8760 entries, 0 to 8759\n",
            "Data columns (total 14 columns):\n",
            " #   Column                     Non-Null Count  Dtype  \n",
            "---  ------                     --------------  -----  \n",
            " 0   Date                       8760 non-null   object \n",
            " 1   Rented Bike Count          8760 non-null   int64  \n",
            " 2   Hour                       8760 non-null   int64  \n",
            " 3   Temperature(°C)            8760 non-null   float64\n",
            " 4   Humidity(%)                8760 non-null   int64  \n",
            " 5   Wind speed (m/s)           8760 non-null   float64\n",
            " 6   Visibility (10m)           8760 non-null   int64  \n",
            " 7   Dew point temperature(°C)  8760 non-null   float64\n",
            " 8   Solar Radiation (MJ/m2)    8760 non-null   float64\n",
            " 9   Rainfall(mm)               8760 non-null   float64\n",
            " 10  Snowfall (cm)              8760 non-null   float64\n",
            " 11  Seasons                    8760 non-null   object \n",
            " 12  Holiday                    8760 non-null   object \n",
            " 13  Functioning Day            8760 non-null   object \n",
            "dtypes: float64(6), int64(4), object(4)\n",
            "memory usage: 2.5 MB\n",
            "None\n",
            "\n",
            "--- Memory Usage After Optimization ---\n",
            "<class 'pandas.core.frame.DataFrame'>\n",
            "RangeIndex: 8760 entries, 0 to 8759\n",
            "Data columns (total 14 columns):\n",
            " #   Column                     Non-Null Count  Dtype  \n",
            "---  ------                     --------------  -----  \n",
            " 0   Date                       8760 non-null   object \n",
            " 1   Rented Bike Count          8760 non-null   int16  \n",
            " 2   Hour                       8760 non-null   int8   \n",
            " 3   Temperature(°C)            8760 non-null   float32\n",
            " 4   Humidity(%)                8760 non-null   int8   \n",
            " 5   Wind speed (m/s)           8760 non-null   float32\n",
            " 6   Visibility (10m)           8760 non-null   int16  \n",
            " 7   Dew point temperature(°C)  8760 non-null   float32\n",
            " 8   Solar Radiation (MJ/m2)    8760 non-null   float32\n",
            " 9   Rainfall(mm)               8760 non-null   float32\n",
            " 10  Snowfall (cm)              8760 non-null   float32\n",
            " 11  Seasons                    8760 non-null   object \n",
            " 12  Holiday                    8760 non-null   object \n",
            " 13  Functioning Day            8760 non-null   object \n",
            "dtypes: float32(6), int16(2), int8(2), object(4)\n",
            "memory usage: 2.1 MB\n",
            "None\n",
            "Number of missing values: 0\n",
            "Number of duplicate rows: 0\n",
            "\n",
            "--- First 5 rows of processed data ---\n"
          ]
        },
        {
          "data": {
            "application/vnd.microsoft.datawrangler.viewer.v0+json": {
              "columns": [
                {
                  "name": "index",
                  "rawType": "int64",
                  "type": "integer"
                },
                {
                  "name": "Date",
                  "rawType": "object",
                  "type": "string"
                },
                {
                  "name": "Rented Bike Count",
                  "rawType": "int16",
                  "type": "integer"
                },
                {
                  "name": "Hour",
                  "rawType": "int8",
                  "type": "integer"
                },
                {
                  "name": "Temperature(°C)",
                  "rawType": "float32",
                  "type": "float"
                },
                {
                  "name": "Humidity(%)",
                  "rawType": "int8",
                  "type": "integer"
                },
                {
                  "name": "Wind speed (m/s)",
                  "rawType": "float32",
                  "type": "float"
                },
                {
                  "name": "Visibility (10m)",
                  "rawType": "float64",
                  "type": "float"
                },
                {
                  "name": "Dew point temperature(°C)",
                  "rawType": "float32",
                  "type": "float"
                },
                {
                  "name": "Solar Radiation (MJ/m2)",
                  "rawType": "float32",
                  "type": "float"
                },
                {
                  "name": "Rainfall(mm)",
                  "rawType": "float32",
                  "type": "float"
                },
                {
                  "name": "Snowfall (cm)",
                  "rawType": "float32",
                  "type": "float"
                },
                {
                  "name": "Seasons",
                  "rawType": "object",
                  "type": "string"
                },
                {
                  "name": "Holiday",
                  "rawType": "object",
                  "type": "string"
                },
                {
                  "name": "Functioning Day",
                  "rawType": "object",
                  "type": "string"
                }
              ],
              "ref": "efcfe03b-6cd5-43fb-9d08-7eecfc66752e",
              "rows": [
                [
                  "0",
                  "01-12-2017",
                  "254",
                  "0",
                  "-52.0",
                  "37",
                  "2.2",
                  "1.0",
                  "-17.6",
                  "0.0",
                  "0.0",
                  "0.0",
                  "Winter",
                  "No Holiday",
                  "Yes"
                ],
                [
                  "1",
                  "01-12-2017",
                  "204",
                  "1",
                  "-55.0",
                  "38",
                  "0.8",
                  "1.0",
                  "-17.6",
                  "0.0",
                  "0.0",
                  "0.0",
                  "Winter",
                  "No Holiday",
                  "Yes"
                ],
                [
                  "2",
                  "01-12-2017",
                  "173",
                  "2",
                  "-60.0",
                  "39",
                  "1.0",
                  "1.0",
                  "-17.7",
                  "0.0",
                  "0.0",
                  "0.0",
                  "Winter",
                  "No Holiday",
                  "Yes"
                ],
                [
                  "3",
                  "01-12-2017",
                  "107",
                  "3",
                  "-62.0",
                  "40",
                  "0.9",
                  "1.0",
                  "-17.6",
                  "0.0",
                  "0.0",
                  "0.0",
                  "Winter",
                  "No Holiday",
                  "Yes"
                ],
                [
                  "4",
                  "01-12-2017",
                  "78",
                  "4",
                  "-60.0",
                  "36",
                  "2.3",
                  "1.0",
                  "-18.6",
                  "0.0",
                  "0.0",
                  "0.0",
                  "Winter",
                  "No Holiday",
                  "Yes"
                ]
              ],
              "shape": {
                "columns": 14,
                "rows": 5
              }
            },
            "text/html": [
              "<div>\n",
              "<style scoped>\n",
              "    .dataframe tbody tr th:only-of-type {\n",
              "        vertical-align: middle;\n",
              "    }\n",
              "\n",
              "    .dataframe tbody tr th {\n",
              "        vertical-align: top;\n",
              "    }\n",
              "\n",
              "    .dataframe thead th {\n",
              "        text-align: right;\n",
              "    }\n",
              "</style>\n",
              "<table border=\"1\" class=\"dataframe\">\n",
              "  <thead>\n",
              "    <tr style=\"text-align: right;\">\n",
              "      <th></th>\n",
              "      <th>Date</th>\n",
              "      <th>Rented Bike Count</th>\n",
              "      <th>Hour</th>\n",
              "      <th>Temperature(°C)</th>\n",
              "      <th>Humidity(%)</th>\n",
              "      <th>Wind speed (m/s)</th>\n",
              "      <th>Visibility (10m)</th>\n",
              "      <th>Dew point temperature(°C)</th>\n",
              "      <th>Solar Radiation (MJ/m2)</th>\n",
              "      <th>Rainfall(mm)</th>\n",
              "      <th>Snowfall (cm)</th>\n",
              "      <th>Seasons</th>\n",
              "      <th>Holiday</th>\n",
              "      <th>Functioning Day</th>\n",
              "    </tr>\n",
              "  </thead>\n",
              "  <tbody>\n",
              "    <tr>\n",
              "      <th>0</th>\n",
              "      <td>01-12-2017</td>\n",
              "      <td>254</td>\n",
              "      <td>0</td>\n",
              "      <td>-52.0</td>\n",
              "      <td>37</td>\n",
              "      <td>2.2</td>\n",
              "      <td>1.0</td>\n",
              "      <td>-17.600000</td>\n",
              "      <td>0.0</td>\n",
              "      <td>0.0</td>\n",
              "      <td>0.0</td>\n",
              "      <td>Winter</td>\n",
              "      <td>No Holiday</td>\n",
              "      <td>Yes</td>\n",
              "    </tr>\n",
              "    <tr>\n",
              "      <th>1</th>\n",
              "      <td>01-12-2017</td>\n",
              "      <td>204</td>\n",
              "      <td>1</td>\n",
              "      <td>-55.0</td>\n",
              "      <td>38</td>\n",
              "      <td>0.8</td>\n",
              "      <td>1.0</td>\n",
              "      <td>-17.600000</td>\n",
              "      <td>0.0</td>\n",
              "      <td>0.0</td>\n",
              "      <td>0.0</td>\n",
              "      <td>Winter</td>\n",
              "      <td>No Holiday</td>\n",
              "      <td>Yes</td>\n",
              "    </tr>\n",
              "    <tr>\n",
              "      <th>2</th>\n",
              "      <td>01-12-2017</td>\n",
              "      <td>173</td>\n",
              "      <td>2</td>\n",
              "      <td>-60.0</td>\n",
              "      <td>39</td>\n",
              "      <td>1.0</td>\n",
              "      <td>1.0</td>\n",
              "      <td>-17.700001</td>\n",
              "      <td>0.0</td>\n",
              "      <td>0.0</td>\n",
              "      <td>0.0</td>\n",
              "      <td>Winter</td>\n",
              "      <td>No Holiday</td>\n",
              "      <td>Yes</td>\n",
              "    </tr>\n",
              "    <tr>\n",
              "      <th>3</th>\n",
              "      <td>01-12-2017</td>\n",
              "      <td>107</td>\n",
              "      <td>3</td>\n",
              "      <td>-62.0</td>\n",
              "      <td>40</td>\n",
              "      <td>0.9</td>\n",
              "      <td>1.0</td>\n",
              "      <td>-17.600000</td>\n",
              "      <td>0.0</td>\n",
              "      <td>0.0</td>\n",
              "      <td>0.0</td>\n",
              "      <td>Winter</td>\n",
              "      <td>No Holiday</td>\n",
              "      <td>Yes</td>\n",
              "    </tr>\n",
              "    <tr>\n",
              "      <th>4</th>\n",
              "      <td>01-12-2017</td>\n",
              "      <td>78</td>\n",
              "      <td>4</td>\n",
              "      <td>-60.0</td>\n",
              "      <td>36</td>\n",
              "      <td>2.3</td>\n",
              "      <td>1.0</td>\n",
              "      <td>-18.600000</td>\n",
              "      <td>0.0</td>\n",
              "      <td>0.0</td>\n",
              "      <td>0.0</td>\n",
              "      <td>Winter</td>\n",
              "      <td>No Holiday</td>\n",
              "      <td>Yes</td>\n",
              "    </tr>\n",
              "  </tbody>\n",
              "</table>\n",
              "</div>"
            ],
            "text/plain": [
              "         Date  Rented Bike Count  Hour  Temperature(°C)  Humidity(%)  \\\n",
              "0  01-12-2017                254     0            -52.0           37   \n",
              "1  01-12-2017                204     1            -55.0           38   \n",
              "2  01-12-2017                173     2            -60.0           39   \n",
              "3  01-12-2017                107     3            -62.0           40   \n",
              "4  01-12-2017                 78     4            -60.0           36   \n",
              "\n",
              "   Wind speed (m/s)  Visibility (10m)  Dew point temperature(°C)  \\\n",
              "0               2.2               1.0                 -17.600000   \n",
              "1               0.8               1.0                 -17.600000   \n",
              "2               1.0               1.0                 -17.700001   \n",
              "3               0.9               1.0                 -17.600000   \n",
              "4               2.3               1.0                 -18.600000   \n",
              "\n",
              "   Solar Radiation (MJ/m2)  Rainfall(mm)  Snowfall (cm) Seasons     Holiday  \\\n",
              "0                      0.0           0.0            0.0  Winter  No Holiday   \n",
              "1                      0.0           0.0            0.0  Winter  No Holiday   \n",
              "2                      0.0           0.0            0.0  Winter  No Holiday   \n",
              "3                      0.0           0.0            0.0  Winter  No Holiday   \n",
              "4                      0.0           0.0            0.0  Winter  No Holiday   \n",
              "\n",
              "  Functioning Day  \n",
              "0             Yes  \n",
              "1             Yes  \n",
              "2             Yes  \n",
              "3             Yes  \n",
              "4             Yes  "
            ]
          },
          "metadata": {},
          "output_type": "display_data"
        },
        {
          "name": "stdout",
          "output_type": "stream",
          "text": [
            "\n",
            "--- Statistical Summary of Key Columns ---\n"
          ]
        },
        {
          "data": {
            "application/vnd.microsoft.datawrangler.viewer.v0+json": {
              "columns": [
                {
                  "name": "index",
                  "rawType": "object",
                  "type": "string"
                },
                {
                  "name": "Rented Bike Count",
                  "rawType": "float64",
                  "type": "float"
                },
                {
                  "name": "Temperature(°C)",
                  "rawType": "float64",
                  "type": "float"
                },
                {
                  "name": "Humidity(%)",
                  "rawType": "float64",
                  "type": "float"
                },
                {
                  "name": "Wind speed (m/s)",
                  "rawType": "float64",
                  "type": "float"
                }
              ],
              "ref": "c63089f7-55a5-4b6a-bfcc-d8eb039741ee",
              "rows": [
                [
                  "count",
                  "8760.0",
                  "8760.0",
                  "8760.0",
                  "8760.0"
                ],
                [
                  "mean",
                  "704.6020547945205",
                  "128.8292236328125",
                  "58.226255707762554",
                  "1.7249085903167725"
                ],
                [
                  "std",
                  "644.9974677392156",
                  "119.44818115234375",
                  "20.36241330156561",
                  "1.0363054275512695"
                ],
                [
                  "min",
                  "0.0",
                  "-178.0",
                  "0.0",
                  "0.0"
                ],
                [
                  "25%",
                  "191.0",
                  "35.0",
                  "42.0",
                  "0.8999999761581421"
                ],
                [
                  "50%",
                  "504.5",
                  "137.0",
                  "57.0",
                  "1.5"
                ],
                [
                  "75%",
                  "1065.25",
                  "225.0",
                  "74.0",
                  "2.299999952316284"
                ],
                [
                  "max",
                  "3556.0",
                  "394.0",
                  "98.0",
                  "7.400000095367432"
                ]
              ],
              "shape": {
                "columns": 4,
                "rows": 8
              }
            },
            "text/html": [
              "<div>\n",
              "<style scoped>\n",
              "    .dataframe tbody tr th:only-of-type {\n",
              "        vertical-align: middle;\n",
              "    }\n",
              "\n",
              "    .dataframe tbody tr th {\n",
              "        vertical-align: top;\n",
              "    }\n",
              "\n",
              "    .dataframe thead th {\n",
              "        text-align: right;\n",
              "    }\n",
              "</style>\n",
              "<table border=\"1\" class=\"dataframe\">\n",
              "  <thead>\n",
              "    <tr style=\"text-align: right;\">\n",
              "      <th></th>\n",
              "      <th>Rented Bike Count</th>\n",
              "      <th>Temperature(°C)</th>\n",
              "      <th>Humidity(%)</th>\n",
              "      <th>Wind speed (m/s)</th>\n",
              "    </tr>\n",
              "  </thead>\n",
              "  <tbody>\n",
              "    <tr>\n",
              "      <th>count</th>\n",
              "      <td>8760.000000</td>\n",
              "      <td>8760.000000</td>\n",
              "      <td>8760.000000</td>\n",
              "      <td>8760.000000</td>\n",
              "    </tr>\n",
              "    <tr>\n",
              "      <th>mean</th>\n",
              "      <td>704.602055</td>\n",
              "      <td>128.829224</td>\n",
              "      <td>58.226256</td>\n",
              "      <td>1.724909</td>\n",
              "    </tr>\n",
              "    <tr>\n",
              "      <th>std</th>\n",
              "      <td>644.997468</td>\n",
              "      <td>119.448181</td>\n",
              "      <td>20.362413</td>\n",
              "      <td>1.036305</td>\n",
              "    </tr>\n",
              "    <tr>\n",
              "      <th>min</th>\n",
              "      <td>0.000000</td>\n",
              "      <td>-178.000000</td>\n",
              "      <td>0.000000</td>\n",
              "      <td>0.000000</td>\n",
              "    </tr>\n",
              "    <tr>\n",
              "      <th>25%</th>\n",
              "      <td>191.000000</td>\n",
              "      <td>35.000000</td>\n",
              "      <td>42.000000</td>\n",
              "      <td>0.900000</td>\n",
              "    </tr>\n",
              "    <tr>\n",
              "      <th>50%</th>\n",
              "      <td>504.500000</td>\n",
              "      <td>137.000000</td>\n",
              "      <td>57.000000</td>\n",
              "      <td>1.500000</td>\n",
              "    </tr>\n",
              "    <tr>\n",
              "      <th>75%</th>\n",
              "      <td>1065.250000</td>\n",
              "      <td>225.000000</td>\n",
              "      <td>74.000000</td>\n",
              "      <td>2.300000</td>\n",
              "    </tr>\n",
              "    <tr>\n",
              "      <th>max</th>\n",
              "      <td>3556.000000</td>\n",
              "      <td>394.000000</td>\n",
              "      <td>98.000000</td>\n",
              "      <td>7.400000</td>\n",
              "    </tr>\n",
              "  </tbody>\n",
              "</table>\n",
              "</div>"
            ],
            "text/plain": [
              "       Rented Bike Count  Temperature(°C)  Humidity(%)  Wind speed (m/s)\n",
              "count        8760.000000      8760.000000  8760.000000       8760.000000\n",
              "mean          704.602055       128.829224    58.226256          1.724909\n",
              "std           644.997468       119.448181    20.362413          1.036305\n",
              "min             0.000000      -178.000000     0.000000          0.000000\n",
              "25%           191.000000        35.000000    42.000000          0.900000\n",
              "50%           504.500000       137.000000    57.000000          1.500000\n",
              "75%          1065.250000       225.000000    74.000000          2.300000\n",
              "max          3556.000000       394.000000    98.000000          7.400000"
            ]
          },
          "metadata": {},
          "output_type": "display_data"
        }
      ],
      "source": [
        "# =======================================================\n",
        "# Import Libraries, Load and Prepare Data\n",
        "# =======================================================\n",
        "import pandas as pd\n",
        "import numpy as np\n",
        "import matplotlib.pyplot as plt\n",
        "import seaborn as sns\n",
        "\n",
        "# Set visualization style\n",
        "sns.set_style(\"whitegrid\")\n",
        "\n",
        "# Load the dataset\n",
        "df = pd.read_csv('FloridaBikeRentals.csv', encoding='latin1')\n",
        "\n",
        "# =======================================================\n",
        "# MEMORY OPTIMIZATION CODE HERE\n",
        "# =======================================================\n",
        "print(\"--- Memory Usage Before Optimization ---\")\n",
        "print(df.info(memory_usage='deep'))\n",
        "\n",
        "for col in df.select_dtypes(include=['int', 'float']).columns:\n",
        "    df[col] = pd.to_numeric(df[col], downcast='integer')\n",
        "    df[col] = pd.to_numeric(df[col], downcast='float')\n",
        "\n",
        "print(\"\\n--- Memory Usage After Optimization ---\")\n",
        "print(df.info(memory_usage='deep'))\n",
        "\n",
        "\n",
        "# =======================================================\n",
        "# --- Data Cleaning ---\n",
        "# =======================================================\n",
        "# Check for missing values and duplicates\n",
        "print(f\"Number of missing values: {df.isnull().sum().sum()}\")\n",
        "print(f\"Number of duplicate rows: {df.duplicated().sum()}\")\n",
        "# Check for missing values and duplicates (already confirmed to be zero)\n",
        "df_cleaned = df.copy()  # Create a clean copy before processing\n",
        "\n",
        "# =======================================================\n",
        "# EXPORT THE CLEANED JSON and CSV FILE\n",
        "# =======================================================\n",
        "df.to_json(\"bike_rental_cleaned.json\", orient=\"records\", lines=True)\n",
        "df.to_csv(\"bike_rental_cleaned.csv\", index=False)\n",
        "\n",
        "\n",
        "# =======================================================\n",
        "# --- Data Processing ---\n",
        "# =======================================================\n",
        "# Create a copy for processing to keep the original intact\n",
        "df_processed = df.copy()\n",
        "\n",
        "# 1. Standardize Temperature by multiplying by 10\n",
        "df_processed['Temperature(°C)'] = df_processed['Temperature(°C)'] * 10\n",
        "\n",
        "# 2. Scale Visibility using Min-Max scaling\n",
        "vis_min = df_processed['Visibility (10m)'].min()\n",
        "vis_max = df_processed['Visibility (10m)'].max()\n",
        "df_processed['Visibility (10m)'] = (df_processed['Visibility (10m)'] - vis_min) / (vis_max - vis_min)\n",
        "\n",
        "print(\"\\n--- First 5 rows of processed data ---\")\n",
        "display(df_processed.head())\n",
        "\n",
        "print(\"\\n--- Statistical Summary of Key Columns ---\")\n",
        "display(df_processed[['Rented Bike Count', 'Temperature(°C)', 'Humidity(%)', 'Wind speed (m/s)']].describe())\n",
        "\n",
        "# =======================================================\n",
        "# Export the processed data to the required CSV file\n",
        "# =======================================================\n",
        "df_processed.to_csv(\"bike_rental_processed.csv\", index=False)"
      ]
    },
    {
      "cell_type": "markdown",
      "metadata": {},
      "source": [
        "### Columns Unsuitable for Statistical Analysis\n",
        "\n",
        "Based on the `.describe()` output, several columns were automatically excluded because they are non-numerical. These columns are not suitable for direct statistical analysis (like calculating a mean or standard deviation).\n",
        "\n",
        "* **Unsuitable Columns:** `Date`, `Seasons`, `Holiday`, `Functioning Day`.\n",
        "\n",
        "#### Recommendations for Datatype Changes:\n",
        "* **Date:** This column should be converted to a `datetime` type for any time-series analysis. This allows for proper sorting, filtering, and resampling by time periods.\n",
        "* **Seasons, Holiday, Functioning Day:** These are categorical variables. For better memory efficiency and to make them compatible with certain plotting libraries, they should be converted to the `category` datatype using `df['ColumnName'] = df['ColumnName'].astype('category')`."
      ]
    },
    {
      "cell_type": "markdown",
      "metadata": {
        "id": "0evl-iNbpEuf"
      },
      "source": [
        "-----\n",
        "\n",
        "## Task 3: Data Analysis with Pandas\n",
        "\n",
        "Here we explore rental patterns across different categorical features like seasons, holidays, and hours of the day.\n",
        "\n",
        "\n",
        "-----\n"
      ]
    },
    {
      "cell_type": "code",
      "execution_count": 3,
      "metadata": {
        "id": "kSRJrH-ZpEuf"
      },
      "outputs": [
        {
          "name": "stdout",
          "output_type": "stream",
          "text": [
            "--- Average Rented Bike Count by Season ---\n"
          ]
        },
        {
          "data": {
            "application/vnd.microsoft.datawrangler.viewer.v0+json": {
              "columns": [
                {
                  "name": "index",
                  "rawType": "int64",
                  "type": "integer"
                },
                {
                  "name": "Seasons",
                  "rawType": "object",
                  "type": "string"
                },
                {
                  "name": "Rented Bike Count",
                  "rawType": "float64",
                  "type": "float"
                }
              ],
              "ref": "c915c17f-869b-4721-a578-a5ac3357fae5",
              "rows": [
                [
                  "0",
                  "Summer",
                  "1034.0733695652175"
                ],
                [
                  "1",
                  "Autumn",
                  "819.5979853479854"
                ],
                [
                  "2",
                  "Spring",
                  "730.03125"
                ],
                [
                  "3",
                  "Winter",
                  "225.5412037037037"
                ]
              ],
              "shape": {
                "columns": 2,
                "rows": 4
              }
            },
            "text/html": [
              "<div>\n",
              "<style scoped>\n",
              "    .dataframe tbody tr th:only-of-type {\n",
              "        vertical-align: middle;\n",
              "    }\n",
              "\n",
              "    .dataframe tbody tr th {\n",
              "        vertical-align: top;\n",
              "    }\n",
              "\n",
              "    .dataframe thead th {\n",
              "        text-align: right;\n",
              "    }\n",
              "</style>\n",
              "<table border=\"1\" class=\"dataframe\">\n",
              "  <thead>\n",
              "    <tr style=\"text-align: right;\">\n",
              "      <th></th>\n",
              "      <th>Seasons</th>\n",
              "      <th>Rented Bike Count</th>\n",
              "    </tr>\n",
              "  </thead>\n",
              "  <tbody>\n",
              "    <tr>\n",
              "      <th>0</th>\n",
              "      <td>Summer</td>\n",
              "      <td>1034.073370</td>\n",
              "    </tr>\n",
              "    <tr>\n",
              "      <th>1</th>\n",
              "      <td>Autumn</td>\n",
              "      <td>819.597985</td>\n",
              "    </tr>\n",
              "    <tr>\n",
              "      <th>2</th>\n",
              "      <td>Spring</td>\n",
              "      <td>730.031250</td>\n",
              "    </tr>\n",
              "    <tr>\n",
              "      <th>3</th>\n",
              "      <td>Winter</td>\n",
              "      <td>225.541204</td>\n",
              "    </tr>\n",
              "  </tbody>\n",
              "</table>\n",
              "</div>"
            ],
            "text/plain": [
              "  Seasons  Rented Bike Count\n",
              "0  Summer        1034.073370\n",
              "1  Autumn         819.597985\n",
              "2  Spring         730.031250\n",
              "3  Winter         225.541204"
            ]
          },
          "metadata": {},
          "output_type": "display_data"
        },
        {
          "name": "stdout",
          "output_type": "stream",
          "text": [
            "\n",
            "--- Average Rented Bike Count by Holiday ---\n"
          ]
        },
        {
          "data": {
            "application/vnd.microsoft.datawrangler.viewer.v0+json": {
              "columns": [
                {
                  "name": "index",
                  "rawType": "int64",
                  "type": "integer"
                },
                {
                  "name": "Holiday",
                  "rawType": "object",
                  "type": "string"
                },
                {
                  "name": "Rented Bike Count",
                  "rawType": "float64",
                  "type": "float"
                }
              ],
              "ref": "3d42b8b4-7a69-4df9-8a7a-4a144e85605f",
              "rows": [
                [
                  "0",
                  "Holiday",
                  "499.75694444444446"
                ],
                [
                  "1",
                  "No Holiday",
                  "715.2280259365995"
                ]
              ],
              "shape": {
                "columns": 2,
                "rows": 2
              }
            },
            "text/html": [
              "<div>\n",
              "<style scoped>\n",
              "    .dataframe tbody tr th:only-of-type {\n",
              "        vertical-align: middle;\n",
              "    }\n",
              "\n",
              "    .dataframe tbody tr th {\n",
              "        vertical-align: top;\n",
              "    }\n",
              "\n",
              "    .dataframe thead th {\n",
              "        text-align: right;\n",
              "    }\n",
              "</style>\n",
              "<table border=\"1\" class=\"dataframe\">\n",
              "  <thead>\n",
              "    <tr style=\"text-align: right;\">\n",
              "      <th></th>\n",
              "      <th>Holiday</th>\n",
              "      <th>Rented Bike Count</th>\n",
              "    </tr>\n",
              "  </thead>\n",
              "  <tbody>\n",
              "    <tr>\n",
              "      <th>0</th>\n",
              "      <td>Holiday</td>\n",
              "      <td>499.756944</td>\n",
              "    </tr>\n",
              "    <tr>\n",
              "      <th>1</th>\n",
              "      <td>No Holiday</td>\n",
              "      <td>715.228026</td>\n",
              "    </tr>\n",
              "  </tbody>\n",
              "</table>\n",
              "</div>"
            ],
            "text/plain": [
              "      Holiday  Rented Bike Count\n",
              "0     Holiday         499.756944\n",
              "1  No Holiday         715.228026"
            ]
          },
          "metadata": {},
          "output_type": "display_data"
        },
        {
          "name": "stdout",
          "output_type": "stream",
          "text": [
            "\n",
            "--- Average Rented Bike Count by Functioning Day ---\n"
          ]
        },
        {
          "data": {
            "application/vnd.microsoft.datawrangler.viewer.v0+json": {
              "columns": [
                {
                  "name": "index",
                  "rawType": "int64",
                  "type": "integer"
                },
                {
                  "name": "Functioning Day",
                  "rawType": "object",
                  "type": "string"
                },
                {
                  "name": "Rented Bike Count",
                  "rawType": "float64",
                  "type": "float"
                }
              ],
              "ref": "9fc602b9-4070-49b1-a927-1e961957bdb5",
              "rows": [
                [
                  "0",
                  "No",
                  "0.0"
                ],
                [
                  "1",
                  "Yes",
                  "729.1569994093326"
                ]
              ],
              "shape": {
                "columns": 2,
                "rows": 2
              }
            },
            "text/html": [
              "<div>\n",
              "<style scoped>\n",
              "    .dataframe tbody tr th:only-of-type {\n",
              "        vertical-align: middle;\n",
              "    }\n",
              "\n",
              "    .dataframe tbody tr th {\n",
              "        vertical-align: top;\n",
              "    }\n",
              "\n",
              "    .dataframe thead th {\n",
              "        text-align: right;\n",
              "    }\n",
              "</style>\n",
              "<table border=\"1\" class=\"dataframe\">\n",
              "  <thead>\n",
              "    <tr style=\"text-align: right;\">\n",
              "      <th></th>\n",
              "      <th>Functioning Day</th>\n",
              "      <th>Rented Bike Count</th>\n",
              "    </tr>\n",
              "  </thead>\n",
              "  <tbody>\n",
              "    <tr>\n",
              "      <th>0</th>\n",
              "      <td>No</td>\n",
              "      <td>0.000000</td>\n",
              "    </tr>\n",
              "    <tr>\n",
              "      <th>1</th>\n",
              "      <td>Yes</td>\n",
              "      <td>729.156999</td>\n",
              "    </tr>\n",
              "  </tbody>\n",
              "</table>\n",
              "</div>"
            ],
            "text/plain": [
              "  Functioning Day  Rented Bike Count\n",
              "0              No           0.000000\n",
              "1             Yes         729.156999"
            ]
          },
          "metadata": {},
          "output_type": "display_data"
        },
        {
          "name": "stdout",
          "output_type": "stream",
          "text": [
            "\n",
            "--- Average Rented Bike Count by Hour ---\n"
          ]
        },
        {
          "data": {
            "application/vnd.microsoft.datawrangler.viewer.v0+json": {
              "columns": [
                {
                  "name": "index",
                  "rawType": "int64",
                  "type": "integer"
                },
                {
                  "name": "Hour",
                  "rawType": "int8",
                  "type": "integer"
                },
                {
                  "name": "Rented Bike Count",
                  "rawType": "float64",
                  "type": "float"
                }
              ],
              "ref": "4db5d131-8910-4ab3-9ab3-0764f2a1aaff",
              "rows": [
                [
                  "0",
                  "0",
                  "541.4602739726027"
                ],
                [
                  "1",
                  "1",
                  "426.1835616438356"
                ],
                [
                  "2",
                  "2",
                  "301.63013698630135"
                ],
                [
                  "3",
                  "3",
                  "203.33150684931508"
                ],
                [
                  "4",
                  "4",
                  "132.5917808219178"
                ]
              ],
              "shape": {
                "columns": 2,
                "rows": 5
              }
            },
            "text/html": [
              "<div>\n",
              "<style scoped>\n",
              "    .dataframe tbody tr th:only-of-type {\n",
              "        vertical-align: middle;\n",
              "    }\n",
              "\n",
              "    .dataframe tbody tr th {\n",
              "        vertical-align: top;\n",
              "    }\n",
              "\n",
              "    .dataframe thead th {\n",
              "        text-align: right;\n",
              "    }\n",
              "</style>\n",
              "<table border=\"1\" class=\"dataframe\">\n",
              "  <thead>\n",
              "    <tr style=\"text-align: right;\">\n",
              "      <th></th>\n",
              "      <th>Hour</th>\n",
              "      <th>Rented Bike Count</th>\n",
              "    </tr>\n",
              "  </thead>\n",
              "  <tbody>\n",
              "    <tr>\n",
              "      <th>0</th>\n",
              "      <td>0</td>\n",
              "      <td>541.460274</td>\n",
              "    </tr>\n",
              "    <tr>\n",
              "      <th>1</th>\n",
              "      <td>1</td>\n",
              "      <td>426.183562</td>\n",
              "    </tr>\n",
              "    <tr>\n",
              "      <th>2</th>\n",
              "      <td>2</td>\n",
              "      <td>301.630137</td>\n",
              "    </tr>\n",
              "    <tr>\n",
              "      <th>3</th>\n",
              "      <td>3</td>\n",
              "      <td>203.331507</td>\n",
              "    </tr>\n",
              "    <tr>\n",
              "      <th>4</th>\n",
              "      <td>4</td>\n",
              "      <td>132.591781</td>\n",
              "    </tr>\n",
              "  </tbody>\n",
              "</table>\n",
              "</div>"
            ],
            "text/plain": [
              "   Hour  Rented Bike Count\n",
              "0     0         541.460274\n",
              "1     1         426.183562\n",
              "2     2         301.630137\n",
              "3     3         203.331507\n",
              "4     4         132.591781"
            ]
          },
          "metadata": {},
          "output_type": "display_data"
        }
      ],
      "source": [
        "# =======================================================\n",
        "# Group by Seasons to find the average rented bike count\n",
        "# =======================================================\n",
        "seasonal_avg = df.groupby('Seasons')['Rented Bike Count'].mean().sort_values(ascending=False).reset_index()\n",
        "print(\"--- Average Rented Bike Count by Season ---\")\n",
        "display(seasonal_avg)\n",
        "\n",
        "# Analyze trends across Holiday vs. Non-Holiday\n",
        "holiday_avg = df.groupby('Holiday')['Rented Bike Count'].mean().reset_index()\n",
        "print(\"\\n--- Average Rented Bike Count by Holiday ---\")\n",
        "display(holiday_avg)\n",
        "\n",
        "# Analyze trends across Functioning Day vs. No Functioning Day\n",
        "functioning_day_avg = df.groupby('Functioning Day')['Rented Bike Count'].mean().reset_index()\n",
        "print(\"\\n--- Average Rented Bike Count by Functioning Day ---\")\n",
        "display(functioning_day_avg)\n",
        "\n",
        "# Analyze bike rentals by hour\n",
        "hourly_avg = df.groupby('Hour')['Rented Bike Count'].mean().reset_index()\n",
        "print(\"\\n--- Average Rented Bike Count by Hour ---\")\n",
        "display(hourly_avg.head()) # Display first 5 hours for brevity"
      ]
    },
    {
      "cell_type": "markdown",
      "metadata": {},
      "source": [
        "-----\n",
        "## Task 3 (Continued): Categorical Encoding and Export\n",
        "-----"
      ]
    },
    {
      "cell_type": "code",
      "execution_count": 4,
      "metadata": {},
      "outputs": [
        {
          "name": "stdout",
          "output_type": "stream",
          "text": [
            "--- Data successfully encoded and exported to Rental_Bike_Data_Dummy.csv ---\n"
          ]
        },
        {
          "data": {
            "application/vnd.microsoft.datawrangler.viewer.v0+json": {
              "columns": [
                {
                  "name": "index",
                  "rawType": "int64",
                  "type": "integer"
                },
                {
                  "name": "Date",
                  "rawType": "object",
                  "type": "string"
                },
                {
                  "name": "Rented Bike Count",
                  "rawType": "int16",
                  "type": "integer"
                },
                {
                  "name": "Hour",
                  "rawType": "int8",
                  "type": "integer"
                },
                {
                  "name": "Temperature(°C)",
                  "rawType": "float32",
                  "type": "float"
                },
                {
                  "name": "Humidity(%)",
                  "rawType": "int8",
                  "type": "integer"
                },
                {
                  "name": "Wind speed (m/s)",
                  "rawType": "float32",
                  "type": "float"
                },
                {
                  "name": "Visibility (10m)",
                  "rawType": "int16",
                  "type": "integer"
                },
                {
                  "name": "Dew point temperature(°C)",
                  "rawType": "float32",
                  "type": "float"
                },
                {
                  "name": "Solar Radiation (MJ/m2)",
                  "rawType": "float32",
                  "type": "float"
                },
                {
                  "name": "Rainfall(mm)",
                  "rawType": "float32",
                  "type": "float"
                },
                {
                  "name": "Snowfall (cm)",
                  "rawType": "float32",
                  "type": "float"
                },
                {
                  "name": "Seasons_Spring",
                  "rawType": "bool",
                  "type": "boolean"
                },
                {
                  "name": "Seasons_Summer",
                  "rawType": "bool",
                  "type": "boolean"
                },
                {
                  "name": "Seasons_Winter",
                  "rawType": "bool",
                  "type": "boolean"
                },
                {
                  "name": "Holiday_No Holiday",
                  "rawType": "bool",
                  "type": "boolean"
                },
                {
                  "name": "Functioning Day_Yes",
                  "rawType": "bool",
                  "type": "boolean"
                }
              ],
              "ref": "3d213442-e4fb-4313-b1f3-b340c4a54df8",
              "rows": [
                [
                  "0",
                  "01-12-2017",
                  "254",
                  "0",
                  "-5.2",
                  "37",
                  "2.2",
                  "2000",
                  "-17.6",
                  "0.0",
                  "0.0",
                  "0.0",
                  "False",
                  "False",
                  "True",
                  "True",
                  "True"
                ],
                [
                  "1",
                  "01-12-2017",
                  "204",
                  "1",
                  "-5.5",
                  "38",
                  "0.8",
                  "2000",
                  "-17.6",
                  "0.0",
                  "0.0",
                  "0.0",
                  "False",
                  "False",
                  "True",
                  "True",
                  "True"
                ],
                [
                  "2",
                  "01-12-2017",
                  "173",
                  "2",
                  "-6.0",
                  "39",
                  "1.0",
                  "2000",
                  "-17.7",
                  "0.0",
                  "0.0",
                  "0.0",
                  "False",
                  "False",
                  "True",
                  "True",
                  "True"
                ],
                [
                  "3",
                  "01-12-2017",
                  "107",
                  "3",
                  "-6.2",
                  "40",
                  "0.9",
                  "2000",
                  "-17.6",
                  "0.0",
                  "0.0",
                  "0.0",
                  "False",
                  "False",
                  "True",
                  "True",
                  "True"
                ],
                [
                  "4",
                  "01-12-2017",
                  "78",
                  "4",
                  "-6.0",
                  "36",
                  "2.3",
                  "2000",
                  "-18.6",
                  "0.0",
                  "0.0",
                  "0.0",
                  "False",
                  "False",
                  "True",
                  "True",
                  "True"
                ]
              ],
              "shape": {
                "columns": 16,
                "rows": 5
              }
            },
            "text/html": [
              "<div>\n",
              "<style scoped>\n",
              "    .dataframe tbody tr th:only-of-type {\n",
              "        vertical-align: middle;\n",
              "    }\n",
              "\n",
              "    .dataframe tbody tr th {\n",
              "        vertical-align: top;\n",
              "    }\n",
              "\n",
              "    .dataframe thead th {\n",
              "        text-align: right;\n",
              "    }\n",
              "</style>\n",
              "<table border=\"1\" class=\"dataframe\">\n",
              "  <thead>\n",
              "    <tr style=\"text-align: right;\">\n",
              "      <th></th>\n",
              "      <th>Date</th>\n",
              "      <th>Rented Bike Count</th>\n",
              "      <th>Hour</th>\n",
              "      <th>Temperature(°C)</th>\n",
              "      <th>Humidity(%)</th>\n",
              "      <th>Wind speed (m/s)</th>\n",
              "      <th>Visibility (10m)</th>\n",
              "      <th>Dew point temperature(°C)</th>\n",
              "      <th>Solar Radiation (MJ/m2)</th>\n",
              "      <th>Rainfall(mm)</th>\n",
              "      <th>Snowfall (cm)</th>\n",
              "      <th>Seasons_Spring</th>\n",
              "      <th>Seasons_Summer</th>\n",
              "      <th>Seasons_Winter</th>\n",
              "      <th>Holiday_No Holiday</th>\n",
              "      <th>Functioning Day_Yes</th>\n",
              "    </tr>\n",
              "  </thead>\n",
              "  <tbody>\n",
              "    <tr>\n",
              "      <th>0</th>\n",
              "      <td>01-12-2017</td>\n",
              "      <td>254</td>\n",
              "      <td>0</td>\n",
              "      <td>-5.2</td>\n",
              "      <td>37</td>\n",
              "      <td>2.2</td>\n",
              "      <td>2000</td>\n",
              "      <td>-17.600000</td>\n",
              "      <td>0.0</td>\n",
              "      <td>0.0</td>\n",
              "      <td>0.0</td>\n",
              "      <td>False</td>\n",
              "      <td>False</td>\n",
              "      <td>True</td>\n",
              "      <td>True</td>\n",
              "      <td>True</td>\n",
              "    </tr>\n",
              "    <tr>\n",
              "      <th>1</th>\n",
              "      <td>01-12-2017</td>\n",
              "      <td>204</td>\n",
              "      <td>1</td>\n",
              "      <td>-5.5</td>\n",
              "      <td>38</td>\n",
              "      <td>0.8</td>\n",
              "      <td>2000</td>\n",
              "      <td>-17.600000</td>\n",
              "      <td>0.0</td>\n",
              "      <td>0.0</td>\n",
              "      <td>0.0</td>\n",
              "      <td>False</td>\n",
              "      <td>False</td>\n",
              "      <td>True</td>\n",
              "      <td>True</td>\n",
              "      <td>True</td>\n",
              "    </tr>\n",
              "    <tr>\n",
              "      <th>2</th>\n",
              "      <td>01-12-2017</td>\n",
              "      <td>173</td>\n",
              "      <td>2</td>\n",
              "      <td>-6.0</td>\n",
              "      <td>39</td>\n",
              "      <td>1.0</td>\n",
              "      <td>2000</td>\n",
              "      <td>-17.700001</td>\n",
              "      <td>0.0</td>\n",
              "      <td>0.0</td>\n",
              "      <td>0.0</td>\n",
              "      <td>False</td>\n",
              "      <td>False</td>\n",
              "      <td>True</td>\n",
              "      <td>True</td>\n",
              "      <td>True</td>\n",
              "    </tr>\n",
              "    <tr>\n",
              "      <th>3</th>\n",
              "      <td>01-12-2017</td>\n",
              "      <td>107</td>\n",
              "      <td>3</td>\n",
              "      <td>-6.2</td>\n",
              "      <td>40</td>\n",
              "      <td>0.9</td>\n",
              "      <td>2000</td>\n",
              "      <td>-17.600000</td>\n",
              "      <td>0.0</td>\n",
              "      <td>0.0</td>\n",
              "      <td>0.0</td>\n",
              "      <td>False</td>\n",
              "      <td>False</td>\n",
              "      <td>True</td>\n",
              "      <td>True</td>\n",
              "      <td>True</td>\n",
              "    </tr>\n",
              "    <tr>\n",
              "      <th>4</th>\n",
              "      <td>01-12-2017</td>\n",
              "      <td>78</td>\n",
              "      <td>4</td>\n",
              "      <td>-6.0</td>\n",
              "      <td>36</td>\n",
              "      <td>2.3</td>\n",
              "      <td>2000</td>\n",
              "      <td>-18.600000</td>\n",
              "      <td>0.0</td>\n",
              "      <td>0.0</td>\n",
              "      <td>0.0</td>\n",
              "      <td>False</td>\n",
              "      <td>False</td>\n",
              "      <td>True</td>\n",
              "      <td>True</td>\n",
              "      <td>True</td>\n",
              "    </tr>\n",
              "  </tbody>\n",
              "</table>\n",
              "</div>"
            ],
            "text/plain": [
              "         Date  Rented Bike Count  Hour  Temperature(°C)  Humidity(%)  \\\n",
              "0  01-12-2017                254     0             -5.2           37   \n",
              "1  01-12-2017                204     1             -5.5           38   \n",
              "2  01-12-2017                173     2             -6.0           39   \n",
              "3  01-12-2017                107     3             -6.2           40   \n",
              "4  01-12-2017                 78     4             -6.0           36   \n",
              "\n",
              "   Wind speed (m/s)  Visibility (10m)  Dew point temperature(°C)  \\\n",
              "0               2.2              2000                 -17.600000   \n",
              "1               0.8              2000                 -17.600000   \n",
              "2               1.0              2000                 -17.700001   \n",
              "3               0.9              2000                 -17.600000   \n",
              "4               2.3              2000                 -18.600000   \n",
              "\n",
              "   Solar Radiation (MJ/m2)  Rainfall(mm)  Snowfall (cm)  Seasons_Spring  \\\n",
              "0                      0.0           0.0            0.0           False   \n",
              "1                      0.0           0.0            0.0           False   \n",
              "2                      0.0           0.0            0.0           False   \n",
              "3                      0.0           0.0            0.0           False   \n",
              "4                      0.0           0.0            0.0           False   \n",
              "\n",
              "   Seasons_Summer  Seasons_Winter  Holiday_No Holiday  Functioning Day_Yes  \n",
              "0           False            True                True                 True  \n",
              "1           False            True                True                 True  \n",
              "2           False            True                True                 True  \n",
              "3           False            True                True                 True  \n",
              "4           False            True                True                 True  "
            ]
          },
          "metadata": {},
          "output_type": "display_data"
        }
      ],
      "source": [
        "\n",
        "# =======================================================\n",
        "# Encode categorical variables using one-hot encoding\n",
        "# =======================================================\n",
        "df_encoded = pd.get_dummies(df, columns=['Seasons', 'Holiday', 'Functioning Day'], drop_first=True)\n",
        "\n",
        "# Export the encoded DataFrame to a CSV file\n",
        "df_encoded.to_csv('Rental_Bike_Data_Dummy.csv', index=False)\n",
        "\n",
        "print(\"--- Data successfully encoded and exported to Rental_Bike_Data_Dummy.csv ---\")\n",
        "display(df_encoded.head())"
      ]
    },
    {
      "cell_type": "markdown",
      "metadata": {
        "id": "XtIRXeK-pEug"
      },
      "source": [
        "-----\n",
        "\n",
        "\n",
        "## Task 4: Advanced Data Visualization\n",
        "\n",
        "Visualizations help in understanding complex data quickly. Here we create several plots to uncover trends, correlations, and outliers.\n",
        "\n",
        "\n",
        "-----\n",
        "\n",
        "\n",
        "\n"
      ]
    },
    {
      "cell_type": "code",
      "execution_count": 5,
      "metadata": {
        "id": "Fm7Wbe-PpEug"
      },
      "outputs": [
        {
          "data": {
            "image/png": "[encoded data removed]",
            "text/plain": [
              "<Figure size 2000x2400 with 6 Axes>"
            ]
          },
          "metadata": {},
          "output_type": "display_data"
        }
      ],
      "source": [
        "# =======================================================\n",
        "# Create a figure with 3x2 subplots for better organization\n",
        "# =======================================================\n",
        "# Create a 3x2 grid to fit all plots\n",
        "fig, axes = plt.subplots(3, 2, figsize=(20, 24))\n",
        "\n",
        "# --- Row 1 ---\n",
        "# Bar Plot (Top-Left)\n",
        "sns.barplot(ax=axes[0, 0], x='Seasons', y='Rented Bike Count', data=seasonal_avg)\n",
        "axes[0, 0].set_title('Average Rentals by Season')\n",
        "\n",
        "# Line Plot (Top-Right)\n",
        "sns.lineplot(ax=axes[0, 1], x='Hour', y='Rented Bike Count', data=df)\n",
        "axes[0, 1].set_title('Hourly Rental Trends')\n",
        "\n",
        "# --- Row 2 ---\n",
        "# Heatmap (takes up the whole second row)\n",
        "# Select only numerical columns and calculate the correlation\n",
        "numerical_cols = df.select_dtypes(include=np.number)\n",
        "corr_matrix = numerical_cols.corr()\n",
        "\n",
        "# Now you can create the heatmap because corr_matrix exists\n",
        "sns.heatmap(ax=axes[1, 0], data=corr_matrix, annot=True, cmap='coolwarm')\n",
        "axes[1, 0].set_title('Correlation Matrix')\n",
        "fig.delaxes(axes[1, 1]) # Delete the unused subplot on the right\n",
        "\n",
        "# --- Row 3 ---\n",
        "# Box Plot 1 (Bottom-Left)\n",
        "sns.boxplot(ax=axes[2, 0], y=df['Rented Bike Count'])\n",
        "axes[2, 0].set_title('Outlier Detection in Rented Bike Count')\n",
        "\n",
        "# Box Plot 2 (Bottom-Right)\n",
        "sns.boxplot(ax=axes[2, 1], y=df['Temperature(°C)'])\n",
        "axes[2, 1].set_title('Outlier Detection in Temperature (°C)')\n",
        "\n",
        "plt.tight_layout()\n",
        "plt.show()"
      ]
    },
    {
      "cell_type": "markdown",
      "metadata": {},
      "source": [
        "## Task 5: Flag and Investigate Outliers"
      ]
    },
    {
      "cell_type": "code",
      "execution_count": 6,
      "metadata": {},
      "outputs": [
        {
          "name": "stdout",
          "output_type": "stream",
          "text": [
            "--- Top 5 Dates with Extreme Rental Spikes ---\n"
          ]
        },
        {
          "data": {
            "application/vnd.microsoft.datawrangler.viewer.v0+json": {
              "columns": [
                {
                  "name": "index",
                  "rawType": "int64",
                  "type": "integer"
                },
                {
                  "name": "Date",
                  "rawType": "object",
                  "type": "string"
                },
                {
                  "name": "Rented Bike Count",
                  "rawType": "int16",
                  "type": "integer"
                },
                {
                  "name": "Hour",
                  "rawType": "int8",
                  "type": "integer"
                },
                {
                  "name": "Temperature(°C)",
                  "rawType": "float32",
                  "type": "float"
                },
                {
                  "name": "Humidity(%)",
                  "rawType": "int8",
                  "type": "integer"
                },
                {
                  "name": "Wind speed (m/s)",
                  "rawType": "float32",
                  "type": "float"
                },
                {
                  "name": "Visibility (10m)",
                  "rawType": "int16",
                  "type": "integer"
                },
                {
                  "name": "Dew point temperature(°C)",
                  "rawType": "float32",
                  "type": "float"
                },
                {
                  "name": "Solar Radiation (MJ/m2)",
                  "rawType": "float32",
                  "type": "float"
                },
                {
                  "name": "Rainfall(mm)",
                  "rawType": "float32",
                  "type": "float"
                },
                {
                  "name": "Snowfall (cm)",
                  "rawType": "float32",
                  "type": "float"
                },
                {
                  "name": "Seasons",
                  "rawType": "object",
                  "type": "string"
                },
                {
                  "name": "Holiday",
                  "rawType": "object",
                  "type": "string"
                },
                {
                  "name": "Functioning Day",
                  "rawType": "object",
                  "type": "string"
                }
              ],
              "ref": "c78a1b2d-2269-49d0-bc8a-4619ec556640",
              "rows": [
                [
                  "4818",
                  "19-06-2018",
                  "3556",
                  "18",
                  "24.1",
                  "57",
                  "2.9",
                  "1301",
                  "15.0",
                  "0.56",
                  "0.0",
                  "0.0",
                  "Summer",
                  "No Holiday",
                  "Yes"
                ],
                [
                  "4866",
                  "21-06-2018",
                  "3418",
                  "18",
                  "27.8",
                  "43",
                  "3.0",
                  "1933",
                  "14.0",
                  "1.35",
                  "0.0",
                  "0.0",
                  "Summer",
                  "No Holiday",
                  "Yes"
                ],
                [
                  "4650",
                  "12-06-2018",
                  "3404",
                  "18",
                  "24.9",
                  "53",
                  "3.6",
                  "2000",
                  "14.6",
                  "1.28",
                  "0.0",
                  "0.0",
                  "Summer",
                  "No Holiday",
                  "Yes"
                ],
                [
                  "4842",
                  "20-06-2018",
                  "3384",
                  "18",
                  "27.0",
                  "55",
                  "3.1",
                  "1246",
                  "17.1",
                  "1.26",
                  "0.0",
                  "0.0",
                  "Summer",
                  "No Holiday",
                  "Yes"
                ],
                [
                  "4458",
                  "04-06-2018",
                  "3380",
                  "18",
                  "24.4",
                  "48",
                  "1.9",
                  "1998",
                  "12.6",
                  "0.56",
                  "0.0",
                  "0.0",
                  "Summer",
                  "No Holiday",
                  "Yes"
                ]
              ],
              "shape": {
                "columns": 14,
                "rows": 5
              }
            },
            "text/html": [
              "<div>\n",
              "<style scoped>\n",
              "    .dataframe tbody tr th:only-of-type {\n",
              "        vertical-align: middle;\n",
              "    }\n",
              "\n",
              "    .dataframe tbody tr th {\n",
              "        vertical-align: top;\n",
              "    }\n",
              "\n",
              "    .dataframe thead th {\n",
              "        text-align: right;\n",
              "    }\n",
              "</style>\n",
              "<table border=\"1\" class=\"dataframe\">\n",
              "  <thead>\n",
              "    <tr style=\"text-align: right;\">\n",
              "      <th></th>\n",
              "      <th>Date</th>\n",
              "      <th>Rented Bike Count</th>\n",
              "      <th>Hour</th>\n",
              "      <th>Temperature(°C)</th>\n",
              "      <th>Humidity(%)</th>\n",
              "      <th>Wind speed (m/s)</th>\n",
              "      <th>Visibility (10m)</th>\n",
              "      <th>Dew point temperature(°C)</th>\n",
              "      <th>Solar Radiation (MJ/m2)</th>\n",
              "      <th>Rainfall(mm)</th>\n",
              "      <th>Snowfall (cm)</th>\n",
              "      <th>Seasons</th>\n",
              "      <th>Holiday</th>\n",
              "      <th>Functioning Day</th>\n",
              "    </tr>\n",
              "  </thead>\n",
              "  <tbody>\n",
              "    <tr>\n",
              "      <th>4818</th>\n",
              "      <td>19-06-2018</td>\n",
              "      <td>3556</td>\n",
              "      <td>18</td>\n",
              "      <td>24.100000</td>\n",
              "      <td>57</td>\n",
              "      <td>2.9</td>\n",
              "      <td>1301</td>\n",
              "      <td>15.0</td>\n",
              "      <td>0.56</td>\n",
              "      <td>0.0</td>\n",
              "      <td>0.0</td>\n",
              "      <td>Summer</td>\n",
              "      <td>No Holiday</td>\n",
              "      <td>Yes</td>\n",
              "    </tr>\n",
              "    <tr>\n",
              "      <th>4866</th>\n",
              "      <td>21-06-2018</td>\n",
              "      <td>3418</td>\n",
              "      <td>18</td>\n",
              "      <td>27.799999</td>\n",
              "      <td>43</td>\n",
              "      <td>3.0</td>\n",
              "      <td>1933</td>\n",
              "      <td>14.0</td>\n",
              "      <td>1.35</td>\n",
              "      <td>0.0</td>\n",
              "      <td>0.0</td>\n",
              "      <td>Summer</td>\n",
              "      <td>No Holiday</td>\n",
              "      <td>Yes</td>\n",
              "    </tr>\n",
              "    <tr>\n",
              "      <th>4650</th>\n",
              "      <td>12-06-2018</td>\n",
              "      <td>3404</td>\n",
              "      <td>18</td>\n",
              "      <td>24.900000</td>\n",
              "      <td>53</td>\n",
              "      <td>3.6</td>\n",
              "      <td>2000</td>\n",
              "      <td>14.6</td>\n",
              "      <td>1.28</td>\n",
              "      <td>0.0</td>\n",
              "      <td>0.0</td>\n",
              "      <td>Summer</td>\n",
              "      <td>No Holiday</td>\n",
              "      <td>Yes</td>\n",
              "    </tr>\n",
              "    <tr>\n",
              "      <th>4842</th>\n",
              "      <td>20-06-2018</td>\n",
              "      <td>3384</td>\n",
              "      <td>18</td>\n",
              "      <td>27.000000</td>\n",
              "      <td>55</td>\n",
              "      <td>3.1</td>\n",
              "      <td>1246</td>\n",
              "      <td>17.1</td>\n",
              "      <td>1.26</td>\n",
              "      <td>0.0</td>\n",
              "      <td>0.0</td>\n",
              "      <td>Summer</td>\n",
              "      <td>No Holiday</td>\n",
              "      <td>Yes</td>\n",
              "    </tr>\n",
              "    <tr>\n",
              "      <th>4458</th>\n",
              "      <td>04-06-2018</td>\n",
              "      <td>3380</td>\n",
              "      <td>18</td>\n",
              "      <td>24.400000</td>\n",
              "      <td>48</td>\n",
              "      <td>1.9</td>\n",
              "      <td>1998</td>\n",
              "      <td>12.6</td>\n",
              "      <td>0.56</td>\n",
              "      <td>0.0</td>\n",
              "      <td>0.0</td>\n",
              "      <td>Summer</td>\n",
              "      <td>No Holiday</td>\n",
              "      <td>Yes</td>\n",
              "    </tr>\n",
              "  </tbody>\n",
              "</table>\n",
              "</div>"
            ],
            "text/plain": [
              "            Date  Rented Bike Count  Hour  Temperature(°C)  Humidity(%)  \\\n",
              "4818  19-06-2018               3556    18        24.100000           57   \n",
              "4866  21-06-2018               3418    18        27.799999           43   \n",
              "4650  12-06-2018               3404    18        24.900000           53   \n",
              "4842  20-06-2018               3384    18        27.000000           55   \n",
              "4458  04-06-2018               3380    18        24.400000           48   \n",
              "\n",
              "      Wind speed (m/s)  Visibility (10m)  Dew point temperature(°C)  \\\n",
              "4818               2.9              1301                       15.0   \n",
              "4866               3.0              1933                       14.0   \n",
              "4650               3.6              2000                       14.6   \n",
              "4842               3.1              1246                       17.1   \n",
              "4458               1.9              1998                       12.6   \n",
              "\n",
              "      Solar Radiation (MJ/m2)  Rainfall(mm)  Snowfall (cm) Seasons  \\\n",
              "4818                     0.56           0.0            0.0  Summer   \n",
              "4866                     1.35           0.0            0.0  Summer   \n",
              "4650                     1.28           0.0            0.0  Summer   \n",
              "4842                     1.26           0.0            0.0  Summer   \n",
              "4458                     0.56           0.0            0.0  Summer   \n",
              "\n",
              "         Holiday Functioning Day  \n",
              "4818  No Holiday             Yes  \n",
              "4866  No Holiday             Yes  \n",
              "4650  No Holiday             Yes  \n",
              "4842  No Holiday             Yes  \n",
              "4458  No Holiday             Yes  "
            ]
          },
          "metadata": {},
          "output_type": "display_data"
        }
      ],
      "source": [
        "#  Flag and Investigate Outliers\n",
        "\n",
        "# =======================================================\n",
        "#  OUTLIER FLAGGING AND INVESTIGATION\n",
        "# =======================================================\n",
        "# Identify the threshold for outliers (e.g., anything above the 99th percentile)\n",
        "outlier_threshold = df['Rented Bike Count'].quantile(0.99)\n",
        "\n",
        "# Filter for days where rentals exceeded this threshold\n",
        "extreme_rentals = df[df['Rented Bike Count'] > outlier_threshold]\n",
        "\n",
        "# Display the top 5 dates with the highest rental counts\n",
        "print(\"--- Top 5 Dates with Extreme Rental Spikes ---\")\n",
        "display(extreme_rentals.sort_values('Rented Bike Count', ascending=False).head())\n"
      ]
    },
    {
      "cell_type": "markdown",
      "metadata": {},
      "source": [
        "## Task 6: Insights & Business Recommendations"
      ]
    },
    {
      "cell_type": "markdown",
      "metadata": {
        "id": "_5K4d8QVpEug"
      },
      "source": [
        "-----\n",
        "\n",
        "\n",
        "\n",
        "\n",
        "## 💡 Insights & Business Recommendations\n",
        "\n",
        "Based on the analysis, here are key insights and actionable recommendations for BikeEase.\n",
        "\n",
        "### Key Insights:\n",
        "1.  **Strong Seasonality:** Bike rentals peak in the **Summer** and are lowest in the **Winter**. This shows a strong dependence on weather and seasons.\n",
        "2.  **Peak Commuting Hours:** Rentals spike significantly during morning (around **8 AM**) and evening (around **6 PM**) commute times, indicating heavy usage by professionals.\n",
        "3.  **Temperature is Key:** The heatmap shows a strong positive correlation (**0.54**) between `Temperature(°C)` and `Rented Bike Count`. Warmer days lead to more rentals. `Hour` also has a strong positive correlation (**0.41**).\n",
        "4.  **Holiday Impact:** Fewer bikes are rented on holidays compared to regular working days, suggesting the primary user base is commuters rather than tourists.\n",
        "5.  **Outliers Exist:** The box plot shows a number of high-value outliers for `Rented Bike Count`, likely corresponding to special events or perfect weather days.\n",
        "\n",
        "### Actionable Recommendations:\n",
        "* **Dynamic Resource Allocation:**\n",
        "    * **Recommendation:** Increase the number of available bikes and maintenance staff during the **Summer** and allocate more bikes to business districts ahead of the **8 AM** and **6 PM** peaks.\n",
        "    * **Action:** Conversely, reduce operational costs during Winter by storing a portion of the fleet.\n",
        "* **Targeted Marketing Campaigns:**\n",
        "    * **Recommendation:** Launch marketing campaigns in late **Spring** to build momentum for the peak Summer season. Offer special promotions on weekends to attract more leisure riders.\n",
        "    * **Action:** Create a \"commuter pass\" for users who frequently rent during peak hours.\n",
        "* **Demand Forecasting with Weather Data:**\n",
        "    * **Recommendation:** Integrate a reliable weather forecast API. Since temperature is a key driver, use temperature forecasts to predict daily demand.\n",
        "    * **Action:** Develop a simple predictive model where `Predicted Rentals = f(Temperature Forecast, Hour, IsHoliday)`. This will help optimize bike distribution with high accuracy.\n"
      ]
    }
  ],
  "metadata": {
    "colab": {
      "provenance": []
    },
    "kernelspec": {
      "display_name": "base",
      "language": "python",
      "name": "python3"
    },
    "language_info": {
      "codemirror_mode": {
        "name": "ipython",
        "version": 3
      },
      "file_extension": ".py",
      "mimetype": "text/x-python",
      "name": "python",
      "nbconvert_exporter": "python",
      "pygments_lexer": "ipython3",
      "version": "3.12.7"
    }
  },
  "nbformat": 4,
  "nbformat_minor": 0
}
